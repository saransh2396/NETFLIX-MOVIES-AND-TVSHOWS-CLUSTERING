{
  "nbformat": 4,
  "nbformat_minor": 0,
  "metadata": {
    "colab": {
      "name": "27 Dec.ipynb",
      "provenance": [],
      "collapsed_sections": [],
      "include_colab_link": true
    },
    "kernelspec": {
      "name": "python3",
      "display_name": "Python 3"
    },
    "language_info": {
      "name": "python"
    },
    "accelerator": "GPU"
  },
  "cells": [
    {
      "cell_type": "markdown",
      "metadata": {
        "id": "view-in-github",
        "colab_type": "text"
      },
      "source": [
        "<a href=\"https://colab.research.google.com/github/saransh2396/NETFLIX-MOVIES-AND-TVSHOWS-CLUSTERING/blob/main/27_Dec.ipynb\" target=\"_parent\"><img src=\"https://colab.research.google.com/assets/colab-badge.svg\" alt=\"Open In Colab\"/></a>"
      ]
    },
    {
      "cell_type": "markdown",
      "metadata": {
        "id": "LGcl5Bv9ed6u"
      },
      "source": [
        "# **Problem Statement**"
      ]
    },
    {
      "cell_type": "markdown",
      "metadata": {
        "id": "8M5kyFaVjzXk"
      },
      "source": [
        "This dataset consists of tv shows and movies available on Netflix as of 2019. The dataset is collected from Flixable which is a third-party Netflix search engine.\n",
        "\n",
        "In 2018, they released an interesting report which shows that the number of TV shows on Netflix has nearly tripled since 2010. The streaming service’s number of movies has decreased by more than 2,000 titles since 2010, while its number of TV shows has nearly tripled. It will be interesting to explore what all other insights can be obtained from the same dataset.\n",
        "\n",
        "Integrating this dataset with other external datasets such as IMDB ratings, rotten tomatoes can also provide many interesting findings."
      ]
    },
    {
      "cell_type": "markdown",
      "metadata": {
        "id": "tLx5cJO8hzb1"
      },
      "source": [
        "## <b>In this  project, you are required to do </b>\n",
        "1. Exploratory Data Analysis \n",
        "\n",
        "2. Understanding what type content is available in different countries\n",
        "\n",
        "3. Is Netflix has increasingly focusing on TV rather than movies in recent years.\n",
        "4. Clustering similar content by matching text-based features\n",
        "\n"
      ]
    },
    {
      "cell_type": "markdown",
      "metadata": {
        "id": "AzGDqdC4fZ-b"
      },
      "source": [
        "# **Attribute Information**"
      ]
    },
    {
      "cell_type": "markdown",
      "metadata": {
        "id": "jhfLYargscGV"
      },
      "source": [
        "1. show_id : Unique ID for every Movie / Tv Show\n",
        "\n",
        "2. type : Identifier - A Movie or TV Show\n",
        "\n",
        "3. title : Title of the Movie / Tv Show\n",
        "\n",
        "4. director : Director of the Movie\n",
        "\n",
        "5. cast : Actors involved in the movie / show\n",
        "\n",
        "6. country : Country where the movie / show was produced\n",
        "\n",
        "7. date_added : Date it was added on Netflix\n",
        "\n",
        "8. release_year : Actual Releaseyear of the movie / show\n",
        "\n",
        "9. rating : TV Rating of the movie / show\n",
        "\n",
        "10. duration : Total Duration - in minutes or number of seasons\n",
        "\n",
        "11. listed_in : Genere\n",
        "\n",
        "12. description: The Summary description"
      ]
    },
    {
      "cell_type": "code",
      "source": [
        "from google.colab import drive\n",
        "drive.mount('/content/drive')"
      ],
      "metadata": {
        "colab": {
          "base_uri": "https://localhost:8080/"
        },
        "id": "6sgPUbZL0jv7",
        "outputId": "ce29eb1b-1e26-436a-8712-66b94a352b80"
      },
      "execution_count": null,
      "outputs": [
        {
          "output_type": "stream",
          "name": "stdout",
          "text": [
            "Mounted at /content/drive\n"
          ]
        }
      ]
    },
    {
      "cell_type": "code",
      "source": [
        "#importing the libraries\n",
        "import numpy as np\n",
        "import pandas as pd\n",
        "import seaborn as sns\n",
        "import matplotlib.pyplot as plt\n",
        "import re\n",
        "from nltk.corpus import stopwords\n",
        "from nltk.tokenize import word_tokenize\n",
        "from nltk.corpus import stopwords\n",
        "from string import punctuation\n",
        "from collections import Counter"
      ],
      "metadata": {
        "id": "nifufpU20rFv"
      },
      "execution_count": null,
      "outputs": []
    },
    {
      "cell_type": "code",
      "source": [
        "df = pd.read_csv('/content/drive/MyDrive/NETFLIX MOVIES AND TV SHOWS CLUSTERING - Saransh Srivastava/NETFLIX MOVIES AND TV SHOWS CLUSTERING.csv')\n",
        "df.head()"
      ],
      "metadata": {
        "colab": {
          "base_uri": "https://localhost:8080/",
          "height": 337
        },
        "id": "FqdHePGM0rHT",
        "outputId": "f982068e-a925-4e94-93a9-ec11be406874"
      },
      "execution_count": null,
      "outputs": [
        {
          "output_type": "execute_result",
          "data": {
            "text/html": [
              "\n",
              "  <div id=\"df-3aa41c77-316b-4dc0-bd2a-0d8a628a0062\">\n",
              "    <div class=\"colab-df-container\">\n",
              "      <div>\n",
              "<style scoped>\n",
              "    .dataframe tbody tr th:only-of-type {\n",
              "        vertical-align: middle;\n",
              "    }\n",
              "\n",
              "    .dataframe tbody tr th {\n",
              "        vertical-align: top;\n",
              "    }\n",
              "\n",
              "    .dataframe thead th {\n",
              "        text-align: right;\n",
              "    }\n",
              "</style>\n",
              "<table border=\"1\" class=\"dataframe\">\n",
              "  <thead>\n",
              "    <tr style=\"text-align: right;\">\n",
              "      <th></th>\n",
              "      <th>show_id</th>\n",
              "      <th>type</th>\n",
              "      <th>title</th>\n",
              "      <th>director</th>\n",
              "      <th>cast</th>\n",
              "      <th>country</th>\n",
              "      <th>date_added</th>\n",
              "      <th>release_year</th>\n",
              "      <th>rating</th>\n",
              "      <th>duration</th>\n",
              "      <th>listed_in</th>\n",
              "      <th>description</th>\n",
              "    </tr>\n",
              "  </thead>\n",
              "  <tbody>\n",
              "    <tr>\n",
              "      <th>0</th>\n",
              "      <td>s1</td>\n",
              "      <td>TV Show</td>\n",
              "      <td>3%</td>\n",
              "      <td>NaN</td>\n",
              "      <td>João Miguel, Bianca Comparato, Michel Gomes, R...</td>\n",
              "      <td>Brazil</td>\n",
              "      <td>August 14, 2020</td>\n",
              "      <td>2020</td>\n",
              "      <td>TV-MA</td>\n",
              "      <td>4 Seasons</td>\n",
              "      <td>International TV Shows, TV Dramas, TV Sci-Fi &amp;...</td>\n",
              "      <td>In a future where the elite inhabit an island ...</td>\n",
              "    </tr>\n",
              "    <tr>\n",
              "      <th>1</th>\n",
              "      <td>s2</td>\n",
              "      <td>Movie</td>\n",
              "      <td>7:19</td>\n",
              "      <td>Jorge Michel Grau</td>\n",
              "      <td>Demián Bichir, Héctor Bonilla, Oscar Serrano, ...</td>\n",
              "      <td>Mexico</td>\n",
              "      <td>December 23, 2016</td>\n",
              "      <td>2016</td>\n",
              "      <td>TV-MA</td>\n",
              "      <td>93 min</td>\n",
              "      <td>Dramas, International Movies</td>\n",
              "      <td>After a devastating earthquake hits Mexico Cit...</td>\n",
              "    </tr>\n",
              "    <tr>\n",
              "      <th>2</th>\n",
              "      <td>s3</td>\n",
              "      <td>Movie</td>\n",
              "      <td>23:59</td>\n",
              "      <td>Gilbert Chan</td>\n",
              "      <td>Tedd Chan, Stella Chung, Henley Hii, Lawrence ...</td>\n",
              "      <td>Singapore</td>\n",
              "      <td>December 20, 2018</td>\n",
              "      <td>2011</td>\n",
              "      <td>R</td>\n",
              "      <td>78 min</td>\n",
              "      <td>Horror Movies, International Movies</td>\n",
              "      <td>When an army recruit is found dead, his fellow...</td>\n",
              "    </tr>\n",
              "    <tr>\n",
              "      <th>3</th>\n",
              "      <td>s4</td>\n",
              "      <td>Movie</td>\n",
              "      <td>9</td>\n",
              "      <td>Shane Acker</td>\n",
              "      <td>Elijah Wood, John C. Reilly, Jennifer Connelly...</td>\n",
              "      <td>United States</td>\n",
              "      <td>November 16, 2017</td>\n",
              "      <td>2009</td>\n",
              "      <td>PG-13</td>\n",
              "      <td>80 min</td>\n",
              "      <td>Action &amp; Adventure, Independent Movies, Sci-Fi...</td>\n",
              "      <td>In a postapocalyptic world, rag-doll robots hi...</td>\n",
              "    </tr>\n",
              "    <tr>\n",
              "      <th>4</th>\n",
              "      <td>s5</td>\n",
              "      <td>Movie</td>\n",
              "      <td>21</td>\n",
              "      <td>Robert Luketic</td>\n",
              "      <td>Jim Sturgess, Kevin Spacey, Kate Bosworth, Aar...</td>\n",
              "      <td>United States</td>\n",
              "      <td>January 1, 2020</td>\n",
              "      <td>2008</td>\n",
              "      <td>PG-13</td>\n",
              "      <td>123 min</td>\n",
              "      <td>Dramas</td>\n",
              "      <td>A brilliant group of students become card-coun...</td>\n",
              "    </tr>\n",
              "  </tbody>\n",
              "</table>\n",
              "</div>\n",
              "      <button class=\"colab-df-convert\" onclick=\"convertToInteractive('df-3aa41c77-316b-4dc0-bd2a-0d8a628a0062')\"\n",
              "              title=\"Convert this dataframe to an interactive table.\"\n",
              "              style=\"display:none;\">\n",
              "        \n",
              "  <svg xmlns=\"http://www.w3.org/2000/svg\" height=\"24px\"viewBox=\"0 0 24 24\"\n",
              "       width=\"24px\">\n",
              "    <path d=\"M0 0h24v24H0V0z\" fill=\"none\"/>\n",
              "    <path d=\"M18.56 5.44l.94 2.06.94-2.06 2.06-.94-2.06-.94-.94-2.06-.94 2.06-2.06.94zm-11 1L8.5 8.5l.94-2.06 2.06-.94-2.06-.94L8.5 2.5l-.94 2.06-2.06.94zm10 10l.94 2.06.94-2.06 2.06-.94-2.06-.94-.94-2.06-.94 2.06-2.06.94z\"/><path d=\"M17.41 7.96l-1.37-1.37c-.4-.4-.92-.59-1.43-.59-.52 0-1.04.2-1.43.59L10.3 9.45l-7.72 7.72c-.78.78-.78 2.05 0 2.83L4 21.41c.39.39.9.59 1.41.59.51 0 1.02-.2 1.41-.59l7.78-7.78 2.81-2.81c.8-.78.8-2.07 0-2.86zM5.41 20L4 18.59l7.72-7.72 1.47 1.35L5.41 20z\"/>\n",
              "  </svg>\n",
              "      </button>\n",
              "      \n",
              "  <style>\n",
              "    .colab-df-container {\n",
              "      display:flex;\n",
              "      flex-wrap:wrap;\n",
              "      gap: 12px;\n",
              "    }\n",
              "\n",
              "    .colab-df-convert {\n",
              "      background-color: #E8F0FE;\n",
              "      border: none;\n",
              "      border-radius: 50%;\n",
              "      cursor: pointer;\n",
              "      display: none;\n",
              "      fill: #1967D2;\n",
              "      height: 32px;\n",
              "      padding: 0 0 0 0;\n",
              "      width: 32px;\n",
              "    }\n",
              "\n",
              "    .colab-df-convert:hover {\n",
              "      background-color: #E2EBFA;\n",
              "      box-shadow: 0px 1px 2px rgba(60, 64, 67, 0.3), 0px 1px 3px 1px rgba(60, 64, 67, 0.15);\n",
              "      fill: #174EA6;\n",
              "    }\n",
              "\n",
              "    [theme=dark] .colab-df-convert {\n",
              "      background-color: #3B4455;\n",
              "      fill: #D2E3FC;\n",
              "    }\n",
              "\n",
              "    [theme=dark] .colab-df-convert:hover {\n",
              "      background-color: #434B5C;\n",
              "      box-shadow: 0px 1px 3px 1px rgba(0, 0, 0, 0.15);\n",
              "      filter: drop-shadow(0px 1px 2px rgba(0, 0, 0, 0.3));\n",
              "      fill: #FFFFFF;\n",
              "    }\n",
              "  </style>\n",
              "\n",
              "      <script>\n",
              "        const buttonEl =\n",
              "          document.querySelector('#df-3aa41c77-316b-4dc0-bd2a-0d8a628a0062 button.colab-df-convert');\n",
              "        buttonEl.style.display =\n",
              "          google.colab.kernel.accessAllowed ? 'block' : 'none';\n",
              "\n",
              "        async function convertToInteractive(key) {\n",
              "          const element = document.querySelector('#df-3aa41c77-316b-4dc0-bd2a-0d8a628a0062');\n",
              "          const dataTable =\n",
              "            await google.colab.kernel.invokeFunction('convertToInteractive',\n",
              "                                                     [key], {});\n",
              "          if (!dataTable) return;\n",
              "\n",
              "          const docLinkHtml = 'Like what you see? Visit the ' +\n",
              "            '<a target=\"_blank\" href=https://colab.research.google.com/notebooks/data_table.ipynb>data table notebook</a>'\n",
              "            + ' to learn more about interactive tables.';\n",
              "          element.innerHTML = '';\n",
              "          dataTable['output_type'] = 'display_data';\n",
              "          await google.colab.output.renderOutput(dataTable, element);\n",
              "          const docLink = document.createElement('div');\n",
              "          docLink.innerHTML = docLinkHtml;\n",
              "          element.appendChild(docLink);\n",
              "        }\n",
              "      </script>\n",
              "    </div>\n",
              "  </div>\n",
              "  "
            ],
            "text/plain": [
              "  show_id  ...                                        description\n",
              "0      s1  ...  In a future where the elite inhabit an island ...\n",
              "1      s2  ...  After a devastating earthquake hits Mexico Cit...\n",
              "2      s3  ...  When an army recruit is found dead, his fellow...\n",
              "3      s4  ...  In a postapocalyptic world, rag-doll robots hi...\n",
              "4      s5  ...  A brilliant group of students become card-coun...\n",
              "\n",
              "[5 rows x 12 columns]"
            ]
          },
          "metadata": {},
          "execution_count": 3
        }
      ]
    },
    {
      "cell_type": "code",
      "source": [
        "df.info()"
      ],
      "metadata": {
        "colab": {
          "base_uri": "https://localhost:8080/"
        },
        "id": "cYunIneK0rKV",
        "outputId": "f32b29bc-718a-4b5f-c796-8ac268e73664"
      },
      "execution_count": null,
      "outputs": [
        {
          "output_type": "stream",
          "name": "stdout",
          "text": [
            "<class 'pandas.core.frame.DataFrame'>\n",
            "RangeIndex: 7787 entries, 0 to 7786\n",
            "Data columns (total 12 columns):\n",
            " #   Column        Non-Null Count  Dtype \n",
            "---  ------        --------------  ----- \n",
            " 0   show_id       7787 non-null   object\n",
            " 1   type          7787 non-null   object\n",
            " 2   title         7787 non-null   object\n",
            " 3   director      5398 non-null   object\n",
            " 4   cast          7069 non-null   object\n",
            " 5   country       7280 non-null   object\n",
            " 6   date_added    7777 non-null   object\n",
            " 7   release_year  7787 non-null   int64 \n",
            " 8   rating        7780 non-null   object\n",
            " 9   duration      7787 non-null   object\n",
            " 10  listed_in     7787 non-null   object\n",
            " 11  description   7787 non-null   object\n",
            "dtypes: int64(1), object(11)\n",
            "memory usage: 730.2+ KB\n"
          ]
        }
      ]
    },
    {
      "cell_type": "code",
      "source": [
        "(df.isnull().sum()/len(df))*100"
      ],
      "metadata": {
        "colab": {
          "base_uri": "https://localhost:8080/"
        },
        "id": "iTcastEt0rN4",
        "outputId": "9803b38a-27d5-4372-d1c6-6d3d54ace83d"
      },
      "execution_count": null,
      "outputs": [
        {
          "output_type": "execute_result",
          "data": {
            "text/plain": [
              "show_id          0.000000\n",
              "type             0.000000\n",
              "title            0.000000\n",
              "director        30.679337\n",
              "cast             9.220496\n",
              "country          6.510851\n",
              "date_added       0.128419\n",
              "release_year     0.000000\n",
              "rating           0.089893\n",
              "duration         0.000000\n",
              "listed_in        0.000000\n",
              "description      0.000000\n",
              "dtype: float64"
            ]
          },
          "metadata": {},
          "execution_count": 5
        }
      ]
    },
    {
      "cell_type": "code",
      "source": [
        "df['director'].fillna(value='Not Mentioned',inplace=True)\n",
        "df['cast'].fillna(value='Not Mentioned',inplace=True)\n",
        "df['country'].fillna(value=df['country'].mode()[0],inplace=True)"
      ],
      "metadata": {
        "id": "SWcdAuiy2bwS"
      },
      "execution_count": null,
      "outputs": []
    },
    {
      "cell_type": "code",
      "source": [
        "df.dropna(axis=0,inplace=True)"
      ],
      "metadata": {
        "id": "-4-IcH7j1PNl"
      },
      "execution_count": null,
      "outputs": []
    },
    {
      "cell_type": "code",
      "source": [
        "(df.isnull().sum()/len(df))*100"
      ],
      "metadata": {
        "colab": {
          "base_uri": "https://localhost:8080/"
        },
        "id": "giTTOhjn1jmt",
        "outputId": "02300787-4ac0-4c2a-8014-cfaac7de9db8"
      },
      "execution_count": null,
      "outputs": [
        {
          "output_type": "execute_result",
          "data": {
            "text/plain": [
              "show_id         0.0\n",
              "type            0.0\n",
              "title           0.0\n",
              "director        0.0\n",
              "cast            0.0\n",
              "country         0.0\n",
              "date_added      0.0\n",
              "release_year    0.0\n",
              "rating          0.0\n",
              "duration        0.0\n",
              "listed_in       0.0\n",
              "description     0.0\n",
              "dtype: float64"
            ]
          },
          "metadata": {},
          "execution_count": 8
        }
      ]
    },
    {
      "cell_type": "code",
      "source": [
        "df.shape"
      ],
      "metadata": {
        "colab": {
          "base_uri": "https://localhost:8080/"
        },
        "id": "QRUcX1P-1lYU",
        "outputId": "c4b519bf-2c53-42e7-9fb4-b1fa3d59906d"
      },
      "execution_count": null,
      "outputs": [
        {
          "output_type": "execute_result",
          "data": {
            "text/plain": [
              "(7770, 12)"
            ]
          },
          "metadata": {},
          "execution_count": 9
        }
      ]
    },
    {
      "cell_type": "code",
      "source": [
        "df.head()"
      ],
      "metadata": {
        "colab": {
          "base_uri": "https://localhost:8080/",
          "height": 337
        },
        "id": "6mHGs-YZ1suC",
        "outputId": "e8e1a164-ca76-481a-952c-a2e602f7e9ce"
      },
      "execution_count": null,
      "outputs": [
        {
          "output_type": "execute_result",
          "data": {
            "text/html": [
              "\n",
              "  <div id=\"df-aad5b6db-f081-4ad0-8d57-ddadbbb65da4\">\n",
              "    <div class=\"colab-df-container\">\n",
              "      <div>\n",
              "<style scoped>\n",
              "    .dataframe tbody tr th:only-of-type {\n",
              "        vertical-align: middle;\n",
              "    }\n",
              "\n",
              "    .dataframe tbody tr th {\n",
              "        vertical-align: top;\n",
              "    }\n",
              "\n",
              "    .dataframe thead th {\n",
              "        text-align: right;\n",
              "    }\n",
              "</style>\n",
              "<table border=\"1\" class=\"dataframe\">\n",
              "  <thead>\n",
              "    <tr style=\"text-align: right;\">\n",
              "      <th></th>\n",
              "      <th>show_id</th>\n",
              "      <th>type</th>\n",
              "      <th>title</th>\n",
              "      <th>director</th>\n",
              "      <th>cast</th>\n",
              "      <th>country</th>\n",
              "      <th>date_added</th>\n",
              "      <th>release_year</th>\n",
              "      <th>rating</th>\n",
              "      <th>duration</th>\n",
              "      <th>listed_in</th>\n",
              "      <th>description</th>\n",
              "    </tr>\n",
              "  </thead>\n",
              "  <tbody>\n",
              "    <tr>\n",
              "      <th>0</th>\n",
              "      <td>s1</td>\n",
              "      <td>TV Show</td>\n",
              "      <td>3%</td>\n",
              "      <td>Not Mentioned</td>\n",
              "      <td>João Miguel, Bianca Comparato, Michel Gomes, R...</td>\n",
              "      <td>Brazil</td>\n",
              "      <td>August 14, 2020</td>\n",
              "      <td>2020</td>\n",
              "      <td>TV-MA</td>\n",
              "      <td>4 Seasons</td>\n",
              "      <td>International TV Shows, TV Dramas, TV Sci-Fi &amp;...</td>\n",
              "      <td>In a future where the elite inhabit an island ...</td>\n",
              "    </tr>\n",
              "    <tr>\n",
              "      <th>1</th>\n",
              "      <td>s2</td>\n",
              "      <td>Movie</td>\n",
              "      <td>7:19</td>\n",
              "      <td>Jorge Michel Grau</td>\n",
              "      <td>Demián Bichir, Héctor Bonilla, Oscar Serrano, ...</td>\n",
              "      <td>Mexico</td>\n",
              "      <td>December 23, 2016</td>\n",
              "      <td>2016</td>\n",
              "      <td>TV-MA</td>\n",
              "      <td>93 min</td>\n",
              "      <td>Dramas, International Movies</td>\n",
              "      <td>After a devastating earthquake hits Mexico Cit...</td>\n",
              "    </tr>\n",
              "    <tr>\n",
              "      <th>2</th>\n",
              "      <td>s3</td>\n",
              "      <td>Movie</td>\n",
              "      <td>23:59</td>\n",
              "      <td>Gilbert Chan</td>\n",
              "      <td>Tedd Chan, Stella Chung, Henley Hii, Lawrence ...</td>\n",
              "      <td>Singapore</td>\n",
              "      <td>December 20, 2018</td>\n",
              "      <td>2011</td>\n",
              "      <td>R</td>\n",
              "      <td>78 min</td>\n",
              "      <td>Horror Movies, International Movies</td>\n",
              "      <td>When an army recruit is found dead, his fellow...</td>\n",
              "    </tr>\n",
              "    <tr>\n",
              "      <th>3</th>\n",
              "      <td>s4</td>\n",
              "      <td>Movie</td>\n",
              "      <td>9</td>\n",
              "      <td>Shane Acker</td>\n",
              "      <td>Elijah Wood, John C. Reilly, Jennifer Connelly...</td>\n",
              "      <td>United States</td>\n",
              "      <td>November 16, 2017</td>\n",
              "      <td>2009</td>\n",
              "      <td>PG-13</td>\n",
              "      <td>80 min</td>\n",
              "      <td>Action &amp; Adventure, Independent Movies, Sci-Fi...</td>\n",
              "      <td>In a postapocalyptic world, rag-doll robots hi...</td>\n",
              "    </tr>\n",
              "    <tr>\n",
              "      <th>4</th>\n",
              "      <td>s5</td>\n",
              "      <td>Movie</td>\n",
              "      <td>21</td>\n",
              "      <td>Robert Luketic</td>\n",
              "      <td>Jim Sturgess, Kevin Spacey, Kate Bosworth, Aar...</td>\n",
              "      <td>United States</td>\n",
              "      <td>January 1, 2020</td>\n",
              "      <td>2008</td>\n",
              "      <td>PG-13</td>\n",
              "      <td>123 min</td>\n",
              "      <td>Dramas</td>\n",
              "      <td>A brilliant group of students become card-coun...</td>\n",
              "    </tr>\n",
              "  </tbody>\n",
              "</table>\n",
              "</div>\n",
              "      <button class=\"colab-df-convert\" onclick=\"convertToInteractive('df-aad5b6db-f081-4ad0-8d57-ddadbbb65da4')\"\n",
              "              title=\"Convert this dataframe to an interactive table.\"\n",
              "              style=\"display:none;\">\n",
              "        \n",
              "  <svg xmlns=\"http://www.w3.org/2000/svg\" height=\"24px\"viewBox=\"0 0 24 24\"\n",
              "       width=\"24px\">\n",
              "    <path d=\"M0 0h24v24H0V0z\" fill=\"none\"/>\n",
              "    <path d=\"M18.56 5.44l.94 2.06.94-2.06 2.06-.94-2.06-.94-.94-2.06-.94 2.06-2.06.94zm-11 1L8.5 8.5l.94-2.06 2.06-.94-2.06-.94L8.5 2.5l-.94 2.06-2.06.94zm10 10l.94 2.06.94-2.06 2.06-.94-2.06-.94-.94-2.06-.94 2.06-2.06.94z\"/><path d=\"M17.41 7.96l-1.37-1.37c-.4-.4-.92-.59-1.43-.59-.52 0-1.04.2-1.43.59L10.3 9.45l-7.72 7.72c-.78.78-.78 2.05 0 2.83L4 21.41c.39.39.9.59 1.41.59.51 0 1.02-.2 1.41-.59l7.78-7.78 2.81-2.81c.8-.78.8-2.07 0-2.86zM5.41 20L4 18.59l7.72-7.72 1.47 1.35L5.41 20z\"/>\n",
              "  </svg>\n",
              "      </button>\n",
              "      \n",
              "  <style>\n",
              "    .colab-df-container {\n",
              "      display:flex;\n",
              "      flex-wrap:wrap;\n",
              "      gap: 12px;\n",
              "    }\n",
              "\n",
              "    .colab-df-convert {\n",
              "      background-color: #E8F0FE;\n",
              "      border: none;\n",
              "      border-radius: 50%;\n",
              "      cursor: pointer;\n",
              "      display: none;\n",
              "      fill: #1967D2;\n",
              "      height: 32px;\n",
              "      padding: 0 0 0 0;\n",
              "      width: 32px;\n",
              "    }\n",
              "\n",
              "    .colab-df-convert:hover {\n",
              "      background-color: #E2EBFA;\n",
              "      box-shadow: 0px 1px 2px rgba(60, 64, 67, 0.3), 0px 1px 3px 1px rgba(60, 64, 67, 0.15);\n",
              "      fill: #174EA6;\n",
              "    }\n",
              "\n",
              "    [theme=dark] .colab-df-convert {\n",
              "      background-color: #3B4455;\n",
              "      fill: #D2E3FC;\n",
              "    }\n",
              "\n",
              "    [theme=dark] .colab-df-convert:hover {\n",
              "      background-color: #434B5C;\n",
              "      box-shadow: 0px 1px 3px 1px rgba(0, 0, 0, 0.15);\n",
              "      filter: drop-shadow(0px 1px 2px rgba(0, 0, 0, 0.3));\n",
              "      fill: #FFFFFF;\n",
              "    }\n",
              "  </style>\n",
              "\n",
              "      <script>\n",
              "        const buttonEl =\n",
              "          document.querySelector('#df-aad5b6db-f081-4ad0-8d57-ddadbbb65da4 button.colab-df-convert');\n",
              "        buttonEl.style.display =\n",
              "          google.colab.kernel.accessAllowed ? 'block' : 'none';\n",
              "\n",
              "        async function convertToInteractive(key) {\n",
              "          const element = document.querySelector('#df-aad5b6db-f081-4ad0-8d57-ddadbbb65da4');\n",
              "          const dataTable =\n",
              "            await google.colab.kernel.invokeFunction('convertToInteractive',\n",
              "                                                     [key], {});\n",
              "          if (!dataTable) return;\n",
              "\n",
              "          const docLinkHtml = 'Like what you see? Visit the ' +\n",
              "            '<a target=\"_blank\" href=https://colab.research.google.com/notebooks/data_table.ipynb>data table notebook</a>'\n",
              "            + ' to learn more about interactive tables.';\n",
              "          element.innerHTML = '';\n",
              "          dataTable['output_type'] = 'display_data';\n",
              "          await google.colab.output.renderOutput(dataTable, element);\n",
              "          const docLink = document.createElement('div');\n",
              "          docLink.innerHTML = docLinkHtml;\n",
              "          element.appendChild(docLink);\n",
              "        }\n",
              "      </script>\n",
              "    </div>\n",
              "  </div>\n",
              "  "
            ],
            "text/plain": [
              "  show_id  ...                                        description\n",
              "0      s1  ...  In a future where the elite inhabit an island ...\n",
              "1      s2  ...  After a devastating earthquake hits Mexico Cit...\n",
              "2      s3  ...  When an army recruit is found dead, his fellow...\n",
              "3      s4  ...  In a postapocalyptic world, rag-doll robots hi...\n",
              "4      s5  ...  A brilliant group of students become card-coun...\n",
              "\n",
              "[5 rows x 12 columns]"
            ]
          },
          "metadata": {},
          "execution_count": 10
        }
      ]
    },
    {
      "cell_type": "code",
      "source": [
        "df['year_added'] = df['date_added'].apply(lambda x: x.split(\" \")[-1])\n",
        "df['year_added'].head()"
      ],
      "metadata": {
        "colab": {
          "base_uri": "https://localhost:8080/"
        },
        "id": "n1zxE-_D92zk",
        "outputId": "c5f15b55-e5da-4ebe-920c-dc4b0d1d7526"
      },
      "execution_count": null,
      "outputs": [
        {
          "output_type": "execute_result",
          "data": {
            "text/plain": [
              "0    2020\n",
              "1    2016\n",
              "2    2018\n",
              "3    2017\n",
              "4    2020\n",
              "Name: year_added, dtype: object"
            ]
          },
          "metadata": {},
          "execution_count": 11
        }
      ]
    },
    {
      "cell_type": "code",
      "source": [
        "df['month_added'] = df['date_added'].apply(lambda x: x.split(\" \")[0])\n",
        "df['month_added'].head()"
      ],
      "metadata": {
        "colab": {
          "base_uri": "https://localhost:8080/"
        },
        "id": "GXnmrYmo922V",
        "outputId": "a5428b5c-44e2-4113-d3ea-162fc6e797a4"
      },
      "execution_count": null,
      "outputs": [
        {
          "output_type": "execute_result",
          "data": {
            "text/plain": [
              "0      August\n",
              "1    December\n",
              "2    December\n",
              "3    November\n",
              "4     January\n",
              "Name: month_added, dtype: object"
            ]
          },
          "metadata": {},
          "execution_count": 12
        }
      ]
    },
    {
      "cell_type": "code",
      "source": [
        "ratings_ages = {\n",
        "    'TV-PG': 'Older Kids',\n",
        "    'TV-MA': 'Adults',\n",
        "    'TV-Y7-FV': 'Older Kids',\n",
        "    'TV-Y7': 'Older Kids',\n",
        "    'TV-14': 'Teens',\n",
        "    'R': 'Adults',\n",
        "    'TV-Y': 'Kids',\n",
        "    'NR': 'Adults',\n",
        "    'PG-13': 'Teens',\n",
        "    'TV-G': 'Kids',\n",
        "    'PG': 'Older Kids',\n",
        "    'G': 'Kids',\n",
        "    'UR': 'Adults',\n",
        "    'NC-17': 'Adults'\n",
        "}\n",
        "\n",
        "df['target_ages'] = df['rating'].replace(ratings_ages)\n",
        "df['target_ages'].unique()"
      ],
      "metadata": {
        "colab": {
          "base_uri": "https://localhost:8080/"
        },
        "id": "c5cOVpjg927I",
        "outputId": "11968241-555a-4349-d458-b3d064d8416d"
      },
      "execution_count": null,
      "outputs": [
        {
          "output_type": "execute_result",
          "data": {
            "text/plain": [
              "array(['Adults', 'Teens', 'Older Kids', 'Kids'], dtype=object)"
            ]
          },
          "metadata": {},
          "execution_count": 13
        }
      ]
    },
    {
      "cell_type": "code",
      "source": [
        "# type should be a catego\n",
        "df['type'] = pd.Categorical(df['type'])\n",
        "\n",
        "# target_ages is another category (4 classes)\n",
        "df['target_ages'] = pd.Categorical(df['target_ages'], categories=['Kids', 'Older Kids', 'Teens', 'Adults'])\n",
        "\n",
        "# Year added should be integer so we can compare with `released_year`\n",
        "df['year_added'] = pd.to_numeric(df['year_added'])\n",
        "df['date_added']=pd.to_datetime(df[\"date_added\"].str.strip(), format=\"%B %d, %Y\")"
      ],
      "metadata": {
        "id": "nl6HHD1c929-"
      },
      "execution_count": null,
      "outputs": []
    },
    {
      "cell_type": "code",
      "source": [
        "df.info()"
      ],
      "metadata": {
        "colab": {
          "base_uri": "https://localhost:8080/"
        },
        "id": "kCzrWB7G-cQE",
        "outputId": "ad75295e-3563-4785-9ef2-408484838bb5"
      },
      "execution_count": null,
      "outputs": [
        {
          "output_type": "stream",
          "name": "stdout",
          "text": [
            "<class 'pandas.core.frame.DataFrame'>\n",
            "Int64Index: 7770 entries, 0 to 7786\n",
            "Data columns (total 15 columns):\n",
            " #   Column        Non-Null Count  Dtype         \n",
            "---  ------        --------------  -----         \n",
            " 0   show_id       7770 non-null   object        \n",
            " 1   type          7770 non-null   category      \n",
            " 2   title         7770 non-null   object        \n",
            " 3   director      7770 non-null   object        \n",
            " 4   cast          7770 non-null   object        \n",
            " 5   country       7770 non-null   object        \n",
            " 6   date_added    7770 non-null   datetime64[ns]\n",
            " 7   release_year  7770 non-null   int64         \n",
            " 8   rating        7770 non-null   object        \n",
            " 9   duration      7770 non-null   object        \n",
            " 10  listed_in     7770 non-null   object        \n",
            " 11  description   7770 non-null   object        \n",
            " 12  year_added    7770 non-null   int64         \n",
            " 13  month_added   7770 non-null   object        \n",
            " 14  target_ages   7770 non-null   category      \n",
            "dtypes: category(2), datetime64[ns](1), int64(2), object(10)\n",
            "memory usage: 865.3+ KB\n"
          ]
        }
      ]
    },
    {
      "cell_type": "code",
      "source": [
        "df.head()"
      ],
      "metadata": {
        "colab": {
          "base_uri": "https://localhost:8080/",
          "height": 371
        },
        "id": "E1CXKvdx-gUA",
        "outputId": "9f18bf03-3176-4912-a22e-d92992c8ba77"
      },
      "execution_count": null,
      "outputs": [
        {
          "output_type": "execute_result",
          "data": {
            "text/html": [
              "\n",
              "  <div id=\"df-a6e43046-9004-4513-aa9e-e6bbfbbefb5a\">\n",
              "    <div class=\"colab-df-container\">\n",
              "      <div>\n",
              "<style scoped>\n",
              "    .dataframe tbody tr th:only-of-type {\n",
              "        vertical-align: middle;\n",
              "    }\n",
              "\n",
              "    .dataframe tbody tr th {\n",
              "        vertical-align: top;\n",
              "    }\n",
              "\n",
              "    .dataframe thead th {\n",
              "        text-align: right;\n",
              "    }\n",
              "</style>\n",
              "<table border=\"1\" class=\"dataframe\">\n",
              "  <thead>\n",
              "    <tr style=\"text-align: right;\">\n",
              "      <th></th>\n",
              "      <th>show_id</th>\n",
              "      <th>type</th>\n",
              "      <th>title</th>\n",
              "      <th>director</th>\n",
              "      <th>cast</th>\n",
              "      <th>country</th>\n",
              "      <th>date_added</th>\n",
              "      <th>release_year</th>\n",
              "      <th>rating</th>\n",
              "      <th>duration</th>\n",
              "      <th>listed_in</th>\n",
              "      <th>description</th>\n",
              "      <th>year_added</th>\n",
              "      <th>month_added</th>\n",
              "      <th>target_ages</th>\n",
              "    </tr>\n",
              "  </thead>\n",
              "  <tbody>\n",
              "    <tr>\n",
              "      <th>0</th>\n",
              "      <td>s1</td>\n",
              "      <td>TV Show</td>\n",
              "      <td>3%</td>\n",
              "      <td>Not Mentioned</td>\n",
              "      <td>João Miguel, Bianca Comparato, Michel Gomes, R...</td>\n",
              "      <td>Brazil</td>\n",
              "      <td>2020-08-14</td>\n",
              "      <td>2020</td>\n",
              "      <td>TV-MA</td>\n",
              "      <td>4 Seasons</td>\n",
              "      <td>International TV Shows, TV Dramas, TV Sci-Fi &amp;...</td>\n",
              "      <td>In a future where the elite inhabit an island ...</td>\n",
              "      <td>2020</td>\n",
              "      <td>August</td>\n",
              "      <td>Adults</td>\n",
              "    </tr>\n",
              "    <tr>\n",
              "      <th>1</th>\n",
              "      <td>s2</td>\n",
              "      <td>Movie</td>\n",
              "      <td>7:19</td>\n",
              "      <td>Jorge Michel Grau</td>\n",
              "      <td>Demián Bichir, Héctor Bonilla, Oscar Serrano, ...</td>\n",
              "      <td>Mexico</td>\n",
              "      <td>2016-12-23</td>\n",
              "      <td>2016</td>\n",
              "      <td>TV-MA</td>\n",
              "      <td>93 min</td>\n",
              "      <td>Dramas, International Movies</td>\n",
              "      <td>After a devastating earthquake hits Mexico Cit...</td>\n",
              "      <td>2016</td>\n",
              "      <td>December</td>\n",
              "      <td>Adults</td>\n",
              "    </tr>\n",
              "    <tr>\n",
              "      <th>2</th>\n",
              "      <td>s3</td>\n",
              "      <td>Movie</td>\n",
              "      <td>23:59</td>\n",
              "      <td>Gilbert Chan</td>\n",
              "      <td>Tedd Chan, Stella Chung, Henley Hii, Lawrence ...</td>\n",
              "      <td>Singapore</td>\n",
              "      <td>2018-12-20</td>\n",
              "      <td>2011</td>\n",
              "      <td>R</td>\n",
              "      <td>78 min</td>\n",
              "      <td>Horror Movies, International Movies</td>\n",
              "      <td>When an army recruit is found dead, his fellow...</td>\n",
              "      <td>2018</td>\n",
              "      <td>December</td>\n",
              "      <td>Adults</td>\n",
              "    </tr>\n",
              "    <tr>\n",
              "      <th>3</th>\n",
              "      <td>s4</td>\n",
              "      <td>Movie</td>\n",
              "      <td>9</td>\n",
              "      <td>Shane Acker</td>\n",
              "      <td>Elijah Wood, John C. Reilly, Jennifer Connelly...</td>\n",
              "      <td>United States</td>\n",
              "      <td>2017-11-16</td>\n",
              "      <td>2009</td>\n",
              "      <td>PG-13</td>\n",
              "      <td>80 min</td>\n",
              "      <td>Action &amp; Adventure, Independent Movies, Sci-Fi...</td>\n",
              "      <td>In a postapocalyptic world, rag-doll robots hi...</td>\n",
              "      <td>2017</td>\n",
              "      <td>November</td>\n",
              "      <td>Teens</td>\n",
              "    </tr>\n",
              "    <tr>\n",
              "      <th>4</th>\n",
              "      <td>s5</td>\n",
              "      <td>Movie</td>\n",
              "      <td>21</td>\n",
              "      <td>Robert Luketic</td>\n",
              "      <td>Jim Sturgess, Kevin Spacey, Kate Bosworth, Aar...</td>\n",
              "      <td>United States</td>\n",
              "      <td>2020-01-01</td>\n",
              "      <td>2008</td>\n",
              "      <td>PG-13</td>\n",
              "      <td>123 min</td>\n",
              "      <td>Dramas</td>\n",
              "      <td>A brilliant group of students become card-coun...</td>\n",
              "      <td>2020</td>\n",
              "      <td>January</td>\n",
              "      <td>Teens</td>\n",
              "    </tr>\n",
              "  </tbody>\n",
              "</table>\n",
              "</div>\n",
              "      <button class=\"colab-df-convert\" onclick=\"convertToInteractive('df-a6e43046-9004-4513-aa9e-e6bbfbbefb5a')\"\n",
              "              title=\"Convert this dataframe to an interactive table.\"\n",
              "              style=\"display:none;\">\n",
              "        \n",
              "  <svg xmlns=\"http://www.w3.org/2000/svg\" height=\"24px\"viewBox=\"0 0 24 24\"\n",
              "       width=\"24px\">\n",
              "    <path d=\"M0 0h24v24H0V0z\" fill=\"none\"/>\n",
              "    <path d=\"M18.56 5.44l.94 2.06.94-2.06 2.06-.94-2.06-.94-.94-2.06-.94 2.06-2.06.94zm-11 1L8.5 8.5l.94-2.06 2.06-.94-2.06-.94L8.5 2.5l-.94 2.06-2.06.94zm10 10l.94 2.06.94-2.06 2.06-.94-2.06-.94-.94-2.06-.94 2.06-2.06.94z\"/><path d=\"M17.41 7.96l-1.37-1.37c-.4-.4-.92-.59-1.43-.59-.52 0-1.04.2-1.43.59L10.3 9.45l-7.72 7.72c-.78.78-.78 2.05 0 2.83L4 21.41c.39.39.9.59 1.41.59.51 0 1.02-.2 1.41-.59l7.78-7.78 2.81-2.81c.8-.78.8-2.07 0-2.86zM5.41 20L4 18.59l7.72-7.72 1.47 1.35L5.41 20z\"/>\n",
              "  </svg>\n",
              "      </button>\n",
              "      \n",
              "  <style>\n",
              "    .colab-df-container {\n",
              "      display:flex;\n",
              "      flex-wrap:wrap;\n",
              "      gap: 12px;\n",
              "    }\n",
              "\n",
              "    .colab-df-convert {\n",
              "      background-color: #E8F0FE;\n",
              "      border: none;\n",
              "      border-radius: 50%;\n",
              "      cursor: pointer;\n",
              "      display: none;\n",
              "      fill: #1967D2;\n",
              "      height: 32px;\n",
              "      padding: 0 0 0 0;\n",
              "      width: 32px;\n",
              "    }\n",
              "\n",
              "    .colab-df-convert:hover {\n",
              "      background-color: #E2EBFA;\n",
              "      box-shadow: 0px 1px 2px rgba(60, 64, 67, 0.3), 0px 1px 3px 1px rgba(60, 64, 67, 0.15);\n",
              "      fill: #174EA6;\n",
              "    }\n",
              "\n",
              "    [theme=dark] .colab-df-convert {\n",
              "      background-color: #3B4455;\n",
              "      fill: #D2E3FC;\n",
              "    }\n",
              "\n",
              "    [theme=dark] .colab-df-convert:hover {\n",
              "      background-color: #434B5C;\n",
              "      box-shadow: 0px 1px 3px 1px rgba(0, 0, 0, 0.15);\n",
              "      filter: drop-shadow(0px 1px 2px rgba(0, 0, 0, 0.3));\n",
              "      fill: #FFFFFF;\n",
              "    }\n",
              "  </style>\n",
              "\n",
              "      <script>\n",
              "        const buttonEl =\n",
              "          document.querySelector('#df-a6e43046-9004-4513-aa9e-e6bbfbbefb5a button.colab-df-convert');\n",
              "        buttonEl.style.display =\n",
              "          google.colab.kernel.accessAllowed ? 'block' : 'none';\n",
              "\n",
              "        async function convertToInteractive(key) {\n",
              "          const element = document.querySelector('#df-a6e43046-9004-4513-aa9e-e6bbfbbefb5a');\n",
              "          const dataTable =\n",
              "            await google.colab.kernel.invokeFunction('convertToInteractive',\n",
              "                                                     [key], {});\n",
              "          if (!dataTable) return;\n",
              "\n",
              "          const docLinkHtml = 'Like what you see? Visit the ' +\n",
              "            '<a target=\"_blank\" href=https://colab.research.google.com/notebooks/data_table.ipynb>data table notebook</a>'\n",
              "            + ' to learn more about interactive tables.';\n",
              "          element.innerHTML = '';\n",
              "          dataTable['output_type'] = 'display_data';\n",
              "          await google.colab.output.renderOutput(dataTable, element);\n",
              "          const docLink = document.createElement('div');\n",
              "          docLink.innerHTML = docLinkHtml;\n",
              "          element.appendChild(docLink);\n",
              "        }\n",
              "      </script>\n",
              "    </div>\n",
              "  </div>\n",
              "  "
            ],
            "text/plain": [
              "  show_id     type  title  ... year_added month_added target_ages\n",
              "0      s1  TV Show     3%  ...       2020      August      Adults\n",
              "1      s2    Movie   7:19  ...       2016    December      Adults\n",
              "2      s3    Movie  23:59  ...       2018    December      Adults\n",
              "3      s4    Movie      9  ...       2017    November       Teens\n",
              "4      s5    Movie     21  ...       2020     January       Teens\n",
              "\n",
              "[5 rows x 15 columns]"
            ]
          },
          "metadata": {},
          "execution_count": 16
        }
      ]
    },
    {
      "cell_type": "markdown",
      "source": [
        "# EDA"
      ],
      "metadata": {
        "id": "XBi7bWCU2B4Q"
      }
    },
    {
      "cell_type": "code",
      "source": [
        "plt.figure(figsize=(10, 7))\n",
        "labels=['TV Show', 'Movie']\n",
        "plt.pie(df['type'].value_counts().sort_values(),labels=labels,autopct='%1.2f%%',explode=[0.1,0.1],\n",
        "        colors=['lightgreen','darkgreen'], startangle=90)\n",
        "plt.title('Type of Netflix Content')\n",
        "plt.axis('equal')\n",
        "plt.show()"
      ],
      "metadata": {
        "colab": {
          "base_uri": "https://localhost:8080/",
          "height": 427
        },
        "id": "orl7XVMx2K-f",
        "outputId": "0ece8c3a-99d5-4983-f1d2-2aeb6dfb7cd2"
      },
      "execution_count": null,
      "outputs": [
        {
          "output_type": "display_data",
          "data": {
            "image/png": "[encoded data removed]",
            "text/plain": [
              "<Figure size 720x504 with 1 Axes>"
            ]
          },
          "metadata": {}
        }
      ]
    },
    {
      "cell_type": "markdown",
      "source": [
        "**No. of movies content is more than double than Tv show content**"
      ],
      "metadata": {
        "id": "1NNZPpRVRfNq"
      }
    },
    {
      "cell_type": "code",
      "source": [
        "df_tv = df[df[\"type\"] == \"TV Show\"]\n",
        "df_movies = df[df[\"type\"] == \"Movie\"]"
      ],
      "metadata": {
        "id": "rz9zx9c68rgo"
      },
      "execution_count": null,
      "outputs": []
    },
    {
      "cell_type": "code",
      "source": [
        "movie_ratings = df_movies.groupby(['rating'])['show_id'].count().reset_index(name='count').sort_values(by='count',ascending=False)\n",
        "fig_dims = (14,7)\n",
        "fig, ax = plt.subplots(figsize=fig_dims)  \n",
        "sns.pointplot(x='rating',y='count',data=movie_ratings)\n",
        "plt.title('Top Movie Ratings Based On Rating System',size='20')\n",
        "plt.show()"
      ],
      "metadata": {
        "colab": {
          "base_uri": "https://localhost:8080/",
          "height": 462
        },
        "id": "T9eBO8XN8yo-",
        "outputId": "2a85c83a-53ac-4e1d-fbb1-d061ea149d77"
      },
      "execution_count": null,
      "outputs": [
        {
          "output_type": "display_data",
          "data": {
            "image/png": "[encoded data removed]",
            "text/plain": [
              "<Figure size 1008x504 with 1 Axes>"
            ]
          },
          "metadata": {
            "needs_background": "light"
          }
        }
      ]
    },
    {
      "cell_type": "markdown",
      "source": [
        "**Most number of movies rated TV-MA i.e. Adult Rating**"
      ],
      "metadata": {
        "id": "Y415fPYBR5MC"
      }
    },
    {
      "cell_type": "code",
      "source": [
        "tv_ratings = df_tv.groupby(['rating'])['show_id'].count().reset_index(name='count').sort_values(by='count',ascending=False)\n",
        "fig_dims = (14,7)\n",
        "fig, ax = plt.subplots(figsize=fig_dims)  \n",
        "sns.pointplot(x='rating',y='count',data=tv_ratings)\n",
        "plt.title('Top TV Show Ratings Based On Rating System',size='20')\n",
        "plt.show()"
      ],
      "metadata": {
        "colab": {
          "base_uri": "https://localhost:8080/",
          "height": 462
        },
        "id": "5hMKNh7Q8yqc",
        "outputId": "1de6e132-50cc-4857-b3af-f0a037976a18"
      },
      "execution_count": null,
      "outputs": [
        {
          "output_type": "display_data",
          "data": {
            "image/png": "[encoded data removed]",
            "text/plain": [
              "<Figure size 1008x504 with 1 Axes>"
            ]
          },
          "metadata": {
            "needs_background": "light"
          }
        }
      ]
    },
    {
      "cell_type": "markdown",
      "source": [
        "**Most number of TV Shows rated TV-MA i.e. Adult Rating**"
      ],
      "metadata": {
        "id": "2ZoxjgqSSEnJ"
      }
    },
    {
      "cell_type": "code",
      "source": [
        "plt.figure(figsize=(14,6))\n",
        "plt.title('Ratings of Movies  Based On Target Age Groups')\n",
        "sns.countplot(x=df_movies['rating'],hue=df_movies['target_ages'],data=df_movies,order=df_movies['rating'].value_counts().index,palette=\"rocket\")"
      ],
      "metadata": {
        "colab": {
          "base_uri": "https://localhost:8080/",
          "height": 421
        },
        "id": "gPyg56IR8yuP",
        "outputId": "a3576d4a-d39a-468e-8ca8-57c8290cfb8f"
      },
      "execution_count": null,
      "outputs": [
        {
          "output_type": "execute_result",
          "data": {
            "text/plain": [
              "<matplotlib.axes._subplots.AxesSubplot at 0x7f16132e7410>"
            ]
          },
          "metadata": {},
          "execution_count": 21
        },
        {
          "output_type": "display_data",
          "data": {
            "image/png": "[encoded data removed]",
            "text/plain": [
              "<Figure size 1008x432 with 1 Axes>"
            ]
          },
          "metadata": {
            "needs_background": "light"
          }
        }
      ]
    },
    {
      "cell_type": "code",
      "source": [
        "plt.figure(figsize=(14,6))\n",
        "plt.title('Ratings of TV Shows Based On Target Age Groups')\n",
        "sns.countplot(x=df_tv['rating'],hue=df_tv['target_ages'],data=df_tv,order=df_tv['rating'].value_counts().index,palette=\"rocket\")"
      ],
      "metadata": {
        "colab": {
          "base_uri": "https://localhost:8080/",
          "height": 421
        },
        "id": "2yw57BAu_hFc",
        "outputId": "dde32834-09b0-40ed-e59a-7e540077c4a4"
      },
      "execution_count": null,
      "outputs": [
        {
          "output_type": "execute_result",
          "data": {
            "text/plain": [
              "<matplotlib.axes._subplots.AxesSubplot at 0x7f16131c4e90>"
            ]
          },
          "metadata": {},
          "execution_count": 22
        },
        {
          "output_type": "display_data",
          "data": {
            "image/png": "[encoded data removed]",
            "text/plain": [
              "<Figure size 1008x432 with 1 Axes>"
            ]
          },
          "metadata": {
            "needs_background": "light"
          }
        }
      ]
    },
    {
      "cell_type": "code",
      "source": [
        "plt.figure(figsize=(14,6))\n",
        "plt.title('ANALYSIS ON RELEASE YEAR OF MOVIES IN LAST 15 YEARS', fontsize=15, fontweight='bold')\n",
        "sns.countplot(y=df_movies['release_year'],data=df_movies,order=df_movies['release_year'].value_counts().index[0:15],palette=\"magma\")"
      ],
      "metadata": {
        "colab": {
          "base_uri": "https://localhost:8080/",
          "height": 423
        },
        "id": "9lAkDdnYBija",
        "outputId": "ceba6499-05c7-4152-b9d2-b168dd1ebcc6"
      },
      "execution_count": null,
      "outputs": [
        {
          "output_type": "execute_result",
          "data": {
            "text/plain": [
              "<matplotlib.axes._subplots.AxesSubplot at 0x7f161320b590>"
            ]
          },
          "metadata": {},
          "execution_count": 23
        },
        {
          "output_type": "display_data",
          "data": {
            "image/png": "[encoded data removed]",
            "text/plain": [
              "<Figure size 1008x432 with 1 Axes>"
            ]
          },
          "metadata": {
            "needs_background": "light"
          }
        }
      ]
    },
    {
      "cell_type": "markdown",
      "source": [
        "*2017 has the highest number of movies released*"
      ],
      "metadata": {
        "id": "bVjBh115SQlp"
      }
    },
    {
      "cell_type": "code",
      "source": [
        "plt.figure(figsize=(14,6))\n",
        "plt.title('ANALYSIS ON RELEASE YEAR OF TV SHOWS IN LAST 15 YEARS', fontsize=15, fontweight='bold')\n",
        "sns.countplot(y=df_tv['release_year'],data=df_tv,order=df_tv['release_year'].value_counts().index[0:15],palette=\"magma\")"
      ],
      "metadata": {
        "colab": {
          "base_uri": "https://localhost:8080/",
          "height": 423
        },
        "id": "4K5IzNrrImNV",
        "outputId": "c3f5ba35-ab62-4ffe-cfe7-97700d768973"
      },
      "execution_count": null,
      "outputs": [
        {
          "output_type": "execute_result",
          "data": {
            "text/plain": [
              "<matplotlib.axes._subplots.AxesSubplot at 0x7f161314fc10>"
            ]
          },
          "metadata": {},
          "execution_count": 24
        },
        {
          "output_type": "display_data",
          "data": {
            "image/png": "[encoded data removed]",
            "text/plain": [
              "<Figure size 1008x432 with 1 Axes>"
            ]
          },
          "metadata": {
            "needs_background": "light"
          }
        }
      ]
    },
    {
      "cell_type": "markdown",
      "source": [
        "*2020 has the highest number of TV Shows released.*"
      ],
      "metadata": {
        "id": "cAZCD0WlSiKl"
      }
    },
    {
      "cell_type": "code",
      "source": [
        "plt.figure(figsize=(14,6))\n",
        "plt.title('Top10 Genre of Movies',fontweight=\"bold\")\n",
        "sns.countplot(y=df_movies['listed_in'],data=df_movies,order=df_movies['listed_in'].value_counts().index[0:10],palette=\"cubehelix\")"
      ],
      "metadata": {
        "id": "TbK-sccIJBtv",
        "colab": {
          "base_uri": "https://localhost:8080/",
          "height": 421
        },
        "outputId": "e6d759c2-2a5d-41bc-dc3a-3e205b9ce17a"
      },
      "execution_count": null,
      "outputs": [
        {
          "output_type": "execute_result",
          "data": {
            "text/plain": [
              "<matplotlib.axes._subplots.AxesSubplot at 0x7f16130f2b10>"
            ]
          },
          "metadata": {},
          "execution_count": 25
        },
        {
          "output_type": "display_data",
          "data": {
            "image/png": "[encoded data removed]",
            "text/plain": [
              "<Figure size 1008x432 with 1 Axes>"
            ]
          },
          "metadata": {
            "needs_background": "light"
          }
        }
      ]
    },
    {
      "cell_type": "markdown",
      "source": [
        "**There are so many documentaries to watch on NETFLIX**"
      ],
      "metadata": {
        "id": "YxhJfF-iSq11"
      }
    },
    {
      "cell_type": "code",
      "source": [
        "plt.figure(figsize=(14,6))\n",
        "plt.title('Top10 Genre of TV Shows',fontweight=\"bold\")\n",
        "sns.countplot(y=df_tv['listed_in'],data=df_tv,order=df_tv['listed_in'].value_counts().index[0:10],palette=\"viridis\")"
      ],
      "metadata": {
        "colab": {
          "base_uri": "https://localhost:8080/",
          "height": 421
        },
        "id": "Bp7YAfla1PTh",
        "outputId": "7fda75d8-de40-45fc-ef46-ae3e254d581f"
      },
      "execution_count": null,
      "outputs": [
        {
          "output_type": "execute_result",
          "data": {
            "text/plain": [
              "<matplotlib.axes._subplots.AxesSubplot at 0x7f161309c5d0>"
            ]
          },
          "metadata": {},
          "execution_count": 26
        },
        {
          "output_type": "display_data",
          "data": {
            "image/png": "[encoded data removed]",
            "text/plain": [
              "<Figure size 1008x432 with 1 Axes>"
            ]
          },
          "metadata": {
            "needs_background": "light"
          }
        }
      ]
    },
    {
      "cell_type": "markdown",
      "source": [
        "**There are so many Kids TV Shows to watch on NETFLIX**"
      ],
      "metadata": {
        "id": "z3cYqSmAS8SF"
      }
    },
    {
      "cell_type": "code",
      "source": [
        "plt.figure(figsize=(10,7))\n",
        "sns.distplot(df_movies['duration'].str.extract('(\\d+)'),kde=False, color=['red'])\n",
        "plt.title('Distplot with Normal distribution for Movies',fontweight=\"bold\")\n",
        "plt.show()"
      ],
      "metadata": {
        "colab": {
          "base_uri": "https://localhost:8080/",
          "height": 498
        },
        "id": "KYMugjde1PWC",
        "outputId": "b95ec5b8-0b47-46ec-ed2f-b74b09e5f1ba"
      },
      "execution_count": null,
      "outputs": [
        {
          "output_type": "stream",
          "name": "stderr",
          "text": [
            "/usr/local/lib/python3.7/dist-packages/seaborn/distributions.py:2619: FutureWarning: `distplot` is a deprecated function and will be removed in a future version. Please adapt your code to use either `displot` (a figure-level function with similar flexibility) or `histplot` (an axes-level function for histograms).\n",
            "  warnings.warn(msg, FutureWarning)\n"
          ]
        },
        {
          "output_type": "display_data",
          "data": {
            "image/png": "[encoded data removed]",
            "text/plain": [
              "<Figure size 720x504 with 1 Axes>"
            ]
          },
          "metadata": {
            "needs_background": "light"
          }
        }
      ]
    },
    {
      "cell_type": "markdown",
      "source": [
        "**Mainly the movie duration is in b/w 55 to 150 minutes**"
      ],
      "metadata": {
        "id": "SdvOq1wqTLda"
      }
    },
    {
      "cell_type": "code",
      "source": [
        "plt.figure(figsize=(16,6))\n",
        "plt.title(\"Distribution of TV Shows duration\",fontweight='bold')\n",
        "sns.countplot(x=df_tv['duration'],data=df_tv,order = df_tv['duration'].value_counts().index,palette=\"crest\")"
      ],
      "metadata": {
        "colab": {
          "base_uri": "https://localhost:8080/",
          "height": 421
        },
        "id": "TvD6gjrV1PY6",
        "outputId": "29b0d6b2-ecc3-424c-a26c-8adf3b3414a3"
      },
      "execution_count": null,
      "outputs": [
        {
          "output_type": "execute_result",
          "data": {
            "text/plain": [
              "<matplotlib.axes._subplots.AxesSubplot at 0x7f1612ebff90>"
            ]
          },
          "metadata": {},
          "execution_count": 28
        },
        {
          "output_type": "display_data",
          "data": {
            "image/png": "[encoded data removed]",
            "text/plain": [
              "<Figure size 1152x432 with 1 Axes>"
            ]
          },
          "metadata": {
            "needs_background": "light"
          }
        }
      ]
    },
    {
      "cell_type": "markdown",
      "source": [
        "**Mostly every TV Shows has atleast 3 seasons**"
      ],
      "metadata": {
        "id": "NYtNwK2hTUrm"
      }
    },
    {
      "cell_type": "markdown",
      "source": [
        "# Understanding what type content is available in different countries"
      ],
      "metadata": {
        "id": "_yZ4515c43Bb"
      }
    },
    {
      "cell_type": "code",
      "source": [
        "plt.figure(figsize=(18,5))\n",
        "sns.countplot(x=df['country'],palette=\"magma\",order=df['country'].value_counts().index[0:15],hue=df['type'])\n",
        "plt.xticks(rotation=50)\n",
        "plt.title('Top 15 countries with most contents', fontsize=15, fontweight='bold')\n",
        "plt.show()"
      ],
      "metadata": {
        "colab": {
          "base_uri": "https://localhost:8080/",
          "height": 410
        },
        "id": "ab5OPEWB3tjI",
        "outputId": "db01efd6-2a15-4e2b-9d10-a91bd1c2a685"
      },
      "execution_count": null,
      "outputs": [
        {
          "output_type": "display_data",
          "data": {
            "image/png": "[encoded data removed]",
            "text/plain": [
              "<Figure size 1296x360 with 1 Axes>"
            ]
          },
          "metadata": {
            "needs_background": "light"
          }
        }
      ]
    },
    {
      "cell_type": "markdown",
      "source": [
        "Movies are more available in different countries than TV SHOWS"
      ],
      "metadata": {
        "id": "-ZPwai1d7-Xp"
      }
    },
    {
      "cell_type": "markdown",
      "source": [
        "# Is Netflix has increasingly focusing on TV rather than movies in recent years."
      ],
      "metadata": {
        "id": "4AEmCuaH95h1"
      }
    },
    {
      "cell_type": "code",
      "source": [
        "plt.figure(figsize=(20,8))\n",
        "plt.title('Distibution of Movies and TV Shows throughout the recent years')\n",
        "df_movies[df_movies[\"date_added\"] > pd.Timestamp(2016, 1, 1)].groupby(\"date_added\").size().plot(kind=\"line\")\n",
        "df_tv[df_tv[\"date_added\"] > pd.Timestamp(2016, 1, 1)].groupby(\"date_added\").size().plot(kind=\"line\")\n",
        "plt.show()"
      ],
      "metadata": {
        "colab": {
          "base_uri": "https://localhost:8080/",
          "height": 482
        },
        "id": "urQVgQ4pNzp8",
        "outputId": "bf65eba2-5b6e-469e-f0e8-dbb9e1c006b9"
      },
      "execution_count": null,
      "outputs": [
        {
          "output_type": "display_data",
          "data": {
            "image/png": "[encoded data removed]",
            "text/plain": [
              "<Figure size 1440x576 with 1 Axes>"
            ]
          },
          "metadata": {
            "needs_background": "light"
          }
        }
      ]
    },
    {
      "cell_type": "markdown",
      "source": [
        "The growth in number of movies on netflix is much higher than that of TV shows"
      ],
      "metadata": {
        "id": "DNWv07juQSnZ"
      }
    },
    {
      "cell_type": "code",
      "source": [
        "df.head()"
      ],
      "metadata": {
        "id": "E4ASQD52O4Xi",
        "colab": {
          "base_uri": "https://localhost:8080/",
          "height": 371
        },
        "outputId": "5eeedd96-64aa-411f-e5c7-13a1cfa38cbf"
      },
      "execution_count": null,
      "outputs": [
        {
          "output_type": "execute_result",
          "data": {
            "text/html": [
              "\n",
              "  <div id=\"df-e64d468d-cd79-4619-80a1-145ee54c65f8\">\n",
              "    <div class=\"colab-df-container\">\n",
              "      <div>\n",
              "<style scoped>\n",
              "    .dataframe tbody tr th:only-of-type {\n",
              "        vertical-align: middle;\n",
              "    }\n",
              "\n",
              "    .dataframe tbody tr th {\n",
              "        vertical-align: top;\n",
              "    }\n",
              "\n",
              "    .dataframe thead th {\n",
              "        text-align: right;\n",
              "    }\n",
              "</style>\n",
              "<table border=\"1\" class=\"dataframe\">\n",
              "  <thead>\n",
              "    <tr style=\"text-align: right;\">\n",
              "      <th></th>\n",
              "      <th>show_id</th>\n",
              "      <th>type</th>\n",
              "      <th>title</th>\n",
              "      <th>director</th>\n",
              "      <th>cast</th>\n",
              "      <th>country</th>\n",
              "      <th>date_added</th>\n",
              "      <th>release_year</th>\n",
              "      <th>rating</th>\n",
              "      <th>duration</th>\n",
              "      <th>listed_in</th>\n",
              "      <th>description</th>\n",
              "      <th>year_added</th>\n",
              "      <th>month_added</th>\n",
              "      <th>target_ages</th>\n",
              "    </tr>\n",
              "  </thead>\n",
              "  <tbody>\n",
              "    <tr>\n",
              "      <th>0</th>\n",
              "      <td>s1</td>\n",
              "      <td>TV Show</td>\n",
              "      <td>3%</td>\n",
              "      <td>Not Mentioned</td>\n",
              "      <td>João Miguel, Bianca Comparato, Michel Gomes, R...</td>\n",
              "      <td>Brazil</td>\n",
              "      <td>2020-08-14</td>\n",
              "      <td>2020</td>\n",
              "      <td>TV-MA</td>\n",
              "      <td>4 Seasons</td>\n",
              "      <td>International TV Shows, TV Dramas, TV Sci-Fi &amp;...</td>\n",
              "      <td>In a future where the elite inhabit an island ...</td>\n",
              "      <td>2020</td>\n",
              "      <td>August</td>\n",
              "      <td>Adults</td>\n",
              "    </tr>\n",
              "    <tr>\n",
              "      <th>1</th>\n",
              "      <td>s2</td>\n",
              "      <td>Movie</td>\n",
              "      <td>7:19</td>\n",
              "      <td>Jorge Michel Grau</td>\n",
              "      <td>Demián Bichir, Héctor Bonilla, Oscar Serrano, ...</td>\n",
              "      <td>Mexico</td>\n",
              "      <td>2016-12-23</td>\n",
              "      <td>2016</td>\n",
              "      <td>TV-MA</td>\n",
              "      <td>93 min</td>\n",
              "      <td>Dramas, International Movies</td>\n",
              "      <td>After a devastating earthquake hits Mexico Cit...</td>\n",
              "      <td>2016</td>\n",
              "      <td>December</td>\n",
              "      <td>Adults</td>\n",
              "    </tr>\n",
              "    <tr>\n",
              "      <th>2</th>\n",
              "      <td>s3</td>\n",
              "      <td>Movie</td>\n",
              "      <td>23:59</td>\n",
              "      <td>Gilbert Chan</td>\n",
              "      <td>Tedd Chan, Stella Chung, Henley Hii, Lawrence ...</td>\n",
              "      <td>Singapore</td>\n",
              "      <td>2018-12-20</td>\n",
              "      <td>2011</td>\n",
              "      <td>R</td>\n",
              "      <td>78 min</td>\n",
              "      <td>Horror Movies, International Movies</td>\n",
              "      <td>When an army recruit is found dead, his fellow...</td>\n",
              "      <td>2018</td>\n",
              "      <td>December</td>\n",
              "      <td>Adults</td>\n",
              "    </tr>\n",
              "    <tr>\n",
              "      <th>3</th>\n",
              "      <td>s4</td>\n",
              "      <td>Movie</td>\n",
              "      <td>9</td>\n",
              "      <td>Shane Acker</td>\n",
              "      <td>Elijah Wood, John C. Reilly, Jennifer Connelly...</td>\n",
              "      <td>United States</td>\n",
              "      <td>2017-11-16</td>\n",
              "      <td>2009</td>\n",
              "      <td>PG-13</td>\n",
              "      <td>80 min</td>\n",
              "      <td>Action &amp; Adventure, Independent Movies, Sci-Fi...</td>\n",
              "      <td>In a postapocalyptic world, rag-doll robots hi...</td>\n",
              "      <td>2017</td>\n",
              "      <td>November</td>\n",
              "      <td>Teens</td>\n",
              "    </tr>\n",
              "    <tr>\n",
              "      <th>4</th>\n",
              "      <td>s5</td>\n",
              "      <td>Movie</td>\n",
              "      <td>21</td>\n",
              "      <td>Robert Luketic</td>\n",
              "      <td>Jim Sturgess, Kevin Spacey, Kate Bosworth, Aar...</td>\n",
              "      <td>United States</td>\n",
              "      <td>2020-01-01</td>\n",
              "      <td>2008</td>\n",
              "      <td>PG-13</td>\n",
              "      <td>123 min</td>\n",
              "      <td>Dramas</td>\n",
              "      <td>A brilliant group of students become card-coun...</td>\n",
              "      <td>2020</td>\n",
              "      <td>January</td>\n",
              "      <td>Teens</td>\n",
              "    </tr>\n",
              "  </tbody>\n",
              "</table>\n",
              "</div>\n",
              "      <button class=\"colab-df-convert\" onclick=\"convertToInteractive('df-e64d468d-cd79-4619-80a1-145ee54c65f8')\"\n",
              "              title=\"Convert this dataframe to an interactive table.\"\n",
              "              style=\"display:none;\">\n",
              "        \n",
              "  <svg xmlns=\"http://www.w3.org/2000/svg\" height=\"24px\"viewBox=\"0 0 24 24\"\n",
              "       width=\"24px\">\n",
              "    <path d=\"M0 0h24v24H0V0z\" fill=\"none\"/>\n",
              "    <path d=\"M18.56 5.44l.94 2.06.94-2.06 2.06-.94-2.06-.94-.94-2.06-.94 2.06-2.06.94zm-11 1L8.5 8.5l.94-2.06 2.06-.94-2.06-.94L8.5 2.5l-.94 2.06-2.06.94zm10 10l.94 2.06.94-2.06 2.06-.94-2.06-.94-.94-2.06-.94 2.06-2.06.94z\"/><path d=\"M17.41 7.96l-1.37-1.37c-.4-.4-.92-.59-1.43-.59-.52 0-1.04.2-1.43.59L10.3 9.45l-7.72 7.72c-.78.78-.78 2.05 0 2.83L4 21.41c.39.39.9.59 1.41.59.51 0 1.02-.2 1.41-.59l7.78-7.78 2.81-2.81c.8-.78.8-2.07 0-2.86zM5.41 20L4 18.59l7.72-7.72 1.47 1.35L5.41 20z\"/>\n",
              "  </svg>\n",
              "      </button>\n",
              "      \n",
              "  <style>\n",
              "    .colab-df-container {\n",
              "      display:flex;\n",
              "      flex-wrap:wrap;\n",
              "      gap: 12px;\n",
              "    }\n",
              "\n",
              "    .colab-df-convert {\n",
              "      background-color: #E8F0FE;\n",
              "      border: none;\n",
              "      border-radius: 50%;\n",
              "      cursor: pointer;\n",
              "      display: none;\n",
              "      fill: #1967D2;\n",
              "      height: 32px;\n",
              "      padding: 0 0 0 0;\n",
              "      width: 32px;\n",
              "    }\n",
              "\n",
              "    .colab-df-convert:hover {\n",
              "      background-color: #E2EBFA;\n",
              "      box-shadow: 0px 1px 2px rgba(60, 64, 67, 0.3), 0px 1px 3px 1px rgba(60, 64, 67, 0.15);\n",
              "      fill: #174EA6;\n",
              "    }\n",
              "\n",
              "    [theme=dark] .colab-df-convert {\n",
              "      background-color: #3B4455;\n",
              "      fill: #D2E3FC;\n",
              "    }\n",
              "\n",
              "    [theme=dark] .colab-df-convert:hover {\n",
              "      background-color: #434B5C;\n",
              "      box-shadow: 0px 1px 3px 1px rgba(0, 0, 0, 0.15);\n",
              "      filter: drop-shadow(0px 1px 2px rgba(0, 0, 0, 0.3));\n",
              "      fill: #FFFFFF;\n",
              "    }\n",
              "  </style>\n",
              "\n",
              "      <script>\n",
              "        const buttonEl =\n",
              "          document.querySelector('#df-e64d468d-cd79-4619-80a1-145ee54c65f8 button.colab-df-convert');\n",
              "        buttonEl.style.display =\n",
              "          google.colab.kernel.accessAllowed ? 'block' : 'none';\n",
              "\n",
              "        async function convertToInteractive(key) {\n",
              "          const element = document.querySelector('#df-e64d468d-cd79-4619-80a1-145ee54c65f8');\n",
              "          const dataTable =\n",
              "            await google.colab.kernel.invokeFunction('convertToInteractive',\n",
              "                                                     [key], {});\n",
              "          if (!dataTable) return;\n",
              "\n",
              "          const docLinkHtml = 'Like what you see? Visit the ' +\n",
              "            '<a target=\"_blank\" href=https://colab.research.google.com/notebooks/data_table.ipynb>data table notebook</a>'\n",
              "            + ' to learn more about interactive tables.';\n",
              "          element.innerHTML = '';\n",
              "          dataTable['output_type'] = 'display_data';\n",
              "          await google.colab.output.renderOutput(dataTable, element);\n",
              "          const docLink = document.createElement('div');\n",
              "          docLink.innerHTML = docLinkHtml;\n",
              "          element.appendChild(docLink);\n",
              "        }\n",
              "      </script>\n",
              "    </div>\n",
              "  </div>\n",
              "  "
            ],
            "text/plain": [
              "  show_id     type  title  ... year_added month_added target_ages\n",
              "0      s1  TV Show     3%  ...       2020      August      Adults\n",
              "1      s2    Movie   7:19  ...       2016    December      Adults\n",
              "2      s3    Movie  23:59  ...       2018    December      Adults\n",
              "3      s4    Movie      9  ...       2017    November       Teens\n",
              "4      s5    Movie     21  ...       2020     January       Teens\n",
              "\n",
              "[5 rows x 15 columns]"
            ]
          },
          "metadata": {},
          "execution_count": 31
        }
      ]
    },
    {
      "cell_type": "code",
      "source": [
        "X = df['description'].tolist()\n",
        "X"
      ],
      "metadata": {
        "colab": {
          "base_uri": "https://localhost:8080/"
        },
        "id": "bz0CyydCp9-Y",
        "outputId": "9582c05e-c212-4232-bc71-51d3aba728d7"
      },
      "execution_count": null,
      "outputs": [
        {
          "output_type": "execute_result",
          "data": {
            "text/plain": [
              "['In a future where the elite inhabit an island paradise far from the crowded slums, you get one chance to join the 3% saved from squalor.',\n",
              " 'After a devastating earthquake hits Mexico City, trapped survivors from all walks of life wait to be rescued while trying desperately to stay alive.',\n",
              " \"When an army recruit is found dead, his fellow soldiers are forced to confront a terrifying secret that's haunting their jungle island training camp.\",\n",
              " 'In a postapocalyptic world, rag-doll robots hide in fear from dangerous machines out to exterminate them, until a brave newcomer joins the group.',\n",
              " 'A brilliant group of students become card-counting experts with the intent of swindling millions out of Las Vegas casinos by playing blackjack.',\n",
              " 'A genetics professor experiments with a treatment for his comatose sister that blends medical and shamanic cures, but unlocks a shocking side effect.',\n",
              " 'After an awful accident, a couple admitted to a grisly hospital are separated and must find each other to escape — before death finds them.',\n",
              " 'After one of his high school students attacks him, dedicated teacher Trevor Garfield grows weary of the gang warfare in the New York City school system and moves to California to teach there, thinking it must be a less hostile environment.',\n",
              " \"When a doctor goes missing, his psychiatrist wife treats the bizarre medical condition of a psychic patient, who knows much more than he's leading on.\",\n",
              " 'An architect and his wife move into a castle that is slated to become a luxury hotel. But something inside is determined to stop the renovation.',\n",
              " \"A farmer pens a confession admitting to his wife's murder, but her death is just the beginning of a macabre tale. Based on Stephen King's novella.\",\n",
              " 'In this dark alt-history thriller, a naïve law student and a world-weary detective uncover a conspiracy that has tyrannized Poland for decades.',\n",
              " 'Archival video and new interviews examine Mexican politics in 1994, a year marked by the rise of the EZLN and the assassination of Luis Donaldo Colosio.',\n",
              " 'This intimate documentary follows rock star Artiwara Kongmalai on his historic, 2,215-kilometer charity run across Thailand in 2017.',\n",
              " 'Stranded when the Earth is suddenly destroyed in a mysterious cataclysm, the astronauts aboard a marooned space station slowly lose their minds.',\n",
              " \"Against the backdrop of Nigeria's looming independence from Britain, detective Danladi Waziri races to capture a killer terrorizing local women.\",\n",
              " \"As a psychology professor faces Alzheimer's, his daughter and her three close female friends experience romance, marriage, heartbreak and tragedy.\",\n",
              " 'After devastating terror attacks in Norway, a young survivor, grieving families and the country rally for justice and healing. Based on a true story.',\n",
              " \"On India's Independence Day, a zany mishap in a Mumbai chawl disrupts a young love story while compelling the residents to unite in aid of a little boy.\",\n",
              " \"Mixing old footage with interviews, this is the story of Arsenal's improbable win versus Liverpool in the final moments of the 1989 championship game.\",\n",
              " 'After accidentally connecting over the Internet, two strangers form a tight friendship – not knowing they already share a bond.',\n",
              " 'A taxi driver, a gangster and an athlete struggle to better their lives despite obstacles like crooked politicians, evil dons and caste barriers.',\n",
              " 'A successful writer returns to the town that launched his career, encountering people who spark nostalgic, often painfully illuminating flashbacks.',\n",
              " 'When a middle-aged divorcee returns to Kolkata to visit his ailing father, long-buried memories resurface, bringing new discoveries with them.',\n",
              " 'Seiya and the Knights of the Zodiac rise again to protect the reincarnation of the goddess Athena, but a dark prophecy hangs over them all.',\n",
              " 'This real-life look at FBI counterterrorism operations features access to both sides of a sting: the government informant and the radicalized target.',\n",
              " 'This docuseries takes a deep dive into the lucrative wellness industry, which touts health and healing. But do the products live up to the promises?',\n",
              " 'As a grisly virus rampages a city, a lone man stays locked inside his apartment, digitally cut off from seeking help and desperate to find a way out.',\n",
              " \"Through her diary, Anne Frank's story is retold alongside those of five Holocaust survivors in this poignant documentary from Oscar winner Helen Mirren.\",\n",
              " 'Kenya Barris and his family navigate relationships, race and culture while grappling with their newfound success in this comedy series.',\n",
              " 'This pawesome documentary explores how our feline friends became online icons, from the earliest text memes to the rise of celebrity cat influencers.',\n",
              " \"Pining for his high school crush for years, a young man puts up his best efforts to move out of the friend zone until she reveals she's getting married.\",\n",
              " 'As Ayu and Ditto finally transition from best friends to newlyweds, a quick pregnancy creates uncertainty for the future of their young marriage.',\n",
              " 'When nerdy high schooler Dani finally attracts the interest of her longtime crush, she lands in the cross hairs of his ex, a social media celebrity.',\n",
              " 'A teenage hacker with a huge nose helps a cool kid woo a girl that he’s secretly in love with.',\n",
              " 'This documentary celebrates the 50th anniversary of the Harlem sports program that has inspired countless city kids to become pro basketball players.',\n",
              " 'Two days before their final exams, three teen girls make a seaside getaway to end their adolescence with a bang.',\n",
              " 'After a painful breakup, a trio of party-loving friends makes a bet: who can get married in three days.',\n",
              " 'When two brothers fall for two sisters, they quickly realize the age differences between them are too big to ignore.',\n",
              " 'When her estranged mother suddenly dies, a woman must follow the quirky instructions laid out in the will in order to collect an important inheritance.',\n",
              " 'The slacker owner of a public bath house rallies his community to save it when a big developer comes to town to close it down and open a new mall.',\n",
              " \"Young urbanites renovating a rundown house, and a psychiatrist grieving his son's disappearance, are connected to a supernatural, decades-old secret.\",\n",
              " 'Vignettes of the summer holidays follow vacationers as they battle mosquitoes, suffer ruined plans and otherwise hit snags in their precious time off.',\n",
              " 'In Lagos, a journalist goes undercover as a prostitute to expose human trafficking. What she finds is a world of exploited women and ruthless violence.',\n",
              " \"Aiming to hasten an uprising, the leader of an underground rebellion dispatches acrobatic assassin Aeon Flux to eliminate the government's top leader.\",\n",
              " \"An orphan subjected to tests that gave him superpowers is rescued and raised on Istanbul's streets, where he falls for a reporter linked to his past.\",\n",
              " 'When an aspiring dancer is uprooted during her senior year of high school, she finds herself torn between two boys – and with one shot at her dream.',\n",
              " 'After escaping the bus accident that killed his girlfriend, a high school student channels his grief into running, with the help of a new coach.',\n",
              " 'After his girlfriend wins the Miss Nigeria pageant, a young man faces unexpected competition of his own when he joins her on a campaign in South Africa.',\n",
              " 'When a carefree bachelor is unexpectedly left in charge of a young boy, the two embark on a road trip that will change both of their lives.',\n",
              " \"Fierce mammoth hunter D'Leh sets out on an impossible journey to rescue the woman he loves from a vicious warlord and save the people of his village.\",\n",
              " 'Upon losing his memory, a crown prince encounters a commoner’s life and experiences unforgettable love as the husband to Joseon’s oldest bachelorette.',\n",
              " 'Spanish photographer José Díaz spends 100 days living alone on a remote mountain, connecting to nature and documenting the beauty of his surroundings.',\n",
              " 'One hundred hardy souls from diverse backgrounds participate in playful experiments exploring age, sex, happiness and other aspects of being human.',\n",
              " \"A man who is diagnosed with multiple sclerosis responds by training for an Ironman triathlon, with his cranky father-in-law's help.\",\n",
              " 'Led by seventh-grader C.J., three students who have been warned about the dangers of high school decide to make the best of their middle-school years.',\n",
              " \"This documentary chronicles Elouise Cobell's long fight against the U.S. government for the gross mismanagement of mineral-rich Native American land.\",\n",
              " \"After high school, a young woman marries the man of her father's choice but soon faces the possibility that her religion considers the union invalid.\",\n",
              " \"A stylist, a hair designer and a makeup artist team up to give Britain's biggest fashion disasters some much-needed makeunders.\",\n",
              " \"After randomly receiving a handsome political bribe, a sweet, poor elderly woman decides to treat herself a shopping spree, which doesn't go smoothly.\",\n",
              " 'Dealing with personal demons and the death of his son, a prizefighter attempts a return to the ring by challenging his rival to a 12-round rematch.',\n",
              " 'A pregnant teen is forced by her family to leave her boyfriend and assume a new identity in America, but 12 years later, the couple reunites in Korea.',\n",
              " 'Young parents-to-be Claire and Ryan move into a suburban rental home, unaware that someone is secretly watching their every move via hidden cameras.',\n",
              " \"After a teenage girl's perplexing suicide, a classmate receives a series of tapes that unravel the mystery of her tragic choice.\",\n",
              " 'Cast members, writers, producers and mental health professionals discuss some of the difficult issues and themes explored in \"13 Reasons Why.\"',\n",
              " \"A man agrees to appear on a game show with a $6 million prize. But as the challenges become more extreme, he realizes he's made a grave mistake.\",\n",
              " 'In this thought-provoking documentary, scholars, activists and politicians analyze the criminalization of African Americans and the U.S. prison boom.',\n",
              " 'In the age of the Ming Dynasty, Quinglong is the best of the Jinyiwei, an elite assassin squad made up of highly trained former street urchins. When evil eunuch Jia unseats the emperor, Quinglong is called to action but is quickly betrayed.',\n",
              " 'Upping the “13 Cameras” ante, this sequel finds a family renting a vacation house that’s been customized to violate their privacy.',\n",
              " 'A Google executive boldly attempts a death-defying mission to travel to space and free-fall back to Earth without a rocket.',\n",
              " \"Tasked with escorting a prosecution witness to court, an aging cop gears up for the 16-block trek – but they'll be lucky to make it there alive.\",\n",
              " 'Nearing a midlife crisis, thirty-something Mike wishes for a \"do-over\" – and that\\'s exactly what he gets when he wakes up to find he\\'s 17 again.',\n",
              " 'A pregnant mother with terminal cancer leaves behind 18 sentimental gifts for her unborn daughter to receive every birthday until she reaches womanhood.',\n",
              " 'While Spain relinquishes its last colonies, a battle-fatigued outpost engages in a long, brutal and sometimes bizarre clash with Filipino insurgents.',\n",
              " 'Seeking her independence, a young woman moves to Los Angeles and settles into a cozy apartment complex with a disturbing sense of community.',\n",
              " 'Student filmmakers uncover occult rituals tied to an abandoned warehouse, then gradually realize the horror is closer than they think.',\n",
              " \"A bumbling Paris policeman is doggedly determined to capture the master thief that repeatedly eludes him, even when they're the last two men on Earth.\",\n",
              " \"Graduate students Krish and Ananya hope to win their parents' approval before they marry, but the two families clash over their cultural differences.\",\n",
              " 'Winner of the 2014 Academy Award for Best Documentary Feature, this film takes a look at the world of backup vocalists and the legends they support.',\n",
              " 'When his wife is convicted of murder, a horrified family man races to prove her innocence while a dogged investigator sets out to uncover the truth.',\n",
              " \"The world's biggest K-pop festival marked its 21st year in 2015, with groups such as EXO, 4Minute and SHINee electrifying the Seoul World Cup Stadium.\",\n",
              " 'Working with an artificial intelligence to investigate the failure of a deadly Mars landing, a mission controller makes an astonishing discovery.',\n",
              " 'In 1979, single bohemian mom Dorothea, hoping to help her teen son find his place as a man, asks two young women to share their lives with him.',\n",
              " \"Jeff's straight-and-narrow life changes abruptly when his buddies take him out for a birthday bash – the night before a crucial med school interview.\",\n",
              " 'In a social experiment, a group of daughters sends their mothers, disguised as 21-year-olds, into the world to experience life as a member of Gen Z.',\n",
              " \"In one of history's greatest last stands, a battalion of 21 Sikh soldiers fights to defend their outpost from attack by over 10,000 Afghans.\",\n",
              " 'Players and coaches for a Montreal soccer team chase dreams of stardom while their personal lives erupt with love, fear, passion and violence.',\n",
              " 'In the frozen tundra of a futuristic Arizona where humans have been forced underground, a soldier hunts the bioengineered leader of a rebellion.',\n",
              " 'Revived by an experimental procedure, a hit man gets to live an extra 24 hours – which he uses to avenge his dead wife and child and redeem himself.',\n",
              " 'Four brothers learn that they have inherited ancestral land, but must fight to claim it when a greedy feudal lord threatens to take it over.',\n",
              " 'Twenty-six years after the 1980 massacre at Gwangju, South Korea, three relatives of the victims come together to avenge the infamous orchestrator.',\n",
              " 'After a musician dies under suspicious circumstances, a hard-drinking detective and a music fan investigate why rock stars often die at the age of 27.',\n",
              " 'Explore the circumstances surrounding the tragic deaths at 27 of Jimi Hendrix, Jim Morrison, Brian Jones, Janis Joplin, Kurt Cobain and Amy Winehouse.',\n",
              " 'After her drunken antics result in property damage, an alcoholic journalist enters rehab – and soon meets a fellow resident who changes her outlook.',\n",
              " 'When her fiancé acts strangely upon receiving a mysterious invitation, a florist sets out to find out the truth behind the tiny scrap of paper.',\n",
              " 'A terminally ill secret agent accepts a risky mission in exchange for an experimental drug that might save him – if he can survive its side effects.',\n",
              " 'A reporter interviews three convicts on death row for a documentary but as their stories emerge, so do her own true motivations for soliciting them.',\n",
              " 'When teenage Ray begins transitioning from female to male, his single mom and grandmother must cope with the change while tracking down his father.',\n",
              " 'Three Indonesian women break records by becoming the first of their nation to medal in archery at the Seoul Olympics in the summer of 1988.',\n",
              " \"While attending one of India's premier colleges, three miserable engineering students and best friends struggle to beat the school's draconian system.\",\n",
              " \"A Muslim women's activist group in India protests against oral divorces, starting a movement to reclaim their religious and constitutional rights.\",\n",
              " \"The lives of three dissatisfied brothers running a family bridal shop turn topsy-turvy when one of them has to care for his ex-girlfriend's baby.\",\n",
              " 'With the help of his friends, a man breaks out of prison in hopes of restoring a lively nightclub.',\n",
              " 'Two crooks planning a bank heist wind up abducting a pizza delivery driver and force him to commit the robbery — with a strict time limit.',\n",
              " 'Hoping to help their dissident parents, two brothers sneak out of Poland and land as refugees in Denmark, where they are prevented from returning home.',\n",
              " 'A fiery executive in a spiritless relationship falls victim to a dominant mafia boss, who imprisons her and gives her one year to fall in love with him.',\n",
              " 'Trapped by society and familial obligations, a young manga artist goes on an unconventional journey for sexual freedom and personal liberation.',\n",
              " 'After crash-landing on Earth, two royal teen aliens on the run struggle to blend in with humans as they evade intergalactic bounty hunters.',\n",
              " 'When their prison bus crashes in a forest on a rainy night, a group of criminals finds themselves battling wild animals and a mysterious killer.',\n",
              " 'After launching a successful underground restaurant out of their apartment, an ambitious chef and his wife open an all-consuming upscale eatery.',\n",
              " 'Paw-esome tales abound when singing furry friends Lampo, Milady, Pilou and Meatball band together.',\n",
              " \"In 1960s Madrid, music producer Guillermo Rojas launches a rock 'n' roll label with the help of aspiring singer Robert and clever producer Maribel.\",\n",
              " \"When a small town's letters to Santa accidentally go up in smoke, two elves venture out of the North Pole to retrieve every missing wish.\",\n",
              " 'Hoping to reunite with a dying friend, two longtime pals re-create their desert road trip from Spain to Mali, bringing along his estranged daughter.',\n",
              " \"A young mechanic comes out to his extremely straight best friends. Once they get used to the idea, they're determined to help him find the right guy.\",\n",
              " \"After the election-night murder of her campaign manager at a polling site, a gubernatorial candidate challenges the corrupt incumbent's victory.\",\n",
              " 'Yanto asks his friends to help save a girlfriend who was kidnapped by a mobster. Silly slapstick and campy crimefighting ensues.',\n",
              " 'A couple finds unexpected drama when, after 40 years of living in the same Brooklyn walk-up, they attempt to sell their apartment and buy a new one.',\n",
              " 'When the Italian prime minister meets his lover and political rival while on an official trip to Budapest during Christmas week, things go topsy-turvy.',\n",
              " \"A young novelist's life is turned upside down when a chance encounter outside a New York hotel leads to an intense affair with a diplomat's wife.\",\n",
              " 'After falling for a pretty art teacher who has no short-term memory, a marine veterinarian has to win her over again every single day.',\n",
              " 'An otherwise healthy twentysomething has a comically early midlife crisis when he gets slapped with a cancer diagnosis and a 50-50 chance of survival.',\n",
              " 'Five friends embark on a mission to climb the highest peak in Java, overcoming obstacles on the way and discovering the true meaning of friendship.',\n",
              " \"To keep the band together, Selly tries to earn money by making an appearance at the birthday party of a mobster's daughter — until he gets kidnapped.\",\n",
              " 'A loyal sister struggles to stay afloat while driving her heroin-addicted brother to a detox center and looking after his 2-year-old daughter.',\n",
              " 'When armed gunmen seize the Iranian Embassy in 1980, a tense six-day standoff ensues while elite British soldiers prepare for a dangerous raid.',\n",
              " 'After faking his death, a tech billionaire recruits a team of international operatives for a bold and bloody mission to take down a brutal dictator.',\n",
              " 'As a volatile young couple who have been together for six years approach college graduation, unexpected career opportunities threaten their future.',\n",
              " 'Six friends decide to undertake a grueling mountain trek, only to find that the difficulties in store for them are not merely physical.',\n",
              " 'Recruited by a sheriff, volunteers infiltrate county prisons to expose corruption and crime from within the system in this docuseries.',\n",
              " 'A hapless guy agrees to help his stunning – but psychotic – girlfriend rob her loathsome sugar daddy in a scheme as ill-conceived as it is violent.',\n",
              " 'Multiple women report their husbands as missing but when it appears they are looking for the same man, a police officer traces their cryptic connection.',\n",
              " 'Loyalties are tested and cruelties revealed when four business partners spend a tense evening debating who will pay for the crime they committed.',\n",
              " 'Witness the excitement and drama behind the scenes in the seven days leading up to major live events in the worlds of sports, fashion, space and food.',\n",
              " 'Given just seven days by a genie to find a girl who will fall for him, a nerdy young man embarks on a madcap and messy search for his would-be wife.',\n",
              " 'Spiced liberally with black comedy, this Bollywood drama follows the lethal love life of a woman who marries numerous men – only to find them flawed.',\n",
              " 'This series examines the nature of cuteness and how adorability helps some animal species to survive and thrive in a variety of environments.',\n",
              " 'From fangs to claws to venomous stings, they all wield deadly weapons. But which creature will be crowned the fiercest of all?',\n",
              " \"Powerful cats, indestructible arachnids and flesh-melting pit vipers are just the beginning in this series about Latin America's deadliest creatures.\",\n",
              " 'Get up close and personal with avalanches, fiery volcanoes and other natural cataclysms, and learn why some choose to live in their destructive paths.',\n",
              " 'Shy Natsu awakens as part of a group chosen to ensure the survival of humanity. Together, they have to survive on a changed Earth.',\n",
              " \"Witness the wonders of human gestation through cutting-edge CGI, and learn how those nine months inside the womb can affect all aspects of one's life.\",\n",
              " 'Four friends shake up their lives when they meet a new woman in their apartment complex who encourages them to embrace their wild sides.',\n",
              " 'Heroic health workers fight to contain an Ebola outbreak when a patient arrives in Lagos with symptoms of the deadly virus. Based on a true story.',\n",
              " 'A gymnast lacks the confidence she needs to reach the top. But with the help of her new coach, she has the chance to win a spot on the national team.',\n",
              " 'This documentary captures the joy and heartbreak of families separated by the U.S.-Mexico border sharing a short but bittersweet reunion in 2018.',\n",
              " \"Recruited by a secret society of babysitters, a high schooler battles the Boogeyman and his monsters when they nab the boy she's watching on Halloween.\",\n",
              " 'Stressed-out moms Amy, Carla and Kiki are back, and the looming Christmas holiday gets even more daunting when their mothers show up for a visit.',\n",
              " 'After meeting under awkward circumstances, a glamorous businesswoman and a tradition-bound policeman begin a relationship that changes their lives.',\n",
              " 'The curious child of idealistic interfaith parents observes an increasingly intolerant world as his family faces financial strain.',\n",
              " \"After his wife's death, an overworked engineer struggles to care for his son with autism, who regresses into a fantasy world to escape real-life bullying.\",\n",
              " 'A 28-year-old layabout begins to re-examine his life when his dysfunctional family assembles to pay respects to a dying grandmother who won’t pass on.',\n",
              " 'This wartime drama details a pivotal day in 1944 when an Allied task force tried to win World War II by seizing control of key bridges in Holland.',\n",
              " 'With his carefree lifestyle on the line, a wealthy charmer poses as a ranch hand to get a hardworking farmer to sell her family’s land before Christmas.',\n",
              " 'When a grieving teen must work off her debt to a ranch, she cares for a wounded horse that teaches her more about healing than she expected.',\n",
              " 'Forced to wed his childhood friend, a man obsessed with football attempts to get rid of his wife in order to keep the woman he truly loves.',\n",
              " 'Determined to win the heart of his childhood crush from orphanage, EJ becomes a boxer with superpowers and soon confronts a formidable villain.',\n",
              " 'A cop working undercover to trail a possible diamond thief gets caught in a tricky spot when she finds new clues — and new feelings — for the suspect.',\n",
              " \"Christmas comes early for an aspiring young journalist when she's sent abroad to get the scoop on a dashing prince who's poised to be king.\",\n",
              " 'Christmas brings the ultimate gift to Aldovia: a royal baby. But first, Queen Amber must save her family and kingdom by unwrapping a monarchy mystery.',\n",
              " 'A year after helping Richard secure the crown, Amber returns to Aldovia to plan their wedding. But her simple tastes clash with royal protocol.',\n",
              " 'Parisian teen Marinette transforms herself into superhero Ladybug to find her lonely secret crush Adrien when he runs away from home at Christmas.',\n",
              " \"Teen Sam meets the boy of her dreams at a dance before returning to toil in her stepmother's diner. Can her lost cell phone bring them together?\",\n",
              " 'Despite her vain stepmother and mean stepsisters, an aspiring singer works as an elf at a Christmas tree lot and finds her own holiday miracle.',\n",
              " 'In this dark satire from director Stanley Kubrick, a young, vicious sociopath in a dystopian England undergoes an experimental rehabilitation therapy.',\n",
              " 'At the center of this engrossing melodrama is a Golden Globe-nominated turn by Debra Winger, who plays a sheltered, slow-witted woman living with her widowed Aunt Frances while working at a dry cleaners.',\n",
              " 'In this live-action adventure, the gang heads to Hawaii, where Timmy learns the source of all fairy magic is in dangerous hands.',\n",
              " 'When gentle, law-abiding Grace confesses to killing her new husband, her skeptical young lawyer sets out to uncover the truth. A film by Tyler Perry.',\n",
              " 'The filmmaker hunts for the missing puzzle pieces of his family history during a visit with a complex and controversial figure: his grandmother.',\n",
              " 'A ruthless corporate headhunter battles his rival for a promotion while dealing with a family crisis that threatens to derail his career.',\n",
              " \"M'Dear and her sisters struggle to keep their singing act together before a church Christmas pageant while Grandpa teaches the kids a valuable lesson.\",\n",
              " \"A timid man gets unexpected superpowers while trying to save his family's land and a sacred tree from a ruthless tycoon.\",\n",
              " \"A gifted engineer flees his austere roots to pursue wealth and success among Copenhagen's elite, but the pride propelling him threatens to be his ruin.\",\n",
              " 'In a brief life full of triumph and failure, \"National Lampoon\" co-founder Doug Kenney built a comedy empire, molding pop culture in the 1970s.',\n",
              " \"Following a fatal car crash, a man's spirit remains stuck in the home he shared with his wife as doors into the past and future begin to open.\",\n",
              " 'When his girlfriend walks out and leaves him a wreck, a graphic designer – who seemed to have it all – sets out to discover where he went wrong.',\n",
              " 'When a familiar-looking stranger crashes in without a memory, Cory helps him remember the magic of Christmas to save the holiday for everyone.',\n",
              " 'Cory, Chrissy and Freddie are on the hunt for king-sized candy bars this Halloween! But are all the treats worth the trek to the spooky side of town?',\n",
              " \"Cory's spending the summer at Camp Friendship with his best friend, Freddie. But jealousy flares when Freddie brings his cousin Rosie along for the ride.\",\n",
              " 'As her seemingly idyllic life begins to crumble, a lonely woman in a restrictive marriage starts an affair with a gentle bookstore owner.',\n",
              " \"Aardman Animations icons Wallace & Gromit, Morph and more join fans and collaborators for a retrospective celebrating the studio's 40th anniversary.\",\n",
              " 'This documentary dissects the case of a filmmaker whose death, along with the deaths of his wife and daughter, sparked alt-right conspiracy theories.',\n",
              " 'This spoof on scary movies follows a young couple settling into a new home, where an evil spirit — and horrifyingly hilarious antics — await.',\n",
              " 'When the ghost of her serial killer aunt seemingly resurfaces, Jordan must return to Silver Falls in hopes of finally putting an end to the torment.',\n",
              " 'Long past his heyday, a still-virile boxer tries to reconnect with his daughter as he confronts the onset of a terminal, degenerative neural disorder.',\n",
              " \"Hilary's plan to hire a good-looking guy to act as her boyfriend backfires when she brings him home for the holidays to try and fool her family.\",\n",
              " 'When a neighbor blocks their view of the city with a commercial billboard, a Hong Kong family resorts to drastic, imaginative measures to take it down.',\n",
              " 'Yijuan and her mentally ill sister Kaiqi struggle to be happy in the face of misfortune, criminal intrigue, marital strife, an exorcism and a ghost.',\n",
              " \"From gifted athlete to professional NBA hooper, Coney Island's Stephon Marbury navigates the pressures, pitfalls and peaks of his basketball journey.\",\n",
              " 'Obsessed with an unsolved murder case, a crime novelist stuck in an unhappy marriage fantasizes about killing his wife, who soon turns up dead.',\n",
              " \"A self-serving mythical creature's bid for invincibility backfires when he finds himself at the mercy of a woman who can see otherworldly beings.\",\n",
              " 'A cop in Singapore investigates the disappearance of a Chinese migrant construction worker who spent sleepless nights playing a mysterious video game.',\n",
              " 'This documentary takes a deep dive into the benefits, dangers and lingering questions around Kratom leaf as an alternative to opioid painkillers.',\n",
              " 'Juan Manuel Fangio was the Formula One king, winning five world championships in the early 1950s — before protective gear or safety features were used.',\n",
              " 'Five kids and their resilient families navigate the treatments and traumas of pediatric cancer in this documentary filmed over the course of six years.',\n",
              " \"A willful young woman is hired to design a garden at Versailles for Louis XIV. Soon, she's ensnared in political and romantic complications.\",\n",
              " 'Comedy icon Carol Burnett returns to TV with a panel of clever kids, who help adults and celebrity guests solve their problems with brutal honesty.',\n",
              " 'A shy college student with a knack for drawing develops a crush on a musically gifted classmate and embarks on a journey of self-discovery.',\n",
              " 'Love is as tough as it is sweet for a lovestruck teenager, whose relationship with her next-door neighbor transforms as they grow into adulthood.',\n",
              " \"The killing of Latasha Harlins became a flashpoint for the 1992 LA uprising. This documentary evocatively explores the 15-year-old's life and dreams.\",\n",
              " \"Self-made millionaire Ian thinks he's found happiness when he marries caring Joanna, but his love is put to the test when he meets stewardess Karyn.\",\n",
              " 'Raised in America, government agent Choi Kang-Ta returns to Korea with the skills of an assassin and a thirst for revenge on his father’s killers.',\n",
              " 'When a fit of anger leads to a serious injury, a sidelined soccer star returns to his hometown and reluctantly agrees to train the local youth.',\n",
              " 'A young man struggles with his overbearing mother while looking for romance and a way to kick-start his show business career.',\n",
              " 'Overwhelmed by his mother’s illness, a young boy begins to understand human complexity through the fantastic tales of a consoling tree monster.',\n",
              " \"Abel Morales tries to avoid corruption's easy path as he pursues the American Dream amid an increasingly violent business war in 1981 New York City.\",\n",
              " 'This documentary excoriates a noted anti-death-penalty activist and his team, whose questionable methods got a convicted killer freed in 1999.',\n",
              " 'Entrepreneurs worldwide explore alternatives to current capitalist structures, advocating for profitable businesses that also tackle social inequality.',\n",
              " \"As her wedding nears, a bride-to-be is visited by an angel who reveals what could have been if she'd followed feelings for her childhood best friend.\",\n",
              " 'After a run-in with Richard Grieco, dimwits Doug and Steve gain entry to a swanky nightclub in this comedy based on a \"Saturday Night Live\" sketch.',\n",
              " 'In 1888 Amsterdam, a headstrong violin maker finds himself immersed in peril and tragedy after challenging businessmen who threaten his community.',\n",
              " 'When a guard catches a writer-television host shoplifting, instead of turning him in, he only asks to be a friend, then begins to rule his life.',\n",
              " \"This docuseries investigates the 1991 killing of politician Detlev Rohwedder, an unsolved mystery at the heart of Germany's tumultuous reunification.\",\n",
              " 'After confessing an unusual secret, a repressed wife – prompted by her friends – decides to explore her sexuality with a high-priced call girl.',\n",
              " 'Nina thinks her husband, James, is cheating on her, and she sets out to prove it by calling him and pretending to be another woman.',\n",
              " \"When he discovers the world's oceans brimming with plastic waste, a documentary filmmaker investigates the pollution's environmental impacts.\",\n",
              " 'At the invitation of a relative, young Jules Daly travels with her niece and nephew to a castle in Europe, where Jules falls for a dashing prince.',\n",
              " 'Gloria Groove and Alexia Twister make drag dreams come true as they help six artists find the confidence to own the stage in this makeover show.',\n",
              " \"The residents of an isolated town look to revive their home's identity when a group of foreigners unexpectedly arrive, bringing culture shock with them.\",\n",
              " 'Inspired by the variety shows of the 1970s, \"A Russell Peters Christmas\" is a sweet, silly, sentimental and, most of all, funny Christmas special.',\n",
              " \"A film school graduate is interested in making a movie about his girlfriend's uncle, who claims that he can see his long-dead daughter.\",\n",
              " 'Following their storybook wedding, Popoy and Basha find married life – and starting a business together – more challenging than they ever imagined.',\n",
              " 'Amid shifting times, two women kept their decades-long love a secret. But coming out later in life comes with its own set of challenges.',\n",
              " 'Amid an impasse in his marriage, a father in Tehran is beset by a bitter feud involving the family of a pious caretaker he hired for his aging dad.',\n",
              " 'The extraordinary Baudelaire orphans face trials, tribulations and the evil Count Olaf in their fateful quest to unlock long-held family secrets.',\n",
              " 'With every aspect of his life unraveling, a Jewish physics professor seeks out three rabbis for spiritual guidance.',\n",
              " 'Shaun and the flock race to help an adorable alien find her way home after her ship crash-lands near Mossy Bottom Farm and sparks a UFO frenzy.',\n",
              " \"A former class bully reaches out to the deaf girl he'd tormented in grade school. He feels unworthy of redemption but tries to make things right.\",\n",
              " \"This stream-of-consciousness drama centers on a day in the life of a gay college professor who's reeling from his longtime lover's recent death.\",\n",
              " 'An Argentine doctor faces legal and ethical challenges when she travels to the countryside to pick up the infant she has been waiting to adopt.',\n",
              " 'Ace news producer Amy is called back to her Louisiana hometown where memories of what used to be – and what might have been – come flooding back.',\n",
              " 'After reckless teens kill an Amish child, a prosecutor attempts to bring the youths to justice despite the condemnation he faces from the community.',\n",
              " \"Bo thinks her holiday gift-giving isn't good enough, so she heads north to study under Santa Claus – only to find he's missing.\",\n",
              " \"A family reckons with the aftermath of their younger son's incarceration and a greater misfortune that follows.\",\n",
              " 'A Taipei doctor and a San Francisco engineer swap homes in a daring pact, embarking on journeys filled with trials, secrets and unexpected encounters.',\n",
              " \"Based on the memoirs of author Amos Oz, this poetic drama shares his family's tale of suffering and survival in the early years of independent Israel.\",\n",
              " 'Mexico City restaurant star Gabriela Cámara opens sister eatery Cala in San Francisco, with a similar menu and unusually welcoming kitchen culture.',\n",
              " \"When a philandering club promoter sets out to woo a rich, glamorous woman, he has no clue just how much mayhem he's about to unleash on his life.\",\n",
              " \"To carry out her dad's wish and discover her roots, Dai Tian-qing embarks on a journey around Taiwan and finds love and redemption on the way.\",\n",
              " 'When he learns his karma will permit him to speak just a thousand more words before he dies, fast-talking agent Jack must make every syllable count.',\n",
              " \"Amid the turmoil of China's civil war, families of Kuomintang pilots face the pain of leaving their homes but find strength in their shared bonds.\",\n",
              " 'When Santa crash-lands in the junkyard on Christmas Eve, Hank, Trash Truck and their animal friends all have a hand in rescuing the holiday for everyone.',\n",
              " \"A newly engaged couple's romantic vacation in Jamaica turns into a mischievous adventure that tests their union in wild and unexpected ways.\",\n",
              " 'Facing a drought, a hungry tiger and a noble cow have an extraordinary encounter in this fable based on a children’s book and a Kannada folk song.',\n",
              " 'Future Uruguayan president José Mujica and his fellow Tupamaro political prisoners fight to survive 12 years of solitary confinement and torture.',\n",
              " 'When an unfulfilled country music star hides out in his hometown, he meets a budding interior designer who finds her way into his heart.',\n",
              " 'Bill Murray rounds up an all-star cast for an evening of music, mischief and barroom camaraderie in this irreverent twist on holiday variety shows.',\n",
              " 'At the height of the Cold War in 1960, André Merlaux joins the French Secret Service and contends with enemies both foreign and bureaucratic.',\n",
              " \"After landing a job working for her longtime crush, an optimistic woman realizes that the man of her dreams isn't exactly who she envisioned.\",\n",
              " 'When bad boy Landon is cast opposite campus bookworm Jamie in a high school play, romance blooms — until tragedy threatens to tear them apart.',\n",
              " 'After receiving an anonymous tip about a bomb, a police commissioner must negotiate with the terrorist, who demands the release of four militants.',\n",
              " 'Los Angeles police officers embark on an innovative program mentoring promising students from the harsh, gang-infested Watts neighborhood.',\n",
              " \"A peculiar girl transforms into a cat to catch her crush's attention. But before she realizes it, the line between human and animal starts to blur.\",\n",
              " \"Beatrix can't wait to be inducted as a witch, but an unfortunate incident threatens to take her pending title away if she doesn't act fast.\",\n",
              " 'Years after their father disappears, Meg and her younger brother Charles Wallace cross galaxies on a quest to save him from the heart of darkness.',\n",
              " \"Two astronauts attempt to brave a life in Earth's orbit on a record-setting mission to see if humans have the endurance to survive a flight to Mars.\",\n",
              " 'In Singapore, a homeless ex-convict hoping to reunite with his family forms a bond with a Chinese sex worker while serving as her bodyguard.',\n",
              " \"In the wake of Jesus Christ's crucifixion, his apostles dedicate themselves to spreading his message, risking their freedom and their lives.\",\n",
              " \"Everything Aiko knew was a lie. Now she's joining a team of Divers to reach the place where the Burst began to stop it for good and save her family.\",\n",
              " 'After losing her mother, a teenage girl bonds with her phone’s artificial intelligence app, a relationship that soon takes a dark and violent turn.',\n",
              " 'Young motocross racer Miles Hill helps a top-secret robotic combat dog evade its ruthless creator and the military, who are in hot pursuit.',\n",
              " 'A series of coincidences brings two star-crossed lovers together, but fate pulls them apart until they encounter each other again in Istanbul.',\n",
              " 'When Shaji Pappan and his gang of goofy outlaws find themselves low on funds, they plan to once again win a hefty prize in a tug-of-war competition.',\n",
              " \"A cop full of self-doubt loses his gun five days before he's due to leave the force, and becomes an unexpected hero as he tries to retrieve it.\",\n",
              " 'A conscientious politician helps an elderly singer overcome the obstacles placed in his path a by a powerful bureaucracy.',\n",
              " 'An intrepid police inspector forced into a desk job must take matters into his own hands when ruthless criminals are released on a technicality.',\n",
              " 'When an aging father seeks the help of a doctor and a journalist to look for the son who left him 16 years ago, he learns some surprising truths.',\n",
              " \"In this high-tension thriller, an anonymous caller on a cell phone threatens to harm a man's family if he doesn't carry out every order.\",\n",
              " 'When a man falls from his balcony, an investigator questions the victim’s family, determined to uncover a darker truth behind the alleged accident.',\n",
              " \"The decision by India's supreme court to establish caste-based reservations for jobs in education causes conflict between a teacher and his mentor.\",\n",
              " 'When he learns he has terminal cancer, a cynical gambler and chronic smoker ditches his fiancée, snubs doctors and checks into a nursing home to die.',\n",
              " \"Raised by a kindly thief, orphaned Jimmy goes on the run from goons and falls in love with Jyoti, whose father indirectly caused his parents' deaths.\",\n",
              " \"A municipal clerk with literary ambitions stalks a loan recovery officer on whom he has decided to base his story's central character.\",\n",
              " 'After losing their first child in an accident, a couple moves to a palatial home, where their young daughter comes under the spell of an eerie spirit.',\n",
              " \"A big-hearted girl helps her Fuzzly friends who live in her family's hotel with exploring feelings, fixing mishaps and embracing their special quirks.\",\n",
              " 'After losing his seventh job in a row, a TV producer and sci-fi buff travels back in time to 1980, where his employment prospects improve.',\n",
              " 'After being accused of cheating on a reality TV show, a dance troupe seeks to redeem itself by winning the World Hip-Hop Dance Championship.',\n",
              " \"Thrown out of the elite dance studio he founded, Vishnu's spirits rebound when he sees young street dancers prepping for an annual contest.\",\n",
              " 'Following the mysterious death of his parents, a young man finds himself enmeshed in the dark world of drugs and crime.',\n",
              " 'In this true crime documentary, a family falls prey to the manipulative charms of a neighbor, who abducts their adolescent daughter. Twice.',\n",
              " 'Inspired by real events, this drama follows a trucker jailed after driving five ill-fated travelers across Quetta, and the officer taking on his case.',\n",
              " 'Due to family pressure, a corporate man reluctantly marries a woman from the village, but in their new home, she abruptly assumes a different persona.',\n",
              " 'Led by a trio of Korean celebs, a multinational panel of men engage in – usually – lighthearted debates on issues that surround Korea and beyond.',\n",
              " \"Two small abominable snowmen flee their mountain to escape a scientist who's trying to capture them and end up spending Christmas with a human family.\",\n",
              " 'Hip, irresponsible Londoner Will invents an imaginary son and starts attending single-parent meetings to find available women.',\n",
              " 'When Tim learns that the men in his family can travel in time and change their own lives, he decides to go back and win the woman of his dreams.',\n",
              " 'Step inside the minds of the most innovative designers in a variety of disciplines and learn how design impacts every aspect of life.',\n",
              " 'A cast of quirky critters and Mother Nature herself narrate this funny science series, which peeks into the lives of Earth’s most incredible animals.',\n",
              " 'After meeting an untimely demise in separate incidents, Cha Min and Go Se-yeon discover they’ve come back to life in new bodies they don’t recognize.',\n",
              " 'A disenfranchised 16-year-old girl connects to an older man on the internet and after a brief one-sided affair descends into obsession and anorexia.',\n",
              " 'Three lifelong friends travel to Acapulco ostensibly so one of them can find his lost love, but the real reason behind the trip holds some surprises.',\n",
              " 'A contract killer skilled at staging lethal accidents fears he may be a victim of his own strategy when an accomplice dies in a mysterious mishap.',\n",
              " 'Rejecting the demands of her wealthy family, a young woman poses as an ordinary college student and crosses paths with a stoic pop star at school.',\n",
              " \"A young boy, upset by his parents' divorce, becomes infatuated with his grandmother's neighbor, an entrancing dancer he watches through a window.\",\n",
              " 'A black high school student sets his sights for the National Hockey League, but rising racial tensions in his community may jeopardize his goals.',\n",
              " 'An American girl and a British lad fall in love amid the social and political upheaval of the 1960s, in this musical featuring songs by the Beatles.',\n",
              " 'An elite squad of Navy SEALs is tasked with rescuing a kidnapped CIA agent from a lethal terrorist cell.',\n",
              " 'Two Turkish agents are sent to New York City on a mission to capture a notorious terrorist known only as \"Dejjal\" (Arabic for Antichrist).',\n",
              " 'Sick of his parents’ constant squabbling, a young man travels back in time to the onset of their romance, with plans to set them up for marital bliss.',\n",
              " 'Devastated by the murder of his wife and child, a formerly fast-talking lawyer takes a vow of silence and trains himself for a mission of revenge.',\n",
              " 'When his future sister-in-law is kidnapped by human traffickers, a military veteran joins forces with his brothers and a world-weary cop to rescue her.',\n",
              " 'In a future where regeneration technology lets humans live indefinitely, a cop and a troubled young woman investigate a strange wave of youth suicides.',\n",
              " 'Near a Spanish town in northern Africa, a child takes a painful journey, a father reconnects with his daughter and a coast guard is guilt stricken.',\n",
              " 'Frenetic comic Adam Devine talks teen awkwardness, celebrity encounters, his \"Pitch Perfect\" audition and more in a special from his hometown of Omaha.',\n",
              " 'Education can be fun – and funny. Comedian Adam Conover bursts misconceptions, deconstructs topics and leaves with positive takeaways.',\n",
              " 'From \"Heroes\" to \"Ice Cream Ladies\" – Adam Sandler\\'s comedy special hits you with new songs and jokes in an unexpected, groundbreaking way.',\n",
              " 'After their child was abducted and murdered, John and Reve Walsh fought to raise national awareness of the problem of missing children.',\n",
              " 'Chasing extreme challenges, athletic daredevils test their limits in various environments from giant waves to snowy slopes around the world.',\n",
              " 'From Casino du Liban, Lebanese actor and comedian Adel Karam delivers earthy punchlines on kissing norms, colonoscopies and a porn star named Rocco.',\n",
              " 'A fast-footed piglet named Bunty becomes an object of desire for rival criminals that want the swift swine for their profitable animal-racing schemes.',\n",
              " 'Trailblazing comic Aditi Mittal mixes topical stand-up with frank talk about being single, wearing thongs and the awkwardness of Indian movie ratings.',\n",
              " \"When lifelong friends Roz and Lil fall in love with each other's teenage sons, they must carry out their affairs in relative secrecy.\",\n",
              " 'A young couple’s sailing adventure becomes a fight to survive when their yacht faces a catastrophic hurricane in this story based on true events.',\n",
              " 'A family’s harmonious existence is interrupted when the young son begins showing symptoms of anxiety that seem linked to disturbing events at home.',\n",
              " 'In order to keep her job at a biomedical engineering firm that prizes youth, a middle-aged woman must submit to a drastic experimental procedure.',\n",
              " 'After years of home-schooling, an awkward teen decides he wants a public high school experience, but his overbearing mother struggles to let go.',\n",
              " 'Dubai residents struggle to figure out why a fleet of alien spaceships are hovering over their city when all contact with the outside world is cut off.',\n",
              " 'Baffling symptoms. Controversial diagnoses. Costly treatments. Seven people with chronic illnesses search for answers – and relief.',\n",
              " 'Brazilian comedian Afonso Padilha dives into his humble beginnings and digs out hilarious stories about his childhood in this very personal set.',\n",
              " 'This five-part nature series chronicles fascinating stories of survival on the African continent, home to the most diverse animal life on the planet.',\n",
              " 'This docuseries spotlights Afro-Brazilian thinkers sharing their individual journeys and discussing representation, entrepreneurship and community.',\n",
              " 'Wholesome college freshman Tessa Young thinks she knows what she wants out of life, until she crosses paths with complicated bad boy Hardin Scott.',\n",
              " \"Struggling to come to terms with his wife's death, a writer for a newspaper adopts a gruff new persona in an effort to push away those trying to help.\",\n",
              " \"Displaced by Hurricane Maria, three Puerto Rican women navigate their families' uncertain futures as their federal housing aid in New York expires.\",\n",
              " 'This documentary explores the careers of some of porn\\'s top stars and examines their adjustment to \"normal\" society after leaving adult entertainment.',\n",
              " \"This third installment in a documentary series examines the lives of the adult film genre's biggest stars after their industry careers have ended.\",\n",
              " 'A large immigration raid in a small town leaves emotional fallout and hard questions for its churchgoers about what it means to love thy neighbor.',\n",
              " 'Tessa fell hard and fast for Hardin, but after a betrayal tears them apart, she must decide whether to move on — or trust him with a second chance.',\n",
              " \"After an air traffic controller's mistake results in a tragic accident, a man who lost his wife and daughter seeks answers from the man responsible.\",\n",
              " 'When a prep school loner films two classmates overdosing on cocaine, his footage plays a role in the emotional fallout within the school community.',\n",
              " 'An American tourist and his friends are partying in Chile, but a major earthquake devastates the area and forces them to scramble for survival.',\n",
              " 'A detective and a psychologist investigating a string of murders form a crime-solving team with the novelist whose work inspired the killings.',\n",
              " 'In a dramatized depiction of her 11-day disappearance, novelist Agatha Christie solving a real murder amid a crisis in her writing and marriage.',\n",
              " 'Despite the social backlash and challenges that come with intergenerational romance, these couples choose to stick together through thick and thin.',\n",
              " 'Amid the thriving nightlife of 1960s Kuala Lumpur, three Chinese friends – a showgirl, her housekeeper and a chanteuse – find love and heartbreak.',\n",
              " 'At their high school, a group of unruly teens wreak havoc, face bullies and navigate turbulent lives beyond school grounds.',\n",
              " 'The history of military tanks unfolds in a documentary series that traces their role in history and geopolitics from World War I to the 21st century.',\n",
              " 'A former footballer tries to make it as a player agent in the world of African soccer, but a secret from his past threatens to destroy everything.',\n",
              " 'A mix of brilliance, erudition and skill enables a modern Sherlock Holmes to solve impossible cases, all while he tries to heal personal wounds.',\n",
              " 'Frustrated with her thankless office job, Retsuko the Red Panda copes with her daily struggles by belting out death metal karaoke after work.',\n",
              " 'While Retsuko desperately makes plans for Christmas Eve, her new obsession with seeking validation through social media spirals out of control.',\n",
              " 'A boy grows up to become a gangster in pursuit of the mobster who killed his innocent father, but revenge and reparation may come at great costs.',\n",
              " 'Argentine comedian Agustín \"Radagast\" Aristarán adds doses of magic, music and acting to his high-energy stand-up routine.',\n",
              " 'A film crew shooting in a remote forested location begins losing members one by one to a mysterious entity that they cannot see or hear.',\n",
              " 'Stood up by her groom at the altar, a young woman finds help and healing from another man – until her ex-fiancé returns, hoping to win her back.',\n",
              " 'Chinese artist and activist Ai Weiwei uses social media and art to inspire protests and suffers government persecution for his actions.',\n",
              " 'To find love, seven strangers leave Japan and embark on a journey through the continent of Africa together. Challenges, adventure and romance await!',\n",
              " 'Seven men and women board a pink bus in search of true love. On a journey through Asia with strangers, their goal is to return to Japan as a couple.',\n",
              " 'Celebrity chef Ainsley Harriott embarks on a journey around the world to explore the relationship between local street foods and cultural identity.',\n",
              " 'A sensitive Ainu teen searches for a spiritual connection with his recently deceased dad while navigating his indigenous identity in a changing world.',\n",
              " \"When Ana, an influencer, crashes her car while talking on the phone, she’s shipped to her grumpy grandfather's farm – and forced into a digital detox.\",\n",
              " 'During a vacation with her parents, away from her concrete urban existence, a young girl learns to appreciate the joys of connecting with nature.',\n",
              " 'A happily married business executive is forced to deal with an episode from his past that he had long thought was put behind him.',\n",
              " 'When his protégé goes rogue and poses a grave threat to the government he serves, a veteran officer of the Indian Army tries to stop him at all costs.',\n",
              " 'An outspoken, imaginative girl from a conservative family pursues her dream man while fending off the prospect of an arranged marriage.',\n",
              " 'While traveling across the country in a run-down RV, drag queen Ruby Red discovers an unlikely sidekick in AJ: a tough-talking 10-year-old stowaway.',\n",
              " \"A young man's obsession with making others happy drives him to help the girl he loves marry someone else, then try to win her heart.\",\n",
              " 'Upon returning home from his studies abroad, young grad Akif finds himself involved with four women in this continuation of the series \"Spain Uoolss.\"',\n",
              " 'A teenager discovers that he is an Ajin and flees before the authorities experiment on him. Other Ajin plan to fight back and he must choose a side.',\n",
              " 'When her small granddaughter is sexually assaulted by a powerful man and no justice is served, a poor, frail old woman plots her violent revenge.',\n",
              " 'After a public spat with a movie star, a disgraced director retaliates by kidnapping the actor’s daughter, filming the search for her in real time.',\n",
              " \"Tatsumi sets out on a journey to help his poor village. When he's rescued by a band of assassins, he joins their fight against the corrupt government.\",\n",
              " 'From battles of wit to fights for justice, Emperor Akbar and his trusty advisor Birbal display their unique bond through adventures in Mughal-era India.',\n",
              " 'A little girl must enter an orphanage after her parents are arrested, but her life takes a dramatic turn when she escapes and meets a model.',\n",
              " 'Looking for a fresh start, a park ranger gets a new assignment. When he discovers a network of poachers, survival depends on his lethal instincts.',\n",
              " 'In a village by the Lebanon-Syria border, the head of an arms-smuggling clan contends with family conflicts, power struggles and complicated love.',\n",
              " 'After growing up enduring criticism from his father, a young man finds his world shaken upon learning he was switched at birth with a millionaire’s son.',\n",
              " 'To cope with her feelings of inferiority, a woman from an impoverished family tells tall tales of her wealth and influence to upgrade her social status.',\n",
              " 'Mexican comic Alan Saldaña has fun with everything from the pressure of sitting in an exit row to maxing out his credit card in this stand-up special.',\n",
              " 'While vacationing at a resort, an ornery and outspoken man is held captive by a criminal organization.',\n",
              " 'Tormented by bullies, an aspiring drag star working at an Alaskan cannery becomes a skilled fighter and is tapped for competition by a boxing coach.',\n",
              " 'As the police investigate his disappearance, a young man heads to Goa to carry out an act of vengeance fueled by years of pent-up anger toward society.',\n",
              " 'After a magical horse transports her to a fantasy world ruled by an evil general, a brave girl sets out to save the land once and for all.',\n",
              " 'Colombian comedian Alejandro Riaño discusses the perks of dating a she-wolf, styles of dancing, the quirks of Bogotá men and soccer game announcers.',\n",
              " 'A retrospective look at the life and career of Grammy-award winning Spanish musician Alejandro Sanz.',\n",
              " \"Mourning their father's death, a dysfunctional trio of siblings must face selling their beloved childhood beach house — and dealing with each other.\",\n",
              " 'Comic Alex Fernández performs his familiar autobiographical stories but goes a little deeper this time with a tender tale about one of his six siblings.',\n",
              " \"High school senior Alex Truelove's plan to lose his virginity to lovable girlfriend Claire goes awry when he meets the equally lovable Elliot.\",\n",
              " \"Alexa is battling cancer. But with her best friend, Katie, by her side, she's also starting high school – and ready for whatever comes next.\",\n",
              " 'Living in Alexandria during World War II, an Egyptian teen enamored with American films dreams of making it in Hollywood.',\n",
              " 'At the peak of his career, Yehia joins a hunger strike, becomes smitten and reckons with a creative crisis — but finds a new muse.',\n",
              " 'After being shot during a robbery in Colombia and losing sensation in his legs, Uruguayan soccer star Alexis Viera finds a new sense of purpose.',\n",
              " 'Drugs and addiction endanger the love — and lives — of two childhood sweethearts struggling to survive the perils of a precarious world.',\n",
              " 'A garden gnome vendor and his brother-in-law attend a trade fair in Sofia, where they accidentally stumble into shenanigans involving a mafia boss.',\n",
              " \"Ali Wong's stand up special delves into her sexual adventures, hoarding, the rocky road to pregnancy, and why feminism is terrible.\",\n",
              " 'Two years after the hit \"Baby Cobra,\" Ali Wong is back with another baby bump – and a torrent of hilarious truths about marriage and motherhood.',\n",
              " 'After telling a white lie that spins out of control, the son of an Iraqi-born cleric in Melbourne becomes torn between family duty and his own heart.',\n",
              " \"In 19th-century Canada, a psychiatrist weighs whether a murderess should be pardoned due to insanity. Based on Margaret Atwood's award-winning novel.\",\n",
              " \"Witnesses and public figures respond to controversial claims about Pablo Escobar made by the Medellín Cartel's sole survivor, John Jairo Velásquez.\",\n",
              " 'A simple village man is thrown into a web of political intrigue after he takes on a powerful and ruthless gang of bandits.',\n",
              " 'A widowed singer and single mother starts over as a diner waitress in Arizona, befriending her coworkers and romancing a ruggedly handsome rancher.',\n",
              " \"An aimless gamer and his two friends find themselves in a parallel Tokyo, where they're forced to compete in a series of sadistic games to survive.\",\n",
              " \"In a small town, a trans teen with a vibrant personality shakes up her high school's conservative ways while trying to secure her first kiss.\",\n",
              " \"This fact-based account delves into humankind's efforts to gather signals from possible intelligent beings beyond the solar system.\",\n",
              " 'Alien reporters Ixbee, Pixbee and Squee travel to a lovely but odd planet called Earth, where they attempt to make sense of humans and their hobbies.',\n",
              " 'The U.S. Navy Seal team tackles a top-secret mission at a research center where scientists have mysteriously disappeared and another life form awaits.',\n",
              " 'Applying the laws of life on Earth to the rest of the galaxy, this series blends science fact and fiction to imagine alien life on other planets.',\n",
              " \"A young elf mistakes a tiny alien for a Christmas gift, not knowing her new plaything has plans to destroy Earth's gravity — and steal all the presents.\",\n",
              " \"Tiny alien lawmen fly into Rod's bedroom and recruit him into helping them stop an intergalactic criminal – who's disguised as a very familiar human.\",\n",
              " \"Take an inside look at swing dancing's continued prosperity and the lively and joyous personalities that make the art form so unique.\",\n",
              " 'An inseparable couple struggles to stay together when betrayal threatens to tear their lives apart.',\n",
              " \"Fearless provocation has fueled stand-up comic Nina Geld's career, but a move to LA and a new love take her to new levels of honesty.\",\n",
              " 'Hip-hop icon MC Joe Speed retires from showbiz and finds a new rhythm balancing business, romance and everyday family chaos.',\n",
              " 'Culture clashes and brewing rivalries test a teen football player from South Los Angeles when he’s recruited to the Beverly Hills High School team.',\n",
              " 'After falling for a guest, an unsuspecting hotel staff becomes embroiled in a hostage scheme and discovers true love in an unlikely place.',\n",
              " 'While serving life in prison, a young man looks back at the people, the circumstances and the system that set him on the path toward his crime.',\n",
              " 'When a canine con artist becomes an angel, he sneaks back to Earth and crosses paths with an orphan girl who can speak to animals.',\n",
              " 'A penniless country boy goes in search of his runaway sister in Bogotá, where he falls for an aspiring singer, but gets tangled up in organized crime.',\n",
              " 'When a mysterious figure blackmails an adulterous couple during a romantic getaway, their secret affair turns into a fight for survival.',\n",
              " \"In this Emmy winner for Outstanding Children's Animated Program, Madagascar booty-shaker King Julien takes on the jungle’s craziest adventures.\",\n",
              " \"Julien's been dethroned, but loyal friends and some very unlikely allies will propel the lovable lemur on a colorful journey to take back his kingdom.\",\n",
              " 'Instead of summoning the spirit of her dearly departed mother, a charming teen accidentally awakens a vengeful witch who wants to destroy her town.',\n",
              " \"After starting a family of his very own in America, a gay filmmaker documents his loving, traditional Chinese family's process of acceptance.\",\n",
              " 'A horror novelist with a traumatic past returns to her childhood hometown, where she revisits her night terrors and loses sight of reality.',\n",
              " 'Two strangers meet on a dating app and experience instant chemistry, but their relationship unravels as jarring differences catch up to them.',\n",
              " 'During a weekend excursion to a secluded ranch, an unwelcome visitor begins picking off the randy admirers of teenage temptress Mandy Lane.',\n",
              " 'Two teens facing personal struggles form a powerful bond as they embark on a cathartic journey chronicling the wonders of Indiana.',\n",
              " 'A battle-scarred Special Ops military vet joins a CIA-funded assignment to take down a Russian terrorist and his trigger-happy comrades.',\n",
              " 'Thirteen-year-old José Miguel is immune to 1994 World Cup fever until he realizes soccer is the only way to win the heart of his crush.',\n",
              " \"A Brazilian man tries a myriad of ways to get over his breakup with his girlfriend but is surprised to learn it's more difficult than he anticipated.\",\n",
              " \"An optimistic, talented teen clings to a huge secret: She's homeless and living on a bus. When tragedy strikes, can she learn to accept a helping hand?\",\n",
              " 'Bound by a family rule that forbids him from marrying until his stubborn sister gets hitched, a bachelor enlists the help of a love guru to woo her.',\n",
              " \"A woman sexually assaulted by her new boss's brother-in-law tries to move on as if nothing happened, but the night weighs heavily on her mind and body.\",\n",
              " 'Over a series of birthdays, a happy-go-lucky, commitment-averse fashion designer strives to bring a bit of calm to her chaotic love life.',\n",
              " 'Sebastián is a radio show host of modest fame, trying to find a way in the world as he deals with his ex-wife (whom he still loves) and two kids.',\n",
              " 'A close crew of striving New Yorkers experiences both joy and heartache in their romantic and professional lives.',\n",
              " 'Equipped with limited resources, an isolated group of individuals is subjected to the harsh conditions of the wilderness and must survive — or tap out.',\n",
              " \"After learning of their son's death on the battlefield, a grieving Berlin couple embark on a quietly dangerous act of resistance against Adolf Hitler.\",\n",
              " 'Eight years after their breakup, college sweethearts Christine and Raf reconnect at different points in their lives as feelings from the past resurface.',\n",
              " 'When a girl is kidnapped from a prestigious prep school, a homicide detective takes the case, teaming up with young security agent.',\n",
              " 'In this animated outdoor adventure, wolf couple Humphrey and Kate face a crisis when one of their three cubs disappears without explanation.',\n",
              " \"When a wolf pup named Runt sneaks off to explore a mysterious cave, he meets and befriends a wolf driven from her pack because she's blind.\",\n",
              " 'The letters of the alphabet come to life in Alphaland as they read, write and spell their way into an exciting world of phonic fun.',\n",
              " 'Seemingly simple but deceptively complex, the game of \"Go\" serves as the backdrop for this battle between artificial intelligence and man.',\n",
              " \"This documentary follows a white power leader and an Antifa activist leading up to the Charlottesville riots in the first year of Trump's presidency.\",\n",
              " 'After 250 years on ice, a prisoner returns to life in a new body with one chance to win his freedom: by solving a mind-bending murder.',\n",
              " 'On the planet Latimer, Takeshi Kovacs must protect a tattooist while investigating the death of a yakuza boss alongside a no-nonsense CTAC.',\n",
              " 'Never married but always at weddings, a copy editor finally dives into the dating pool but wonders if her love story involves staying single forever.',\n",
              " 'A young 17th-century witch time travels to the future to save the man she loves, but first must adjust to present-day Cartagena and defeat a dark rival.',\n",
              " 'After being unexpectedly dumped by their respective lovers, a man and a woman have a chance meeting at a resort and embark on a unique relationship.',\n",
              " 'She was twice convicted and acquitted of murder. Amanda Knox and the people closest to her case speak out in this illuminating documentary.',\n",
              " 'This documentary recounts the fascinating and little-known role that music has played in the struggle to eradicate apartheid in South Africa.',\n",
              " 'Young Laura and Carlos experience the intensity and fragility of first love, as life realities gradually tarnish their idealized notions of romance.',\n",
              " 'The brotherly bond between three childhood friends – one Sikh, one Muslim and one Catholic – is tested by the often comic absurdities of adulthood.',\n",
              " \"Abandoned in a park by their father, Amar, Akbar and Anthony grow up independently and have no knowledge of one another. They're reunited as adults when, by coincidence, they all give blood at the same hospital.\",\n",
              " 'To fulfill her husband’s dream to build a home, a widow sends her five children to earn money in Cairo, where their poverty tests them at every turn.',\n",
              " \"After he's recruited to an elite prep school, a 14-year-old basketball phenom is confronted by corruption and greed in amateur sports.\",\n",
              " 'Meet eccentric homeowners whose seemingly ordinary spaces are full of surprises, from a backyard roller coaster to an indoor aquarium.',\n",
              " \"Eight decades after her disappearance, Amelia Earhart's incredible accomplishments are still celebrated, thanks in large part to her sister Muriel.\",\n",
              " 'This engaging documentary series shares the surprising backstories of familiar institutions like the Pentagon, West Point and the Playboy Mansion.',\n",
              " 'Supermodel Tyra Banks created and executive-produced this reality series that chronicles the transformation of young women into potential supermodels.',\n",
              " 'This documentary profiles William Powell, who wrote the \"The Anarchist Cookbook\" in the early 1970s and spent his later life regretting his actions.',\n",
              " 'After grad student Mitch Rapp suffers a tragic loss during a terrorist attack, his single-minded thirst for vengeance catches the interest of the CIA.',\n",
              " \"While struggling to endure his tightly wound wife, an unfulfilling job and a surly teen, a man becomes obsessed with one of his daughter's friends.\",\n",
              " 'With interviews from experts on both sides of the debate, this film questions the routine practice of non-religious infant circumcision in the U.S.',\n",
              " 'This anthology series unfolds a different story arc for each season, with dramas focusing on aspects of American life and the criminal justice system.',\n",
              " \"This anthology series dramatizes historic criminal cases in the U.S., including the O.J. Simpson trial and Andrew Cunanan's 1997 murder spree.\",\n",
              " 'A botched attempt to arrest a white supremacist in Idaho results in a gun battle, a standoff and three deaths that galvanize public opinion in 1992.',\n",
              " 'An exploration of the American circus, as the spectacle evolved from a one-ring show to a cultural event and eventually, a dying breed.',\n",
              " 'In 1931, a young Navy wife tore apart Hawaii on racial lines after claiming she was raped by a gang of nonwhite islanders.',\n",
              " 'In this documentary, hopes soar when a Chinese company reopens a shuttered factory in Ohio. But a culture clash threatens to shatter an American dream.',\n",
              " 'Barack and Michelle Obama talk with directors Steven Bognar and Julia Reichert about the documentary and the importance of storytelling.',\n",
              " 'A judge’s kidnapping is streamed live on social media, as a vengeful loner puts him on trial for supposedly sending an innocent man to his death.',\n",
              " 'An ex-con is just getting his life back on track when his older brother is released from prison and drags him into the underworld for one final heist.',\n",
              " 'A neo-Nazi gets sent to prison for murder and comes out a changed man. But can he prevent his younger brother from following in his footsteps?',\n",
              " 'A teenage girl leaves her dull life in Oklahoma to join a raucous band of travelling magazine sellers on an alcohol-, drug- and sex-filled road trip.',\n",
              " \"This twisted Emmy-winning drama plays upon the power of supernatural fears and everyday horrors, exploring humankind's unsettling capacity for evil.\",\n",
              " 'Baseball legend Ted Williams fights to become the greatest hitter of all time as he battles family, teammates, the press and even the fans.',\n",
              " 'Using raw, firsthand footage, this documentary examines the disappearance of Shanann Watts and her children, and the terrible events that followed.',\n",
              " 'An elite soldier, a corporate lawyer and a political activist uncover a deadly conspiracy linking terrorists to a powerful American corporation.',\n",
              " 'Four tight-knit high school seniors vow to turn their love lives around by homecoming when the arrival of a new student muddles their plans.',\n",
              " 'With chiseled good looks that belie his insanity, a businessman takes pathological pride in yuppie pursuits and indulges in sudden homicidal urges.',\n",
              " 'Time passes and tension mounts in a Florida police station as an estranged interracial couple awaits news of their missing teenage son.',\n",
              " 'A high school is rocked by an act of vandalism, but the top suspect pleads innocence and finds an ally in a filmmaker. A satirical true crime mystery.',\n",
              " 'A Navy SEAL haunted by wartime memories tries to rebuild his life at home, even as one last mission threatens to unravel everything.',\n",
              " 'From the death of romance in marriage to the injustices of modern-day parenting, Amit Tandon shares wisdom and wisecracks as a battle-scarred family guy.',\n",
              " \"Despite the Philippine government's crackdown on narcotics, high schooler Joseph expands his drug running while his cop uncle profits from corruption.\",\n",
              " 'Amid a marital crisis, Fikret befriends songstress Solmaz after a wacky encounter and must fill in as the father of her soon-to-wed daughter.',\n",
              " 'In the age of Buddha and his philosophy of nonviolence, a warmonger king plots the destruction of an enemy kingdom to rescue the woman he loves.',\n",
              " \"Rare home videos and interviews with Amy Winehouse's inner circle offer an intimate look at her journey from charismatic teen to troubled star.\",\n",
              " \"Amy Schumer spills on her new marriage, personal growth, making a baby and her mom's misguided advice in a special that's both raunchy and sincere.\",\n",
              " \"Comic sensation Amy Schumer riffs on sex, dating and the absurdities of fame in a bold and uncensored stand-up set at Denver's Bellco Theater.\",\n",
              " 'Extensive film clips and interviews tell the story of American filmmaker Ellis R. Dungan, who spent 15 years in India and helped define Tamil cinema.',\n",
              " 'Fievel, a young Russian mouse, immigrates to America and must make his own way in the strange and sometimes perilous new world.',\n",
              " 'Fievel and his family head west for what turns out to be a wild adventure. Deep in cowboy country, the intrepid mouse faces down a nasty feline.',\n",
              " 'When a monster goes on a mouse-napping spree in New York, Fievel and his friends help a reporter get to the bottom of the mystery.',\n",
              " 'When Fievel and friends go hunting for buried treasure beneath the ruins of an old subway tunnel, they stumble onto something surprising.',\n",
              " 'A teen girl is drawn to her cousin’s hedonistic lifestyle when they spend the summer together in Cannes as she learns about herself and her own values.',\n",
              " \"While undergoing heart surgery in London, Yehia reflects on his life as his heart chamber becomes a courtroom where he's tried for his mistakes.\",\n",
              " \"When an unhappily married woman discovers a man from her past has a role in a local theater production, she'll do anything to reconnect with him.\",\n",
              " 'Based on the 2002 El Ayyat train accident, this drama begins 90 minutes before the explosion, following the lives of riders in the third-class cars.',\n",
              " 'Haunted by a nightmare involving her abusive ex-boyfriend, an actress begins to question her reality and whether the incident took place.',\n",
              " 'Raised by three mothers, a self-assured teen in turmoil meets the father figure she never had. But she also stands to drive the man and his son apart.',\n",
              " 'After an assignment in a war zone, a journalist trying to put his life back together is granted an interview with someone claiming to be God.',\n",
              " 'A war criminal in hiding begins to suspect that the maid, his only confidant and contact with the outside world, may be hiding something herself.',\n",
              " \"An accountant and aspiring magician invites his boss to spend Christmas with his family — unaware that he's one of Colombia's most-wanted criminals.\",\n",
              " 'Eager to settle down, Abdullah searches for the right woman to marry – but the one he truly longs for may not feel the same way.',\n",
              " 'After meeting by chance, two young musicians with differing views on love and life record an album that drastically alters their lives.',\n",
              " 'As a woman scours Hyderabad for her missing husband, she becomes entangled in a conspiracy that suggests there’s more to the mystery than meets the eye.',\n",
              " 'After being sexually harassed by a drunken politician while performing at a public event, a village dancer plots revenge to clear her name.',\n",
              " 'Kat and Eva’s happy romance hits a rough patch when Eva decides that she wants a child. Visiting friend Roger could help complete their family.',\n",
              " 'A Nigerian couple living in the U.S. face agonizing fallout when they defy deportation orders with the hopes of giving their unborn child citizenship.',\n",
              " 'Were ancient humans really behind some of the most important technological advances in civilized history, or did they have extraterrestrial help?',\n",
              " 'An Icelandic single mom struggling with poverty and a Guinea-Bissauan asylum seeker facing deportation find their lives intertwined in unexpected ways.',\n",
              " \"Aiming for fame, a struggling singer finds his long-lost millionaire twin and falls for his brother's secretary as a plot brews to steal the fortune.\",\n",
              " 'Broke and with no concrete plans for the future, two young men discover that a stunning heiress lives nearby and try to charm her into marriage.',\n",
              " 'A visually impaired pianist’s world careens into a series of shocking twists after he unintentionally lands at the murder scene of a former film star.',\n",
              " 'As a blind librarian, dispirited cricketer and desolate psychiatrist each seek retribution and release, their lives overlap under eerie influences.',\n",
              " 'As a blind librarian, dispirited cricketer and desolate psychiatrist each seek retribution and release, their lives overlap under eerie influences.',\n",
              " 'As he prepares to close his restaurant, Michelin-starred Chef André Chiang embarks on a personal and emotional journey of reflection.',\n",
              " 'Inscrutable, incomparable or both? Famed French footballer Nicolas Anelka’s controversial legacy is explored in this in-depth documentary.',\n",
              " 'After a popular professor is attacked on a New York street, the story of how a series of intertwined events led to the life-altering assault unfolds.',\n",
              " 'After growing up amidst the gang wars of his hometown, Vincent forms an entrepreneurial squad of his own and ends up on the wrong side of the law.',\n",
              " 'In a world known as the Copper Dimension, a group of high-school girls fights against dark forces – and their own inner demons.',\n",
              " \"In a high school that's a way station to the afterlife, a teenager gets caught up in the battle for the rights of those in this purgatorial world.\",\n",
              " \"When a violent assault leaves her vulnerable, a streetwise Chicago cop receives help from a haunted loner who's struggling with traumas of his own.\",\n",
              " 'Secret Service agent Mike Banning is caught in the crossfire when he’s framed for a deadly attack on the president and forced to run for his life.',\n",
              " 'A trip to church with her family on Christmas Eve gives young Angela an extraordinary idea. A heartwarming tale based on a story by Frank McCourt.',\n",
              " 'With her father working far away in Australia, a determined Angela makes a plan — and a heartfelt wish — to reunite her family in time for the holidays.',\n",
              " 'A Harvard symbologist races to uncover clues that will help stop an attack on the Vatican by a secret society looking to retaliate for old persecutions.',\n",
              " 'After a gentle businessman is forced to get anger management counseling, his therapist moves in – but turns out to have anger issues of his own.',\n",
              " 'Birds Red, Chuck and their feathered friends have lots of adventures while guarding eggs in their nest that pesky pigs keep trying to steal.',\n",
              " 'A photographer invites a close-knit group of female pals to her Goa home to announce her engagement, which stirs up a riot of emotion in all of them.',\n",
              " 'After growing up enduring criticism from his father, a young man finds his world shaken upon learning he was switched at birth with a millionaire’s son.',\n",
              " 'From his singular career to his personal demons, this biopic chronicles the short yet prolific life of the Marathi dentist-turned-superstar.',\n",
              " 'In a short musical film directed by Paul Thomas Anderson, Thom Yorke of Radiohead stars in a mind-bending visual piece. Best played loud.',\n",
              " \"Enchanted animal crackers turn Owen into whatever shape he eats! But to save the family circus, he'll have to keep them out of his evil uncle's hands.\",\n",
              " \"An unlucky, debt-ridden teen resorts to his math skills when he's forced into a deadly tournament of rock-paper-scissors run by a diabolical host.\",\n",
              " \"A teen's eerie visions become increasingly frequent and terrifying after her longtime friend gets a girlfriend and his abusive dad is strangely killed.\",\n",
              " 'In this intimate documentary, Brazilian pop queen Anitta opens up about fame, family and her fierce work ethic, revealing the woman behind the hits.',\n",
              " 'Mild-mannered Krishna comes to Mumbai to search for his gang-leader brother, and quickly finds himself in way over his head.',\n",
              " 'Spine-chilling stories of malevolent spirits unfold in villages, jungles and haunted buildings across India.',\n",
              " 'The cases are supernatural; the police officers human. Together, cops Aditi and Vikrant must solve mysteries from the realm of the paranormal.',\n",
              " 'The actress, comedian and YouTube sensation riffs on everything from nail salons and Gypsies to Mexican moms and super-sleuthing Liam Neeson.',\n",
              " 'After a distressing incident, a Delhi man vows to believe only what he can see, but his new ideals soon take his life in extreme directions.',\n",
              " 'A young medical intern sets out to fight for justice after the negligence of the surgeon he looked up to ends in tragedy.',\n",
              " 'While vacationing on picturesque Nantucket, a crafty teenage mystery writer contends with two thieves as she tries to solve a ghostly conundrum.',\n",
              " 'A plucky orphan whose passions run deep finds an unlikely home with a spinster and her soft-spoken bachelor brother. Based on \"Anne of Green Gables.\"',\n",
              " \"A teen haunted by the spirit of an old friend summons the other members of their childhood club to help fulfill the girl's final wish.\",\n",
              " 'In a future where technology has rendered privacy obsolete, a detective investigates a serial assassin who has been deleted from all visual records.',\n",
              " 'Overtaken by the death of her beloved, a grieving woman decides to take a spontaneous trip to visit her friend and get her life back on track.',\n",
              " 'After a massive alien artifact lands on Earth, Niko Breckinridge leads an interstellar mission to track down its source and make first contact.',\n",
              " 'A sound director who suddenly starts getting visions of someone else’s future gets mired in the lives of two women, who happen to share the same name.',\n",
              " 'An angel falls to earth to investigate why humans are doing fewer good deeds – and falls in with a hard-charging crime reporter and his news team.',\n",
              " 'Problems big and small pop up when Scott Lang, aka Ant-Man, gets drafted by Dr. Hank Pym and Hope van Dyne, aka the Wasp, for an urgent rescue mission.',\n",
              " 'Learning he is the grandson of a famous knight, a young man hilariously fights a rival gang to win over the most beautiful woman in the tribe.',\n",
              " 'Space villains have abducted all the superheroes! It’s up to Bheem and his trusty team to save the others.',\n",
              " \"Forging his own comedic boundaries, Anthony Jeselnik revels in getting away with saying things others can't in this stand-up special shot in New York.\",\n",
              " \"There's no subject too dark as the comedian skewers taboos and riffs on national tragedies before pulling back the curtain on his provocative style.\",\n",
              " 'A forger uses a fake identity in trying to retrieve stolen diamonds buried in a penitentiary, unaware a mob assassin is on the trail of his phony alias.',\n",
              " 'A tough-as-nails treasure hunter protects a humanitarian doctor as she tries to cure a supernatural disease caused by a mysterious witch.',\n",
              " 'With heart and determination, Antoine Griezmann overcame his small stature to become one of the world’s top soccer players and a World Cup champion.',\n",
              " 'Seeking refuge in a Hindu temple after the tragic death of the girl he loved, a Muslim youth is caught by the police, who mistake him for an enemy.',\n",
              " 'Hailing from the mountains of Iga, Kanzo Hattori moves in with elementary school student Kenichi Mitsuba and his family to hone his skills as a ninja.',\n",
              " 'Recovered cockpit footage and telling interviews reveal the true stories of US fighter pilots in one of the largest combat strikes in history.',\n",
              " \"This gritty dramatization of the life of Carlos Tevez shows his rise to soccer stardom amid the harrowing conditions in Argentina's Fuerte Apache.\",\n",
              " 'A young journalist is forced into a life of crime to save his father and family in this series based on the novel by Miguel Sáez Carral.',\n",
              " 'Raised under the condescending eye of his activist father, an underachieving loafer is lured into the local kingpin’s web of corruption and kidnapping.',\n",
              " 'A visionary carmaker introduces his fuel-efficient, high-performance hypercar to a market filled with big-name competitors like Ferrari and Porsche.',\n",
              " \"This sci-fi thriller suggests that Apollo 17, despite official statements to the contrary, wasn't NASA's last manned mission to the moon.\",\n",
              " 'In 1905, a drifter on a dangerous mission to rescue his kidnapped sister tangles with a sinister religious cult on an isolated island.',\n",
              " \"After the world's top scientists disappear, orphaned April secretly forges ahead with a family experiment and gets tangled up in a vast conspiracy.\",\n",
              " 'Amid the turmoil of 1960s LA, two cops and a prominent political family are drawn into the sex- and drug-fueled web of a young Charles Manson.',\n",
              " 'A futuristic France tries to keep its people from despair and rebellion over crippling poverty by engaging them with a violent TV competition show.',\n",
              " 'Newly orphaned Aram leaves Beirut to live with his grandfather in Los Angeles, and overwhelmed by culture shock, he falls prey to an Armenian gang.',\n",
              " 'Colombian stand-up comedians Antonio Sanint and Julián Arango impersonate an Argentine visitor and a cabbie, and a pair of dirty old men at the opera.',\n",
              " 'Twenty years after their debut, join the beloved members of Arashi on a new journey as they showcase their lives, talents and gifts to the world.',\n",
              " \"Happy-go-lucky chicken Archibald may not remember to do his chores, but he never forgets to have fun. After all, life's an adventure!\",\n",
              " \"When he stumbles upon evil Otto Von Walrus's scheme to melt the Arctic, ambitious delivery fox Swifty assembles a ragtag crew to protect the planet.\",\n",
              " 'Madly in love with a brilliant scientist studying an immunizing protein produced by penguins, a timid med student offers her body to his research.',\n",
              " \"When authorities arrest his young son, a taxi driver must convince the courts and rabid media that he's not the criminal they seek.\",\n",
              " 'Determined by a dating algorithm, a group of single contestants must identify their perfect matches for a shot at love and a cash prize.',\n",
              " \"Aiming to become part of Amsterdam's elite, an ambitious college student joins an exclusive society, unaware it's hiding a horrifying secret.\",\n",
              " 'In a world filled with provocative (and often misleading) news, a passionate team of investigative TV reporters strives to bring truths to light.',\n",
              " \"In this English-language special, Icelandic comedian Ari Eldjárn pokes fun at Nordic rivalries, Hollywood's take on Thor, the whims of toddlers and more.\",\n",
              " 'Wry yet thoughtful, comedian Ari Shaffir brings his edgy humor to two fast-paced stand-up specials about children and adulthood.',\n",
              " 'Ariana Grande takes the stage in London for her Sweetener World Tour and shares a behind-the-scenes look at her life in rehearsal and on the road.',\n",
              " 'A group of friends reunites for a vacation amid nature, where they laugh about their shared history and bond over difficult truths.',\n",
              " \"This animated retelling of the classic Indian tale of Prince Arjun – part of the Sanskrit epic Mahabharata – begins during the prince's youth.\",\n",
              " 'Trapped in a lab and stuck in a time loop, a disoriented couple fends off masked raiders while harboring a new energy source that could save humanity.',\n",
              " \"It's the Emmy-winning story of a wealthy family that lost everything, and the one son who had no choice but to keep them all together.\",\n",
              " \"Based on DC Comics' Green Arrow, an affluent playboy becomes a vengeful superhero, saving the city from villains armed with just a bow and arrows.\",\n",
              " 'In his first stand-up special, Arsenio Hall discusses getting older, the changing times and culture, social issues and even bothersome baby toes.',\n",
              " 'In a mythical land called Arth, the inhabitants of the ancient city of Arthdal and its surrounding regions vie for power as they build a new society.',\n",
              " 'Russell Brand stars in this remake as a philanderer who must decide whether to give up an inheritance of millions for the sake of romance.',\n",
              " \"At Santa Claus's super-secret toy-making facility, Mr. Claus entrusts his son, Arthur, to carry out an ultra-important Christmas mission.\",\n",
              " 'The grim realities of caste discrimination come to light as an entitled but upright city cop ventures into India’s heartland to investigate a murder.',\n",
              " 'An epidemiologist turns her nationwide bird flu investigation into a chance to sample local delicacies en route, with three friends along for the ride.',\n",
              " 'A beautiful tomb raider and her crew hunt for treasure in the catacombs of Paris and find themselves in a hellish underworld.',\n",
              " \"The structured world of a sour, obsessive-compulsive author crumbles when he's drawn into the lives of a stressed-out single mom and his gay neighbor.\",\n",
              " 'Entangling the lives of a movie star, a chauffeur, a prostitute and a pimp, this bold drama reveals ugly truths beneath Mumbai’s glitzy veneer.',\n",
              " 'When a dispute breaks out between five siblings over their mother’s property, one devoted son will go to any lengths to protect her land.',\n",
              " 'Thirty years later, Ash Williams – demon hunter par excellence – is back to battle a new Deadite plague. He may have lost a hand, but not his touch.',\n",
              " \"Hidden away by her mother, the Floral Goddess, the naïve Jinmi is drawn to Xufeng, the Heavenly Emperor's son. Yet forces conspire against them.\",\n",
              " 'From allergies to diet to sleep, three friendly doctors share expert advice, bust medical myths and test the latest treatments.',\n",
              " \"Five curious little creatures track down the answers to kids' biggest questions, like how night happens or why we need to brush our teeth.\",\n",
              " \"This elaborate Bollywood epic dramatizes one man's transformation from a vengeful and cunning warrior into a legendary leader and teacher of Buddhism.\",\n",
              " 'A comedy troupe of four friends on the autism spectrum prepares for a final show before its members go their separate ways.',\n",
              " 'When the brakes slam on his wedding, Roy accepts a challenge from a new foe to race for his runaway bride at the iconic Nürburgring track in Germany.',\n",
              " 'A group of friends making a web series about their hometown realize it isn’t as boring as they thought when their neighbors start behaving strangely.',\n",
              " 'With unique individual perspectives that converge into a unified voice, sketch comedy group Astronomy Club delivers a smart and absurd brand of humor.',\n",
              " 'To win the heart of his true love – a high-society girl – a hapless commoner plots to change his identity and avoid his embarrassing friends.',\n",
              " 'For a tech-savvy thief, elaborate robberies and evading the police are second nature until a private detective is hired to investigate his latest heist.',\n",
              " \"Caught between a corrupt mayor and a prosecutor intent on exposing political depravity, a police detective must decide whose side he's on.\",\n",
              " 'This revealing documentary explores how the high-stakes world of Amateur Athletic Union basketball has professionalized youth sports in America.',\n",
              " 'After mysterious lights imbue her with extraordinary powers, a teenager goes on the run from authorities with the friend who harbors a crush on her.',\n",
              " 'Encountering each other after a long separation, two childhood friends from orphanage must overcome great odds to fulfill an old promise and find love.',\n",
              " 'A young \"fabric geek\" lands a job at an upscale Japanese lingerie company – and quickly discovers she\\'ll need help to survive.',\n",
              " \"This documentary focuses on the gymnasts who survived USA Gymnastics doctor Larry Nassar's abuse and the reporters who exposed USAG's toxic culture.\",\n",
              " 'Arranged to marry a rich man, young Ada is crushed when her true love goes missing at sea during a migration attempt – until a miracle reunites them.',\n",
              " \"With the world's economy in dire straits, corporate protagonist Dagny Taggart searches for a solution amid the rubble of a long-abandoned factory.\",\n",
              " 'When a broken ATM dishes out a fortune, a couple who works at the bank vies to see who can recover the most cash – and the loser must find a new job.',\n",
              " 'Captain Atomic – once a superhero, now a sock puppet – can only activate his powers with the help of Joey, his new partner and biggest fan.',\n",
              " 'With his hometown in ruins, young Eren Yeager becomes determined to fight back against the giant Titans that threaten to destroy the human race.',\n",
              " 'Intrepid newspaper editor Harold Evans wages an ongoing battle to expose the truth about a dangerous drug and obtain compensation for its victims.',\n",
              " 'Four high school seniors steal an important college entrance exam and go on vacation to \"study,\" but accidentally lose the exam while partying.',\n",
              " 'When a teen on the autism spectrum decides to get a girlfriend, his bid for more independence puts his whole family on a path of self-discovery.',\n",
              " 'In this wrenching documentary, two teens are sexually assaulted by boys they considered friends, humiliated online and harassed by their communities.',\n",
              " 'Comedy trio Aunty Donna showcase their uniquely absurd and offbeat style through an array of sketches, songs and eclectic characters.',\n",
              " '42-year-old Viorel, a distraught engineer, takes drastic measures to end his emotional suffering after enduring a devastating divorce.',\n",
              " 'Newly released KGB files expose evidence proving how architects and engineers conspired with the Nazis to build a camp designed for genocide.',\n",
              " 'Three teams of gold hunters battle all manner of challenges while pursuing their dreams in the Australian Outback.',\n",
              " \"The world's most shagadelic spy continues his fight against the diabolical Dr. Evil, who's teamed with a new foe: 1970s villain Goldmember.\",\n",
              " \"A swingin' fashion photographer by day and a groovy British secret agent by night, superspy Austin Powers must foil the sinister schemes of Dr. Evil.\",\n",
              " 'When diabolical genius Dr. Evil travels back in time to steal superspy Austin Powers\\'s \"mojo,\" Austin must return to the swingin\\' \\'60s himself.',\n",
              " \"A production crew that thinks it's making a documentary about a humble Mumbai rickshaw driver unmasks a horrifying truth about their film's subject.\",\n",
              " 'In a dystopian future, an insurance adjuster for a tech company investigates a robot killed for violating protocol and discovers a global conspiracy.',\n",
              " 'After losing all memories of his past, a wealthy lawyer travels to a rural village where a woman he once loved now lives with her son.',\n",
              " 'An elite assassin wrestling with doubts about her work scrambles to protect herself — and her estranged family — after a hit goes dangerously wrong.',\n",
              " \"Siblings Katara and Sokka wake young Aang from a long hibernation and learn he's an Avatar, whose air-bending powers can defeat the evil Fire Nation.\",\n",
              " 'A devoted nun who cares for her elder sisters must choose between upholding her vows or pursuing her forbidden feelings for a fascinating pastor.',\n",
              " 'Betrayed by his loan shark brother, a hardened convict escapes from prison while on furlough to exact revenge against the people who made him a killer.',\n",
              " 'Superheroes amass to stop intergalactic sociopath Thanos from acquiring a full set of Infinity Stones and wiping out half of all life in the universe.',\n",
              " 'Follow the meteoric rise of Tim Bergling, aka Avicii, from Swedish teenager to the creative force behind \"Wake Me Up,\" \"You Make Me\" and other hits.',\n",
              " 'A family’s tense reunion turns terrifying when they get trapped in their home by an unknown force, and sinister commands begin appearing on their TV.',\n",
              " 'After an accident leaves him with no recollection of who he is, a man becomes a prime suspect in the search for a serial killer targeting young women.',\n",
              " 'Sleepless for 24 hours, contestants in the comedy game show stumble through challenges both eccentric and everyday for a chance at a $1 million prize.',\n",
              " 'Commander Emma Green leaves behind her husband and daughter to lead an international crew of astronauts on a perilous three-year mission to Mars.',\n",
              " 'A high-achieving 11-year-old student embarks on a journey of self-discovery at a school on a nearby island as he grapples with tensions at home.',\n",
              " 'Disparate characters, including an aspiring time traveler, a phony chef, a drug-addicted waitress and several others, share a surprising connection.',\n",
              " 'In Delhi, friends from Northeast India prepare a pungent delicacy for a wedding party, sparking conflict and comedy with their unaccustomed neighbors.',\n",
              " 'With his carefree bachelor days behind him, a young entrepreneur’s ambitions for adulthood come with some painful personal and professional decisions.',\n",
              " 'Delving into the disappearance of 43 college students in Mexico, this documentary seeks to give justice and a voice to the victims and their families.',\n",
              " 'Sent away to evade an arranged marriage, a 14-year-old begins a harrowing journey of sex work and poverty in the slums of Accra.',\n",
              " \"This biopic traces the tumultuous life and career of top cricket player Mohammad Azharuddin, who led India's national team in the 1990s.\",\n",
              " 'Stand-up comedian and TV star Aziz Ansari (\"Parks and Recreation\") delivers his sharp-witted take on immigrants, relationships and the food industry.',\n",
              " '\"Parks and Recreation\" star Aziz Ansari takes the stage to share his unfiltered views on adulthood, babies, marriage, love and more in the modern era.',\n",
              " 'In a comedy special directed by Spike Jonze, Aziz Ansari shares deep personal insights and hilarious takes on wokeness, family and the social climate.',\n",
              " 'Genius investigator Keith Flick rejoins the royal police force just as serial killer \"B\" emerges. Mysterious youth Koku may be an ally, or a target.',\n",
              " 'Orphaned and at loose ends, young Mukesh falls into the seductive orbit of married Sarika, who leads him ever deeper into a world of sex and betrayal.',\n",
              " 'A young woman eager to avoid an arranged marriage moves to Mumbai, where she learns hard truths about show business, life and love.',\n",
              " \"In 1975, during the government-declared Emergency, thief Bhawani and his crew plan a daring robbery to reclaim his royal lover's seized treasures.\",\n",
              " 'A martial artist faces his biggest test when he has to travel to Bangkok to rescue the woman he loves from the clutches of his romantic rival.',\n",
              " \"To avenge his father's death, a young man leads an army into battle against a cruel tyrant in this Hindi conclusion to the historic saga.\",\n",
              " \"To avenge his father's death, a young man leads an army into battle against a cruel tyrant in this Malayalam conclusion to the historic saga.\",\n",
              " \"To avenge his father's death, a young man leads an army into battle against a cruel tyrant in this Tamil conclusion to the historic saga.\",\n",
              " \"Villagers in the kingdom of Mahismati rescue a baby who is destined to embark on a heroic quest in this English version of S.S. Rajamouli's epic.\",\n",
              " \"Villagers in the kingdom of Mahismati rescue a baby who is destined to embark on a heroic quest in this Hindi version of S.S. Rajamouli's epic.\",\n",
              " \"Villagers in the kingdom of Mahismati rescue a baby who is destined to embark on a heroic quest in this Malayalam version of S.S. Rajamouli's epic.\",\n",
              " \"Villagers in the kingdom of Mahismati rescue a baby who is destined to embark on a heroic quest in this Tamil version of S.S. Rajamouli's epic.\",\n",
              " 'A wide-eyed graduate learns the ugly side of ambition when he joins in the dubious business practices of his idol, a ruthless Mumbai stock tycoon.',\n",
              " \"Following Turkey's bloody coup of 1980, a widowed reporter returns to his Aegean hometown, bringing his son and a last wish for his estranged father.\",\n",
              " 'Facing pressure to marry immediately, an unemployed man must find a way to pay for a wedding by any means necessary.',\n",
              " 'When an American couple vacationing in Morocco falls victim to a random act of violence, a series of events unfolds across four countries.',\n",
              " 'From nature to nurture, this docuseries explores the groundbreaking science that reveals how infants discover life during their very first year.',\n",
              " \"Fed up with their families and classmates, two teen girls from a wealthy part of Rome are drawn to the city's underworld and start leading double lives.\",\n",
              " \"Step into the cutthroat world of kids' ballroom dancing, where ambitious instructors, proud parents and pint-sized performers waltz to win.\",\n",
              " 'When two sisters travel from Canada to Punjab to visit their maternal family, they discover an opportunity to mend a broken bond with their grandmother.',\n",
              " 'From surprise news to relationship blues, four coworkers in different stages of motherhood unite to support each other in their struggles with men.',\n",
              " \"A Soviet freight train's hijacking leads a haunted cop and a poor typist to uncover a political conspiracy amid the vice and glamour of 1929 Berlin.\",\n",
              " 'Through intimate interviews, this documentary explores the stigma facing independent women who seek housing in modern Mumbai.',\n",
              " 'When their car breaks down en route to São Paulo, a father and son accept a ride from four beautiful telemarketers who are headed there on holiday.',\n",
              " 'An American science geek ready to spend a summer at sea accidentally ends up at an Australian soccer academy and is forced to kick it with the locals.',\n",
              " 'To pay for an epic blunder, three yakuza brothers are forced to alter their bodies, form a girl group and break into the underground J-Pop idol scene.',\n",
              " \"A young man who's learned nothing about his father from his single mom has a freak accident that sends him back to 1989, the year before he was born.\",\n",
              " 'Eager to flaunt their success in front of old bullies and teenage crushes, two best friends spend a wild night at their middle school reunion.',\n",
              " 'When a teenager is transported back to his parents’ high school days, he has the chance to alter the events that led to their unhappy marriage.',\n",
              " 'New beginnings or old baggage? Four singles have one chance to reignite romance with an ex – or leave the past behind for good.',\n",
              " 'A weekend hike for urbanites Alex and Jenn takes a dangerous turn when they become lost deep in the remote territory of a menacing bear.',\n",
              " 'In this sequel to the 1991 film, a determined fire investigator recruits an imprisoned arsonist to help untangle a web of fire, murder and corruption.',\n",
              " 'When two would-be robbers accidentally kill a made man, they find themselves on the run from the South Philly Italian mob.',\n",
              " 'Haunted by visions of the dead, psychologist Peter returns home to confront a long-ago trauma. But will the trip exorcise or embolden the ghosts?',\n",
              " 'This sprawling crime drama follows the true story of the Rizzuto family and its associates, who presided over organized crime in Montreal for decades.',\n",
              " 'This investigative docuseries explores the greed, fraud and corruption that built up — and ultimately brought down — India’s most infamous tycoons.',\n",
              " 'In this fast-paced actioner, two Miami narcotics cops are hot on the trail of a master crook who has snatched $100 million worth of heroin.',\n",
              " \"In this hyperkinetic sequel, a pair of Miami narcotics cops investigate a Cuban drug kingpin's connection to Florida's influx of Ecstasy.\",\n",
              " \"A mild-mannered, middle-aged Irish farmer devoted to his mother embarks on a violent quest for revenge when she's murdered in a home invasion.\",\n",
              " \"A history teacher at the posh Abbey Grove, Alfie Wickers is something truly special: He's his school's, if not England's, single worst educator.\",\n",
              " 'A top student gets pulled into a cheating racket with increasingly higher risks and even higher rewards. But she may lose much more than she gains.',\n",
              " 'The geriatric antics of Irving Zisman continue in this next installment of the Jackass franchise, which features unused footage from the first film.',\n",
              " 'Reinstated to eradicate the worst crimes in the city, a detective requests the release of three convicts to enlist their help in catching the felons.',\n",
              " 'Ordered to take down a villainous business leader who controls the city, a prosecutor gathers a team of men who may not be so clean themselves.',\n",
              " \"A player who uses the internet to facilitate his womanizing ways is tormented when he spurns a persistent woman who won't take no for an answer.\",\n",
              " 'Four young Asian-American rappers strive to achieve success on their own terms in a musical genre that often treats them as outsiders.',\n",
              " 'Troubled by his past, a scam artist who runs a petty racket with his adoptive mom finds redemption while mentoring a group of difficult students.',\n",
              " 'When a man is killed, his wife and his lover – both of whom are pregnant with his children – come under the thumb of his brutal, dictatorial father.',\n",
              " 'A young woman who is suspected of practicing black magic and witchcraft is demonized and forced to live apart from her family.',\n",
              " 'When a woman is accused of killing her lover, a renowned lawyer is hired – but the more they try to  untangle the truth, the more convoluted it becomes.',\n",
              " 'A detective with a license to kill roams the Old West to wrangle Confederate war criminals and meets a pioneer woman who throws his journey off track.',\n",
              " 'Couples go on a romantic getaway to test their relationships, not knowing their families are calling the shots and cringing over their every move.',\n",
              " 'While martial arts champion Baki Hanma trains hard to surpass his legendary father, five violent death row inmates descend upon Tokyo to take him on.',\n",
              " 'Dan Kouzo and his crew of heroic brawlers battle both challengers and powerful, evil forces as they work to protect humans and the Bakugan.',\n",
              " 'Dan Kouzo and his pals bond with mysterious creatures known as Bakugan while fighting sinister forces out to control the world.',\n",
              " 'Watch Ganesh destroy demons, disarm invaders and defeat dacoits in this series based on the mythological Hindu elephant god’s childhood.',\n",
              " 'A veteran journalist starting a news site about corruption in Chile stumbles on a big story when a fellow investigative reporter dies suspiciously.',\n",
              " 'Balto, who is half wolf and half dog, endures the taunts of disapproving humans as he guides a precious cargo of medicine through the Alaskan winter.',\n",
              " 'Half-dog, half-wolf Balto (voiced by Maurice LaMarche) and his wife proudly put their pups up for adoption to humans, but when nobody takes daughter Aleu because she looks too much like a wolf, she runs away to search for her place in the world.',\n",
              " \"A pilot challenges Balto's son Kodi and his sled team to see who can deliver the mail faster, but the dogs race to the rescue when the plane vanishes.\",\n",
              " 'Determined to stop his ex-girlfriend from marrying, a young man crashes the wrong wedding and meets a bride looking to run away.',\n",
              " 'Minibus driver Riza is a steady presence in his close-knit neighborhood, until he brings home a dreamy beauty and throws everything into chaos.',\n",
              " 'Searching for a soul mate, a ghost negotiates with God for three more days on Earth to find love, then meets a woman in need of help herself.',\n",
              " \"Despite leaving for college, a heartsick teen tries to build a new friendship with a kindred spirit even though she's dating her ex-boyfriend.\",\n",
              " 'A young married couple tries to save their disintegrating relationship by turning their fights into songs, with the help of an oddball neighbor.',\n",
              " 'Recast as modern-day men, Tom Sawyer and Huck Finn draft their misfit cronies to help find the buried treasure the two have sought since boyhood.',\n",
              " \"Heirless Maharaj Brajbhan leaves his throne to his cousin Vikram, but when Brajbhan's wife, Badi Rani, finally conceives, Vikram plots to destroy her.\",\n",
              " 'A small but fierce group of resistance fighters engages in a brutal battle to protect their village from an army of Burmese invaders.',\n",
              " \"Sent on the same deadly international mission by their rival religious factions, two men's madcap antics along the way take them hilariously off course.\",\n",
              " 'Three young men leading carefree bachelors’ lives in the city face the trials of true love when they meet three beautiful women.',\n",
              " 'Living under the same roof, a group of unabashed friends wrestle with everyday issues from financial woes and shared quarters to romantic misfires.',\n",
              " 'When offered a deal to snitch on fellow prisoners, an inmate faces a tough dilemma: act in his own interest, or help those who may need him.',\n",
              " 'A loving couple become rivals when Belle opens a fusion bistro next to her ex-boyfriend Kram’s traditional restaurant in Bangkok’s chic Ari district.',\n",
              " \"From a teenage parkour enthusiast to a bawdy restaurateur, an eclectic group of characters find romance in Bangkok's glittering Silom district.\",\n",
              " 'A kind computer repairman falls for a street-smart graffiti artist whose multiple personality disorder worsens after she witnesses a double murder.',\n",
              " \"In Bangkok's Chinatown, a spirited digital marketing expert falls for a blind fortune-teller, but their love is predestined to end in disaster.\",\n",
              " 'After an encounter with an engineer working the night shift for the city train, a 30-year-old woman struggles against all odds to pursue true love.',\n",
              " \"Explore the history and philosophies behind one of the world's most beloved – and successful – soccer franchises: FC Barcelona.\",\n",
              " 'After futile attempts to better their lives with honest work, three broke friends opt for a more dubious means of making money: kidnapping for ransom.',\n",
              " 'A laid-back civil servant and wealthy video blogger struggle to make it as a modern couple amid strict Saudi social conventions.',\n",
              " \"Torn between the mighty empire that raised him and his own tribal people, a Roman officer's conflicted allegiances lead to an epic historical clash.\",\n",
              " 'A blend of cultural nuance and mesmerizing techniques adds flavor to this globe-hopping celebration of cooking, tradition and community.',\n",
              " \"Barbie and her sisters set off on a Swiss adventure to the majestic Alps, where they're excited to spend the summer at a fun-filled riding academy!\",\n",
              " 'While visiting Ken and exploring a coral reef, Barbie and her sisters make an amazing discovery and meet a mysterious new friend.',\n",
              " \"Get to know Barbie and her BFFs – including next-door neighbor Ken – in this animated vlog of adventures filmed inside her family's new dreamhouse.\",\n",
              " 'As the Roberts family heads to Costa Rica to investigate a mermaid legend, Barbie takes on a summer job at a water park run by a devious boss.',\n",
              " \"Surf champ Merliah discovers she's actually a mermaid in a girl's body. With the help of a dolphin, Merliah must rescue her mom, the Queen of Oceana.\",\n",
              " \"A princess with a predictable life finds herself transformed by a magical butterfly's kiss into Super Sparkle, a crime-fighting superhero.\",\n",
              " 'When royal Princess Courtney trades places with famous rock star Erika, two worlds collide while both learn to appreciate new friends and experiences.',\n",
              " 'Join blond icon Barbie and her fabulous friends as their behind-the-scenes adventures are revealed in this animated Web series.',\n",
              " \"Through music and magic, Barbie learns what it's like to be a modern princess when she trades places with a royal lookalike.\",\n",
              " 'A hoverboard-riding princess of the cosmos, Barbie must band together with a team of talented new friends to save the stars from winking out.',\n",
              " 'When devilish fairies capture Ken and fly away with him, Barbie and Raquelle travel to the glittering fairy world of Gloss Angeles to save him.',\n",
              " 'Blair Willows is excited when she gets to go to Princess Charm School, where she meets princesses Delancy and Hadley, and searches for a magic crown.',\n",
              " 'A high-tech spy agency transforms Barbie and her best friends into secret agents, using their gymnastics skills to bring down a cunning cat burglar.',\n",
              " 'Barbie stars as a princess who would rather sing and dance than be a royal. When a famous pop star visits the kingdom, they decide to switch places.',\n",
              " \"Pulled into her favorite video game, Barbie becomes a fun, roller-skating heroine who's battling a sinister emoji that's trying to take over.\",\n",
              " 'Iconic songstress Barbra Streisand culminates her 13-city tour in Miami with dazzling ballads, Broadway standards and stories from behind the scenes.',\n",
              " 'While pursuing a degree in Spain, an architecture student struggling with grief meets a fellow expatriate trying to flee a difficult family life.',\n",
              " 'Years after a disastrous job in Balochistan, a former Indian spy must confront his past when he returns to lead an unsanctioned hostage-rescue mission.',\n",
              " 'When she falls in love with the author of a novel she adores, bohemian Bitti enlists the help of a local printer to find her new object of affection.',\n",
              " 'A girl raised to be a government assassin just wants to be a normal teen – so she runs away and pretends to be a high school exchange student.',\n",
              " 'Years after rejecting Barfii, a hearing and speech impaired young man, for a more \"appropriate\" suitor, Shruti finds herself falling for him.',\n",
              " 'Four friends from a humble technical school compete against the elite students of a prestigious university in a robot-building contest.',\n",
              " 'A young Barack Obama forges his identity while dealing with race, divergent cultures and ordinary life as a New York City college student.',\n",
              " \"A naïve young man and a rich city girl fall in love. Her stepfather, however, doesn't approve of the match and will stop at nothing to split the pair.\",\n",
              " \"When two slackers' made-up sport, BASEketball, becomes a national craze, they hope to cash in on the basketball/baseball hybrid's popularity.\",\n",
              " \"A detective investigating a rock star's brutal murder becomes drawn to the prime suspect — a mysterious novelist whose recent book mirrors the crime.\",\n",
              " \"Follow the Chinle High basketball team in Arizona's Navajo Nation on a quest to win a state championship and bring pride to their isolated community.\",\n",
              " \"A curious and talkative bat finds spooky fun on the streets of Fogville, a town that's not as quiet as it seems, with a plucky girl and her brothers.\",\n",
              " \"When his father dies, Norman Bates and his mother open a hotel. But Norman's precarious mental state drives them down a dark and violent path.\",\n",
              " 'An ambitious young athlete endeavors to revive his floundering running career after falling prey to negative influences.',\n",
              " 'A comedy writer for David Letterman unearths a hidden world of hilariously bizarre musicals, which turns into a toe-tapping obsession.',\n",
              " 'The Joker makes life hell for the Gordon family in a monstrous attempt to prove to Batman that one bad day can drive a good man to madness.',\n",
              " \"After Amalie's dad goes bankrupt, the young dancer's affluent life collapses. But she finds a new beat to follow after meeting hip-hop dancer Mikael.\",\n",
              " \"A polished FBI agent must team up with a cynical cop when he's dispatched to Battle Creek, Michigan, to set up an office at the local precinct.\",\n",
              " 'A team of mercenaries working with the CIA accepts an off-the-books mission in Chernobyl, where deadly human-controlled droids prepare an ambush.',\n",
              " 'A four-man team heads to Latvia and Poland to unearth rare World War II artifacts and shed new light on the bloody battles of the Eastern Front.',\n",
              " 'Over the course of a fishing season, tough men and women pursue lucrative albacore tuna in the competitive waters off the Oregon coast.',\n",
              " 'A dysfunctional middle-class family is transformed by the attentions of their talented new chef – until he vanishes along with their valuable jewels.',\n",
              " 'A young girl grows increasingly concerned about the rhino poaching in her village when it begins to directly impact her impoverished family.',\n",
              " 'Alone in Finland, a retired Mexican boxer lives in desolation under the weight of an agonizing past, until he gets a shot at redemption in the ring.',\n",
              " 'A young man challenges traditional customs by standing up to the father of the woman he loves, who has promised her to a wealthy expatriate.',\n",
              " 'A cooly confident aging hit man returns from exile in Paris to his old city, Mumbai, to revisit his past and perform one last job.',\n",
              " 'Trace the brave journey of actor Andy Whitfield, who received a devastating cancer diagnosis while starring in the series \"Spartacus: Blood and Sand.\"',\n",
              " 'To escape the stress of fame, teen pop star Jordan goes incognito in a small town, where he forms a special bond with high school art student Emily.',\n",
              " 'They were the boy band to beat until fame tore them apart. Ten years later, five friends and an ex-love reunite and find themselves closer than ever.',\n",
              " 'After reconnecting with their girlhood crushes, two sisters find their lives turned upside down by surprising revelations and romantic intrigue.',\n",
              " 'Bear buddies Bucky and Bjorn play games, go on far-out adventures and learn about wondrous new things together.',\n",
              " 'Whoever came up with the term \"bird brain\" never met these feathered thinkers, who use their claws and beaks to solve puzzles, make tools and more.',\n",
              " \"Disaster-prone Mr. Bean is sent to Los Angeles to guard a famous painting, but as he's unfit for any physical task, everything goes hilariously wrong.\",\n",
              " 'A well-known wildlife photographer living alone in the Bohemian Forest finds himself playing mama bear to a pair of abandoned cubs.',\n",
              " 'A diverse crew of experts dive deep into the origin stories of mythological monsters before building replicas of the creatures using 3D CGI technology.',\n",
              " 'In a world where beasts of all kinds coexist, a gentle wolf awakens to his own predatory urges as his school deals with a murder within its midst.',\n",
              " 'When civil war tears his family apart, a young West African boy is forced to join a unit of mercenary fighters and transform into a child soldier.',\n",
              " 'With songs made famous by the Beatles, five friendly bugs learn big lessons about the world around them – all from the safety of their own backyard.',\n",
              " 'After winning a local talent show, the Beat Bugs journey to compete on \"The Bug Factor,\" a televised singing contest held in faraway Rocket Ship Park.',\n",
              " 'After enduring both business and family upheavals, a ruthless investment director has a heart transplant and finds a new way to look at life and love.',\n",
              " \"On Chicago's South Side, hip-hop prodigy August Monroe navigates crippling anxiety and new creative frontiers with the help of an unlikely mentor.\",\n",
              " 'Back in the days of disco, Mexico had its own stars of the night. This documentary casts new light on former queens of the Mexican burlesque scene.',\n",
              " 'A homicide detective and a veteran who has been turned into a beast by a military experiment gone awry become allies after they meet by chance.',\n",
              " 'Finding himself in a desperate situation, undercover agent Emman asks his former best friend, Erika, to join him on a dangerous mission.',\n",
              " 'Beauty pageant contestants from all over Thailand fight for the crown as they contend with drama and intrigue behind the scenes.',\n",
              " \"After realizing that their boob tube is gone, Beavis and Butt-head set off on an expedition that takes them from Las Vegas to the nation's capital.\",\n",
              " \"When ladies' man Robin meets Jamika, he falls head over heels, but she greets him with four surprises: her son and her girlfriend Bebe's three kids.\",\n",
              " 'After losing a World Cup bet, two hapless buddies must use their wits to pay off their debt to a big Jakarta bookie in this action-packed comedy.',\n",
              " 'Two housemates get married for financial convenience, but discover nothing is simple when it comes to demanding in-laws, or facing their growing bond.',\n",
              " 'Trouble and high jinks ensue when a man and woman stumble on a bag full of money while out on the town.',\n",
              " 'Join former first lady Michelle Obama in an intimate documentary looking at her life, hopes and connection with others as she tours with \"Becoming.\"',\n",
              " 'This series looks at the stories behind the athletes and countries that have achieved World Cup champion status.',\n",
              " 'A passionate romance with roguish barrister Tom Lefroy serves as the inspiration for the works of budding novelist Jane Austen.',\n",
              " \"Skeeter's life is turned upside down when the fantastical stories he makes up to entertain his niece and nephew inexplicably turn into reality.\",\n",
              " \"Barry, a worker bee stuck in a dead-end job making honey, sues humans when he learns they've been stealing bees' nectar all along.\",\n",
              " \"A single mother in London's Camden Town hears music when she meets a handsome stranger with a past. But she's not sure she's ready to open her heart.\",\n",
              " 'Four female friends in the fast-paced city of Lagos, Nigeria endure public and private pressures to walk down the aisle by the age of 30.',\n",
              " 'Forced to continually relive the day she dies in a car crash, a privileged high schooler must unravel the cosmic mystery of her suddenly looping life.',\n",
              " 'Still mourning the death of their son, Mark and Jessie welcome foster child Cody into their lives. Soon they discover he has a strange ability.',\n",
              " 'Leonardo DiCaprio crisscrosses the globe to investigate the consequences of man-made globe warming and the measures being taken to reverse it.',\n",
              " 'Ahead of summer break, a couple heads to a seaside resort where intimate interactions with other villagers make for anything but a peaceful holiday.',\n",
              " 'After a documentary about the Japanese whaling industry garnered international attention, an amateur filmmaker decides to tell the rest of the story.',\n",
              " 'After dire setbacks in 1940, Winston Churchill commissions a new kind of fighting force: commandos trained to use stealth and audacious tactics.',\n",
              " 'Follow singer and YouTube sensation Todrick Hall as he launches an original musical based on growing up gay in Texas and finding showbiz success.',\n",
              " 'Meet the growing, worldwide community of theorists who defend the belief that the Earth is flat while living in a society who vehemently rejects it.',\n",
              " \"Confident and cool under pressure, top news presenter Punchalee meets her match in the conniving Dao, who'll stop at nothing to fulfill her ambitions.\",\n",
              " 'An Ankara homicide detective with a dark personal life and a disdain for rules and political correctness solves murders and fights police corruption.',\n",
              " 'After having her heart broken by a man who seduced her at a party, a young, ambitious woman concocts a scheme to get revenge.',\n",
              " 'With retirement staring him in the face, an all-time-great jump jockey pursues his 20th consecutive title in his unrelenting quest for glory.',\n",
              " 'Whoopi Goldberg narrates Elmo creator Kevin Clash\\'s remarkable journey from a working-class Baltimore neighborhood to Jim Henson\\'s \"Sesame Street.\"',\n",
              " 'Ambitious single TV journalist Mary Jane attempts to balance her career with her overbearing family and an increasingly messy love life.',\n",
              " \"When a scorned wife from the city shares a cab with a troubled villager, a fiery accident forces them to live out each other's lives.\",\n",
              " 'On the 200th anniversary of the Battle of Waterloo, thousands of enthusiasts reenact the epic clash. But there can only be one Napoleon.',\n",
              " 'In the aftermath of the 1967 Arab-Israeli War, four young Lebanese navigate their existence along rapidly transforming political lines.',\n",
              " 'Two brothers become partners in a modest nightclub and turn it into the hottest spot in town, but their exhilarating run of success comes at a price.',\n",
              " \"This documentary tries to reconstruct, through a series of interviews, a family's misguided attempt to heal a woman's pain through exorcism.\",\n",
              " \"The life of cheerleader Bella Dawson turns upside down when, in a twist of fate, she becomes quarterback for her middle school's football team.\",\n",
              " 'An artist muddles through a midlife crisis while trying to balance his dimming career with a yearning to be a better father.',\n",
              " 'An engaged fashion editor begins a torrid affair with a female roofer that threatens to turn both of their lives upside down.',\n",
              " 'In the magical Little Kingdom, friends Ben Elf and fairy princess Holly have fun adventures as they learn about teamwork, sharing and problem-solving.',\n",
              " \"Ben can transform into ten types of aliens. He'll try 'em all while adventuring across the country with his cousin Gwen and Grandpa Max.\",\n",
              " 'Backed by a full band and a ready wit, actor Ben Platt opens up a very personal songbook onstage —numbers from his debut LP, \"Sing to Me Instead.”',\n",
              " \"A rookie lawyer with an emasculating past in baseball can break into the legal world only if he manages a law firm's ragtag company softball team.\",\n",
              " 'This documentary follows a group of ambitious advocates whose mission to save lives in Haiti turns into a global fight for health care and justice.',\n",
              " 'An escaped psychopathic child killer faces off against one of his former victims, who has since become a hard-nosed detective.',\n",
              " 'A determined dog comes to the rescue and helps heal a broken family when a young boy and his sister stumble into some serious danger.',\n",
              " \"Benji is back in this charming story that's told from the pooch's point of view, tracking his early days as a pup to his current life in showbiz.\",\n",
              " \"While on a press tour, Benji goes behind the scenes of Santa's workshop. But Santa has a devastating secret, so it's up to Benji to save Christmas.\",\n",
              " \"A medically discharged soldier attempts an improbable return to motorcycle racing to win enough prize money to save his father's farm.\",\n",
              " 'DJ Ickarus is at the top of his game, dazzling fans and touring the world – until he gets locked in the loony bin after taking a few too many drugs.',\n",
              " 'After a losing streak puts him in debt of 50,000 euros to his sponsors, an unlikely Turkish-German boxer in Berlin finds himself in need of a miracle.',\n",
              " \"What starts as a passionate one-night stand quickly turns sinister when Clare learns she's locked inside Andi's apartment with no way out.\",\n",
              " 'In this cinematic sequel to the hit TV series, Lolle has moved on from Sven and is about to marry her friend Hart – until Sven disrupts her plans.',\n",
              " 'Set in the Grey City, this \"Cities of Love\" installment is a star-studded, 10-story collection of redemptive love, crushing loss and everyday romances.',\n",
              " 'Loner Guts is recruited by Griffith and his band of mercenaries, but their ensuing success as a full-fledged army could lead to a horrible fate.',\n",
              " \"For three years, Guts believed his mission was to pursue Griffith's dream together with him. But in order to become Griffith's equal and truly be called his friend, Guts realizes he will have to leave the Band of the Hawk.\",\n",
              " 'A year after he left the Band of the Hawk, Guts rejoins them in an epic battle to vanquish the God Hand and save Griffith from a hellish fate.',\n",
              " 'Ever the stand-up party animal, comic Bert Kreischer riffs on parenting and family life, being a gun and pet owner, his dad discovering pot, and more.',\n",
              " 'Shirtless comic Bert Kreischer relays personal secrets and stories about being a cool – if not always responsible – dad in this stand-up special.',\n",
              " 'From his run-in with a grizzly bear to partying with the Russian mafia, the shirtless comic returns with laugh-out-loud tales in this stand-up special.',\n",
              " 'Decadent pasta from day-old fries? Skillful cooks transform tired leftovers into tantalizing new dishes in this wildly creative culinary competition.',\n",
              " 'Two young stars with different backgrounds and agendas enter into a fake marriage to advance their careers, until the fake starts turning real.',\n",
              " 'A just-married couple moves into their new home, finding themselves at war with the kids next door, who seem determined to make their lives miserable.',\n",
              " \"From Jerry Seinfeld to Leslie Jones, Kevin Hart to Hannah Gadsby, laugh along with the funniest bits from Netflix's 2020 stand-up comedy specials.\",\n",
              " 'From unseen footage to the last table read, this documentary takes an inside look at the final season of the acclaimed comedy series \"Schitt\\'s Creek.\"',\n",
              " 'The cast and crew of the 1981 Broadway musical \"Merrily We Roll Along\" recall joy and heartbreak during the production of a surefire hit that wasn\\'t.',\n",
              " 'Teenage friends plan an epic trip to Comic-Con to meet their idol, only to get caught in one hilariously awkward predicament after another.',\n",
              " 'Hired to displace tribal villagers to make way for a new highway, officials unearth an old curse and an army of British soldier-zombies.',\n",
              " 'This documentary follows the rising tide of Bethany Hamilton who lost her arm as a teen before making waves in pro surfing and her personal life.',\n",
              " 'This Emmy-nominated prequel to \"Breaking Bad\" follows small-time attorney Jimmy McGill as he transforms into morally challenged lawyer Saul Goodman.',\n",
              " 'A family on the brink of splitting up become the owners of a cutting-edge robot being sought by a corporation, homicide investigators and terrorists.',\n",
              " 'This documentary dives into the complex world of Herbalife, the international nutritional products company accused of being a pyramid scheme.',\n",
              " 'This documentary on actress and television producer Betty White traces her decades-long career as a  woman breaking new ground in entertainment.',\n",
              " 'After a mysterious disease kills every resident over 22 years old, survivors of a town must fend for themselves when the government quarantines them.',\n",
              " 'A former actress takes a trip to Japan, where she meets a young man who provides an escape from reality and makes her consider a different way of life.',\n",
              " 'Armed with awkward questions and zero self-awareness, Zach Galifianakis hits the road to find famous interview subjects for his no-budget talk show.',\n",
              " 'Grieving for his dead wife and daughter, a trucker plunges into a romance with a mother who needs his help. The dead, however, are far from gone.',\n",
              " \"A young woman faces pressure to marry her brother-in-law, after her sister dies while giving birth. But she's secretly in love with someone else.\",\n",
              " \"A man suffering from amnesia can't seem to choose between the women playing tricks on him.\",\n",
              " \"Middle schooler Valt Aoi, with his Beyblade Valtryek, faces off against friends, classmates and rivals to become the world's number one Blader.\",\n",
              " 'Scouted by a famous Spanish club, Valt Aoi heads to Spain. With their sights on the World League, he and his teammates face the European League first.',\n",
              " \"After training with legendary Valt Aoi, Dante and his trusty Ace Dragon lead the next generation of Bladers to battle in Japan — Beyblade's birthplace.\",\n",
              " 'Yearning to earn the title of world blading champion, a novice competitor must harness his untamed potential through training and tournaments.',\n",
              " 'In this anime adventure series for kids, the forces of good and evil \"blade it out,\" battling each other with enchanted spinning tops.',\n",
              " 'When a local musician and his band are forced to perform in honor of a right-wing coup, his daughter schemes to make their music subversive instead.',\n",
              " \"As the 2011 Cricket World Cup begins, three Indians demonstrate their passion and the sacrifices they've made for the country's most popular sport.\",\n",
              " 'In the wake of an extraterrestrial invasion, a suspended L.A. cop teams up with survivors to stop the onslaught and rescue human captives.',\n",
              " 'Secrets from the \"Stranger Things 2\" universe are revealed as cast and guests discuss the latest episodes with host Jim Rash. Caution: spoilers ahead!',\n",
              " \"With highlights from the 2020 tourney, this program offers an inside look at the global showcase for women's cricket — the ICC Women's T20 World Cup.\",\n",
              " 'A youthful drug dealer in Mumbai must change his ways when the sister who raised him is assaulted by her boss and imprisoned for defending herself.',\n",
              " 'A kind-hearted insurance agent has the mysterious power to temporarily shoulder the problems and pain of others, with comic results in his own life.',\n",
              " 'Facing disapproving parents, a knotty love life and her own inner critic, an aspiring comic ditches her cushy but unsatisfying life to pursue stand-up.',\n",
              " \"An impulsive, free-spirited woman who's defied convention for much of her life suddenly finds herself flirting with a classic romance.\",\n",
              " 'A theater group lands in trouble when its new actress takes her own life, two of its members are framed for murder and no one is who they appear to be.',\n",
              " 'This first of a two-part biopic depicts the early years that lay the foundation for beloved Marathi writer and comedian P.L. Deshpande’s iconic career.',\n",
              " 'The second installment of P.L. Deshpande’s biopic explores the Marathi humorist’s political journey, philanthropic endeavors and personal life.',\n",
              " 'Married to two women – each unaware of the other – a man finds his double life threatened when an old friend who knows his not-so-little secret arrives.',\n",
              " 'Determined to bring traditional bhangra to the world stage, a dancer preps for an international competition against a rival with dreams of her own.',\n",
              " 'In this heart-wrenching coming-of-age story, a young boy embarks on an arduous trek with his debt-ridden father to sell their beloved family donkey.',\n",
              " 'When his best friend is killed for uncovering political corruption, an idealistic young man decides to become a masked fighter for justice.',\n",
              " \"It's Diwali! To celebrate, Chhota Bheem and his friends put on a stage show of the Ramayana, re-enacting the epic story behind the festival of lights.\",\n",
              " 'Tired of being single, a smart-aleck meme creator has a chance to prove himself to the girl he loves when he is suddenly appointed CEO of her workplace.',\n",
              " 'Siddharth dismisses warnings that his palace might be haunted, until ghostly occurrences force him to reconsider his beliefs.',\n",
              " 'After a couple moves into an apartment, the wife’s increasingly disturbing behavior unravels chilling secrets about their new home’s past.',\n",
              " \"A 23-year-old girl who's married to a man more than twice her age is forced to contend with the predatory nature of a male-dominated society.\",\n",
              " \"Teen witch Bibi and horse-loving Tina face trouble when a posh girl flirts with Tina's boyfriend and a crook sets his greedy eyes on a promising foal.\",\n",
              " \"When robbers hit Falkenstein castle, teen witch Bibi and pal Tina hunt for the crooks, then devise a plan to save the neighbors' failing ranch.\",\n",
              " \"At summer camp, young Bibi and her friends are pitted against the boys in a treasure hunt. But what's a witch to do when she loses her powers?\",\n",
              " 'Teen witch Bibi and her pal Tina return to the screen to reconcile a runaway girl with her narrow-minded family and save Falkenstein Castle from chaos.',\n",
              " 'When a busy mother and father realize they need help with their two young children, they hire a series of maids, often with humorous results.',\n",
              " 'When three teens free a spirit that offers to grant each a wish, they choose to become their favorite superheroes, launching a series of adventures.',\n",
              " \"The alcohol-fueled high jinks of a bachelor party go haywire when the buddies of an ill-fated groom abduct his fiancée's new lover.\",\n",
              " \"Dumped by his girlfriend because he refuses to accept responsibility, overgrown adolescent Sonny Koufax adopts a 5-year-old to prove he's a grownup.\",\n",
              " \"Writer and presenter Monty Don helps England's budding horticulturists plant and grow the gardens of their dreams.\",\n",
              " \"Junior high students Jason and Kaylee take action when a greedy Hollywood producer turns Jason's essay into a hit film without giving him credit.\",\n",
              " 'A tenderfoot and two gamblers seeking their fortunes in a boom town instead find themselves defending it from a gunslinging preacher and his gang.',\n",
              " 'After a reporter writes about whales trapped in the Arctic Circle, the U.S. and U.S.S.R. team up to rescue them in this tale inspired by true events.',\n",
              " 'Teenage friends find their lives upended by the wonders and horrors of puberty in this edgy comedy from real-life pals Nick Kroll and Andrew Goldberg.',\n",
              " 'A single middle-aged woman who has lived her whole life in a small Virginia mining town uncovers a family secret that alters her profoundly.',\n",
              " \"In this documentary, architect Bjarke Ingels offers his vision for 2 World Trade Center as he aims to restore Manhattan's skyline to its former glory.\",\n",
              " \"Big Time Rush heads to London for their first world tour, but when the boys' bags are switched, they get mixed up in a mission to save the world.\",\n",
              " 'Go backstage with French rap duo Bigflo & Oli in this intimate music documentary, then join the superstar siblings as they embark on a major tour.',\n",
              " \"When his video game concept is stolen by a dishonest executive, a teenage chronic liar sets out to prove that he's telling the truth, for once.\",\n",
              " 'British documentarian Nick Broomfield investigates the murders of rappers Tupac Shakur and Biggie Smalls, digging up some surprises in the process.',\n",
              " 'This documentary charts the rise and fall of hot yoga founder Bikram Choudhury as his global empire is born and disturbing revelations come to light.',\n",
              " 'Bill Burr escapes the zombie apocalypse, explores how rom-coms ruin great sex and explains how too many childhood hugs may be the downfall of man.',\n",
              " 'The musings of comedian Bill Burr are let loose in this special, which was filmed at the historic Fillmore Auditorium in San Francisco.',\n",
              " 'Bill Burr unloads on outrage culture, male feminism, cultural appropriation, robot sex and more in a blistering stand-up special shot in London.',\n",
              " 'No-nonsense comic Bill Burr takes the stage in Nashville and riffs on fast food, overpopulation, dictators and gorilla sign language.',\n",
              " 'Funnyman Bill Burr takes the stage to uncork a profanity-laced, incisive routine that pokes fun at plastic surgery, reality TV, gold diggers and more.',\n",
              " 'Bill Hicks remembers a wild night in 1989 and offers his views on puffing cigarettes, smoking weed, drinking, sex, commercials and music.',\n",
              " 'This documentary about comedian Bill Hicks offers insight into his irreverent takes on, well, everything. Brother Steve Hicks is the star witness.',\n",
              " 'In one of his most iconic performances, late comedian Bill Hicks demonstrates what made him such a singular talent and a force to be reckoned with.',\n",
              " 'In his final recorded special, the iconoclastic comedian channels Goat Boy and tackles provocative topics like British porn, pot and the priesthood.',\n",
              " \"Filmed in 1989 at a turning point in comedian Bill Hicks's career, this rare onstage performance captures him spouting off on a variety of topics.\",\n",
              " 'Emmy-winning host Bill Nye brings experts and famous guests to his lab for a talk show exploring scientific issues that touch our lives.',\n",
              " 'The dynamic, bow-tied host behind the young adult science show faces climate-change skeptics as he demonstrates the importance of scientific evidence.',\n",
              " \"An Indian village is abuzz with news that a major movie star is coming to town – even more so because the town barber went to school with him. But as the day of the actor's visit approaches, the humble barber begins to worry he won't be recognized.\",\n",
              " 'When a boy trades boxing school for ballet lessons, he may take his newfound talent all the way to the top - and win over his disapproving father.',\n",
              " 'This documentary recounts the life story of evangelist preacher Billy Graham featuring interviews with family members and former presidents.',\n",
              " 'Comedian Billy Eichner sprints through New York with celebrities to stun pedestrians with unapologetic, unfiltered and unique pop culture questions.',\n",
              " 'Torn between his demanding corporate career, his passion for music and his turbulent family life, a man struggles to keep his inner demons in check.',\n",
              " 'A medical student enters a top German university on a secret mission to uncover a conspiracy linking a family tragedy to a visionary biology professor.',\n",
              " 'Inspired by classic and contemporary literature, four renowned Marathi directors create four individual stories in this anthology of short films.',\n",
              " 'A Istanbul mobster falls for an Indian yoga instructor whose abduction takes him on a wild rescue mission to Mumbai.',\n",
              " 'Five years after an ominous unseen presence drives most of society to suicide, a survivor and her two children make a desperate bid to reach safety.',\n",
              " \"Bird watchers on both sides of the U.S.-Mexico border share their enthusiasm for protecting and preserving some of the world's most beautiful species.\",\n",
              " 'A sheltered farm girl inadvertently shoots an endangered Philippine eagle, setting off a police investigation that exposes violence and corruption.',\n",
              " 'In an attempt to settle the \"nature vs. nurture\" debate, a scientist couple raises three children to live lives that defy their genetic dispositions.',\n",
              " 'Cracking under the demands of children and a philandering, thankless husband, an overworked suburban mother assumes the persona of a ferocious dog.',\n",
              " 'A unconventional, efficient Interpol special agent goes rogue and assembles a team of thieves to catch a shadowy hacker called \"The Ghost.\"',\n",
              " 'Elena Michaels tries to stray from the pack of werewolves that turned her into a monster, but her efforts are thwarted by a string of grisly murders.',\n",
              " 'While investigating the disappearance of a teen girl in a tight-knit Galician town, a Civil Guard officer uncovers secrets linked to a loss of her own.',\n",
              " 'After 20 years abroad, a photographer returns to his birth country of Egypt and gets stranded without identification in a now unfamiliar culture.',\n",
              " 'When a small-town wedding videographer falls in love, he decides he needs to make more money and turns to shooting sexy videos – with mixed results.',\n",
              " 'A small-town man takes on a dangerous gangster to avenge his father, a police officer who ended his own life after being framed in a deadly crime.',\n",
              " 'When the Great Famine ravages his beloved country, a battle-hardened Irishman deserts the British Empire and exacts revenge on the tyrants responsible.',\n",
              " 'When low-income families move into a thriving black community in Chicago, they find themselves at odds with politicians to maintain their status.',\n",
              " \"In Victorian London, 12-year-old business magnate Ciel Phantomhive thwarts dangers to the queen as he's watched over by his demon butler, Sebastian.\",\n",
              " 'This drama portrays women and kids living under the Islamic State group: a Yazidi slave, an undercover reporter, a recruited mom and child snipers.',\n",
              " 'Adopted by a human rights attorney after the Rwandan genocide, legal investigator Kate Ashby confronts her past when she takes on war crimes cases.',\n",
              " 'This docudrama based on the same-titled book tracks the aftermath of a 1993 bombing in Bombay through the eyes of a journalist covering the story.',\n",
              " 'When U.S. forces attempt to capture two underlings of a Somali warlord, their helicopters are shot down and the Americans suffer heavy casualties.',\n",
              " 'Blaming a crooked media mogul for the death of his journalist sister, a surgeon enlists the help of a beautiful psychologist to get revenge.',\n",
              " 'At a Black-owned-and-operated hotspot for ink in Harlem, tattoo king Ceaser looks to expand his empire while working with a rambunctious crew.',\n",
              " 'School principal and retired superhero Jefferson Pierce leaps back into action as the legendary Black Lightning after a gang threatens his family.',\n",
              " 'This film chronicles the health and social problems that African albinos face and details the fight waged on their behalf by advocacy groups in Spain.',\n",
              " \"This sci-fi anthology series explores a twisted, high-tech near-future where humanity's greatest innovations and darkest instincts collide.\",\n",
              " 'In 1984, a young programmer begins to question reality as he adapts a dark fantasy novel into a video game. A mind-bending tale with multiple endings.',\n",
              " \"After a cop's fiancée and a jewelry designer's father are found dead together, the two bereaved ones face a perilous aftermath of a theft gone wrong.\",\n",
              " \"T'Challa, the superpowered new leader of the hidden, highly advanced African nation of Wakanda, strives to protect his home from enemies old and new.\",\n",
              " 'When a number of Russian women are brutally murdered in Los Angeles, the police call on a Moscow detective to help track down the serial killer.',\n",
              " \"A hard-driving submarine captain is hired to steal gold from a sunken Nazi sub, but there's no honor among thieves during this underwater heist.\",\n",
              " 'After discovering that their secret military prison is under attack by terrorists, a ragtag group of inmates does their best to neutralize the enemy.',\n",
              " 'Lazarus finds Rae beaten and near death, and acts as a father figure to help redeem her. But before saving anyone, Lazarus must face his own demons.',\n",
              " \"An old tragedy and lingering animosity erupt when a man returns to Patagonia to convince his estranged brother to sell the family's isolated property.\",\n",
              " 'A police chief and an eccentric new prosecutor investigate a string of grisly crimes and eerie phenomena in an isolated town at the edge of a forest.',\n",
              " 'In the dark, early days of a zombie apocalypse, complete strangers band together to find the strength they need to survive and get back to loved ones.',\n",
              " 'This fascinating documentary examines the life of performing killer whale Tilikum, who has caused the deaths of several people while in captivity.',\n",
              " 'Record-shattering Korean girl band BLACKPINK tell their story — and detail the hard-fought journey of the dreams and trials behind their meteoric rise.',\n",
              " \"Menaced by a psychopath who's got the local cops scared, waitress Lillian turns to a mysterious old logger to help her turn the tables on her stalker.\",\n",
              " 'Inside a vast, self-replicating city bent on eliminating all life, mysterious loner Killy emerges to guide a remnant of humanity desperate to survive.',\n",
              " 'An influential, if unsung country songwriter reflects on his career, and how the love of his life drove him to write his most personal music.',\n",
              " \"Featuring the boys of Johnny's West, a gang of zany transfer students are recruited for a mysterious mission ordained by their shadowy principal.\",\n",
              " 'After teenager Ichigo Kurosaki acquires superpowers from wounded soul reaper Rukia Kuchiki, the two of them join forces to round up lost souls.',\n",
              " 'When his mind is fogged by a scimitar-weilding stranger, Mayuri destroys his laboratory, unleashing a cloud of reishi that lays waste to the Seiretei.',\n",
              " \"When a group of vicious Sinners plots to escape from this eternal prison in Hell, they discover that Substitute Soul Reaper Ichigo is the key to their freedom. The Sinners launch an attack and in the process kidnap Ichigo's younger sister.\",\n",
              " 'After a devastating injury derails his career, scrappy world champion boxer Vinny Pazienza determines to make an against-all-odds comeback.',\n",
              " 'After being wrongfully convicted of fraud, an honest man finds that life in prison comes with a measure of freedom that is unavailable outside.',\n",
              " \"A passionate pianist and a soulful puzzle maker who treasures silence aren't the best neighbors, but things get interesting when they start to date.\",\n",
              " 'When a cop loses his vision, his detecting skills stay sharp. Luckily, a rookie officer recognizes his extraordinary powers of deduction.',\n",
              " \"Follow LA's wildly wealthy Asian and Asian American fun seekers as they go all out with fabulous parties, glamour and drama in this reality series.\",\n",
              " 'Happy koala Blinky Bill and some spunky pals travel the Outback following clues to help him find his long-lost father and finally bring him home.',\n",
              " 'Caught between family pressures and small-time crime-fighting, a pair of bumbling cops tries to bust a massive drug deal and go down in history.',\n",
              " 'Dumped over a video he made to amuse his ailing dad, a heartsick Jérémy hatches an elaborate scheme to win back his superhero-loving girlfriend, Lola.',\n",
              " \"Condemned by a centuries-old vow to protect her kingdom's treasures, an embittered spirit returns to seek justice against the man who wronged her.\",\n",
              " 'After crossing paths at a party, a Cape Town teen sets out to prove whether a private-school swimming star is her sister who was abducted at birth.',\n",
              " 'An ex-convict and estranged father finds the chance to prove himself when his daughter seeks his help shaking off a dangerous group of drug dealers.',\n",
              " \"Ambitious Kunal takes a job in the diamond business, but his life is thrown into turmoil when he's drawn into the seedy underworld of his new career.\",\n",
              " 'A commoner living in ancient Greece, Heron discovers his true heritage as a son of Zeus, and his purpose: to save the world from a demonic army.',\n",
              " 'An ambitious TV reporter uses risky and ethically questionable methods to report on gang wars and police corruption in the Amazon port of Belém, Brazil.',\n",
              " 'Family patriarch Elías begins to unravel after the death of his wife – which casts a suspicious light on her tragic accident.',\n",
              " 'When the black sheep son of a respected family threatens to expose dark secrets from their past, sibling loyalties are put to the test.',\n",
              " 'The doomed passengers aboard a spectral bus head toward a gruesome, unknown destination in this deliciously macabre horror anthology series.',\n",
              " 'Cocaine smuggler George rises from poverty to become one of the biggest drug dealers in America before his eventual downfall.',\n",
              " 'Ten master artists turn up the heat in glassblowing sculpture challenges for the chance to win $60,000 in prizes and the title of champion.',\n",
              " \"Determined to throw off the curse of being Satan's illegitimate son, Rin enters the True Cross Academy to become an exorcist, just like his mentor.\",\n",
              " \"Determined to fall in love, 15-year-old Adele is focused on boys. But it's a blue-haired girl she meets on the street who really piques her interest.\",\n",
              " 'The high life leads to high anxiety for a fashionable New York City homemaker in crisis who finds herself forced to live a more modest lifestyle.',\n",
              " 'Two former high school sweethearts unexpectedly reunite in their old hometown, where they rediscover their magical bond and face a shared regret.',\n",
              " \"New NFL star Thad buys his old teammates' beloved frat house, renames it Thadland and throws the raunchiest, most debauched party in school history.\",\n",
              " 'This sequel to the award-winning nature series \"Blue Planet\" dives beneath Earth\\'s oceans to reveal the dazzling vistas and amazing creatures there.',\n",
              " 'Bad news from the past unhinges vagabond Dwight Evans, sending him on a mission of bloody retribution that takes him to his childhood hometown.',\n",
              " 'A jewel thief returns to his hiding place after a stint in jail — only to find that his diamond is buried under a newly constructed police station.',\n",
              " ...]"
            ]
          },
          "metadata": {},
          "execution_count": 32
        }
      ]
    },
    {
      "cell_type": "code",
      "source": [
        "X = [low.lower() for low in X]"
      ],
      "metadata": {
        "id": "EnR9H65JqIbi"
      },
      "execution_count": null,
      "outputs": []
    },
    {
      "cell_type": "code",
      "source": [
        "X = [re.sub(\"\\w+://\\S+\",\"\", urls) for urls in X]"
      ],
      "metadata": {
        "id": "lId0DqWVqdQM"
      },
      "execution_count": null,
      "outputs": []
    },
    {
      "cell_type": "code",
      "source": [
        "X =[re.sub(\"@\\w+\",\"\", handles) for handles in X]"
      ],
      "metadata": {
        "id": "v9Ivfb_Kq6DM"
      },
      "execution_count": null,
      "outputs": []
    },
    {
      "cell_type": "code",
      "source": [
        "import nltk\n",
        "nltk.download('punkt')"
      ],
      "metadata": {
        "colab": {
          "base_uri": "https://localhost:8080/"
        },
        "id": "V1NMZgN9skso",
        "outputId": "a7e8ef60-5970-4644-dffe-99cbdf1f631d"
      },
      "execution_count": null,
      "outputs": [
        {
          "output_type": "stream",
          "name": "stdout",
          "text": [
            "[nltk_data] Downloading package punkt to /root/nltk_data...\n",
            "[nltk_data]   Unzipping tokenizers/punkt.zip.\n"
          ]
        },
        {
          "output_type": "execute_result",
          "data": {
            "text/plain": [
              "True"
            ]
          },
          "metadata": {},
          "execution_count": 36
        }
      ]
    },
    {
      "cell_type": "code",
      "source": [
        "X= [word_tokenize(word) for word in X]"
      ],
      "metadata": {
        "id": "NRNrwaJjriJI"
      },
      "execution_count": null,
      "outputs": []
    },
    {
      "cell_type": "code",
      "source": [
        "X[0]"
      ],
      "metadata": {
        "colab": {
          "base_uri": "https://localhost:8080/"
        },
        "id": "NWG0FhyrsdOp",
        "outputId": "09a535dc-1af5-438b-958e-99008f3a9999"
      },
      "execution_count": null,
      "outputs": [
        {
          "output_type": "execute_result",
          "data": {
            "text/plain": [
              "['in',\n",
              " 'a',\n",
              " 'future',\n",
              " 'where',\n",
              " 'the',\n",
              " 'elite',\n",
              " 'inhabit',\n",
              " 'an',\n",
              " 'island',\n",
              " 'paradise',\n",
              " 'far',\n",
              " 'from',\n",
              " 'the',\n",
              " 'crowded',\n",
              " 'slums',\n",
              " ',',\n",
              " 'you',\n",
              " 'get',\n",
              " 'one',\n",
              " 'chance',\n",
              " 'to',\n",
              " 'join',\n",
              " 'the',\n",
              " '3',\n",
              " '%',\n",
              " 'saved',\n",
              " 'from',\n",
              " 'squalor',\n",
              " '.']"
            ]
          },
          "metadata": {},
          "execution_count": 38
        }
      ]
    },
    {
      "cell_type": "code",
      "source": [
        "nltk.download('stopwords')"
      ],
      "metadata": {
        "colab": {
          "base_uri": "https://localhost:8080/"
        },
        "id": "ux8Tqj5ps8Hd",
        "outputId": "61d11529-f5a0-4e7c-b035-24138b98cbe2"
      },
      "execution_count": null,
      "outputs": [
        {
          "output_type": "stream",
          "name": "stdout",
          "text": [
            "[nltk_data] Downloading package stopwords to /root/nltk_data...\n",
            "[nltk_data]   Unzipping corpora/stopwords.zip.\n"
          ]
        },
        {
          "output_type": "execute_result",
          "data": {
            "text/plain": [
              "True"
            ]
          },
          "metadata": {},
          "execution_count": 39
        }
      ]
    },
    {
      "cell_type": "code",
      "source": [
        "stop_nltk = stopwords.words(\"english\")\n",
        "stop_punct = list(punctuation)\n",
        "\n",
        "#Adding some specific punctuation from the  data :\n",
        "stop_punct.extend(['...','``',\"''\",\"..\"])\n",
        "stop_context = ['rt', 'amp',\"'s\"]\n",
        "\n",
        "#Final stop word list including all of these:\n",
        "stop_final = stop_nltk + stop_punct + stop_context"
      ],
      "metadata": {
        "id": "Ve_0ItjKsojl"
      },
      "execution_count": null,
      "outputs": []
    },
    {
      "cell_type": "code",
      "source": [
        "def del_stop(sent):\n",
        "    return [re.sub(\"#\",\"\",term) for term in sent if ((term not in stop_final) & (len(term)>1))]\n",
        "\n",
        "#Applying the function on the data:\n",
        "X_clean = [del_stop(clean) for clean in X]"
      ],
      "metadata": {
        "id": "OTqOcRtZs2u9"
      },
      "execution_count": null,
      "outputs": []
    },
    {
      "cell_type": "code",
      "source": [
        "term_list = []\n",
        "for i in X_clean:\n",
        "    term_list.extend(i)\n",
        "\n",
        "#Using counter to get top terms:\n",
        "res = Counter(term_list)\n",
        "res.most_common(10)"
      ],
      "metadata": {
        "colab": {
          "base_uri": "https://localhost:8080/"
        },
        "id": "dvCdsaq4tRsn",
        "outputId": "c75d1a7c-9393-49b6-b688-d6ecec0ac2c1"
      },
      "execution_count": null,
      "outputs": [
        {
          "output_type": "execute_result",
          "data": {
            "text/plain": [
              "[('life', 705),\n",
              " ('young', 655),\n",
              " ('new', 603),\n",
              " ('family', 550),\n",
              " ('world', 476),\n",
              " ('man', 472),\n",
              " ('love', 440),\n",
              " ('two', 434),\n",
              " ('woman', 427),\n",
              " ('friends', 383)]"
            ]
          },
          "metadata": {},
          "execution_count": 42
        }
      ]
    },
    {
      "cell_type": "markdown",
      "source": [
        "Add Word Cloud here"
      ],
      "metadata": {
        "id": "hw1U2JYWuAFy"
      }
    },
    {
      "cell_type": "code",
      "source": [
        "X_clean = [\" \".join(label) for label in X_clean]"
      ],
      "metadata": {
        "id": "MffEPsRztvCC"
      },
      "execution_count": null,
      "outputs": []
    },
    {
      "cell_type": "code",
      "source": [
        "X_clean"
      ],
      "metadata": {
        "colab": {
          "base_uri": "https://localhost:8080/"
        },
        "id": "i4WvDVSouadv",
        "outputId": "7e17e5cf-2699-4db9-e0c6-42a3bd8f54c1"
      },
      "execution_count": null,
      "outputs": [
        {
          "output_type": "execute_result",
          "data": {
            "text/plain": [
              "['future elite inhabit island paradise far crowded slums get one chance join saved squalor',\n",
              " 'devastating earthquake hits mexico city trapped survivors walks life wait rescued trying desperately stay alive',\n",
              " 'army recruit found dead fellow soldiers forced confront terrifying secret haunting jungle island training camp',\n",
              " 'postapocalyptic world rag-doll robots hide fear dangerous machines exterminate brave newcomer joins group',\n",
              " 'brilliant group students become card-counting experts intent swindling millions las vegas casinos playing blackjack',\n",
              " 'genetics professor experiments treatment comatose sister blends medical shamanic cures unlocks shocking side effect',\n",
              " 'awful accident couple admitted grisly hospital separated must find escape death finds',\n",
              " 'one high school students attacks dedicated teacher trevor garfield grows weary gang warfare new york city school system moves california teach thinking must less hostile environment',\n",
              " 'doctor goes missing psychiatrist wife treats bizarre medical condition psychic patient knows much leading',\n",
              " 'architect wife move castle slated become luxury hotel something inside determined stop renovation',\n",
              " 'farmer pens confession admitting wife murder death beginning macabre tale based stephen king novella',\n",
              " 'dark alt-history thriller naïve law student world-weary detective uncover conspiracy tyrannized poland decades',\n",
              " 'archival video new interviews examine mexican politics 1994 year marked rise ezln assassination luis donaldo colosio',\n",
              " 'intimate documentary follows rock star artiwara kongmalai historic 2,215-kilometer charity run across thailand 2017',\n",
              " 'stranded earth suddenly destroyed mysterious cataclysm astronauts aboard marooned space station slowly lose minds',\n",
              " 'backdrop nigeria looming independence britain detective danladi waziri races capture killer terrorizing local women',\n",
              " 'psychology professor faces alzheimer daughter three close female friends experience romance marriage heartbreak tragedy',\n",
              " 'devastating terror attacks norway young survivor grieving families country rally justice healing based true story',\n",
              " 'india independence day zany mishap mumbai chawl disrupts young love story compelling residents unite aid little boy',\n",
              " 'mixing old footage interviews story arsenal improbable win versus liverpool final moments 1989 championship game',\n",
              " 'accidentally connecting internet two strangers form tight friendship knowing already share bond',\n",
              " 'taxi driver gangster athlete struggle better lives despite obstacles like crooked politicians evil dons caste barriers',\n",
              " 'successful writer returns town launched career encountering people spark nostalgic often painfully illuminating flashbacks',\n",
              " 'middle-aged divorcee returns kolkata visit ailing father long-buried memories resurface bringing new discoveries',\n",
              " 'seiya knights zodiac rise protect reincarnation goddess athena dark prophecy hangs',\n",
              " 'real-life look fbi counterterrorism operations features access sides sting government informant radicalized target',\n",
              " 'docuseries takes deep dive lucrative wellness industry touts health healing products live promises',\n",
              " 'grisly virus rampages city lone man stays locked inside apartment digitally cut seeking help desperate find way',\n",
              " 'diary anne frank story retold alongside five holocaust survivors poignant documentary oscar winner helen mirren',\n",
              " 'kenya barris family navigate relationships race culture grappling newfound success comedy series',\n",
              " 'pawesome documentary explores feline friends became online icons earliest text memes rise celebrity cat influencers',\n",
              " 'pining high school crush years young man puts best efforts move friend zone reveals getting married',\n",
              " 'ayu ditto finally transition best friends newlyweds quick pregnancy creates uncertainty future young marriage',\n",
              " 'nerdy high schooler dani finally attracts interest longtime crush lands cross hairs ex social media celebrity',\n",
              " 'teenage hacker huge nose helps cool kid woo girl secretly love',\n",
              " 'documentary celebrates 50th anniversary harlem sports program inspired countless city kids become pro basketball players',\n",
              " 'two days final exams three teen girls make seaside getaway end adolescence bang',\n",
              " 'painful breakup trio party-loving friends makes bet get married three days',\n",
              " 'two brothers fall two sisters quickly realize age differences big ignore',\n",
              " 'estranged mother suddenly dies woman must follow quirky instructions laid order collect important inheritance',\n",
              " 'slacker owner public bath house rallies community save big developer comes town close open new mall',\n",
              " 'young urbanites renovating rundown house psychiatrist grieving son disappearance connected supernatural decades-old secret',\n",
              " 'vignettes summer holidays follow vacationers battle mosquitoes suffer ruined plans otherwise hit snags precious time',\n",
              " 'lagos journalist goes undercover prostitute expose human trafficking finds world exploited women ruthless violence',\n",
              " 'aiming hasten uprising leader underground rebellion dispatches acrobatic assassin aeon flux eliminate government top leader',\n",
              " 'orphan subjected tests gave superpowers rescued raised istanbul streets falls reporter linked past',\n",
              " 'aspiring dancer uprooted senior year high school finds torn two boys one shot dream',\n",
              " 'escaping bus accident killed girlfriend high school student channels grief running help new coach',\n",
              " 'girlfriend wins miss nigeria pageant young man faces unexpected competition joins campaign south africa',\n",
              " 'carefree bachelor unexpectedly left charge young boy two embark road trip change lives',\n",
              " \"fierce mammoth hunter d'leh sets impossible journey rescue woman loves vicious warlord save people village\",\n",
              " 'upon losing memory crown prince encounters commoner life experiences unforgettable love husband joseon oldest bachelorette',\n",
              " 'spanish photographer josé díaz spends 100 days living alone remote mountain connecting nature documenting beauty surroundings',\n",
              " 'one hundred hardy souls diverse backgrounds participate playful experiments exploring age sex happiness aspects human',\n",
              " 'man diagnosed multiple sclerosis responds training ironman triathlon cranky father-in-law help',\n",
              " 'led seventh-grader c.j. three students warned dangers high school decide make best middle-school years',\n",
              " 'documentary chronicles elouise cobell long fight u.s. government gross mismanagement mineral-rich native american land',\n",
              " 'high school young woman marries man father choice soon faces possibility religion considers union invalid',\n",
              " 'stylist hair designer makeup artist team give britain biggest fashion disasters much-needed makeunders',\n",
              " \"randomly receiving handsome political bribe sweet poor elderly woman decides treat shopping spree n't go smoothly\",\n",
              " 'dealing personal demons death son prizefighter attempts return ring challenging rival 12-round rematch',\n",
              " 'pregnant teen forced family leave boyfriend assume new identity america 12 years later couple reunites korea',\n",
              " 'young parents-to-be claire ryan move suburban rental home unaware someone secretly watching every move via hidden cameras',\n",
              " 'teenage girl perplexing suicide classmate receives series tapes unravel mystery tragic choice',\n",
              " 'cast members writers producers mental health professionals discuss difficult issues themes explored 13 reasons',\n",
              " 'man agrees appear game show million prize challenges become extreme realizes made grave mistake',\n",
              " 'thought-provoking documentary scholars activists politicians analyze criminalization african americans u.s. prison boom',\n",
              " 'age ming dynasty quinglong best jinyiwei elite assassin squad made highly trained former street urchins evil eunuch jia unseats emperor quinglong called action quickly betrayed',\n",
              " 'upping 13 cameras ante sequel finds family renting vacation house customized violate privacy',\n",
              " 'google executive boldly attempts death-defying mission travel space free-fall back earth without rocket',\n",
              " \"tasked escorting prosecution witness court aging cop gears 16-block trek 'll lucky make alive\",\n",
              " 'nearing midlife crisis thirty-something mike wishes do-over exactly gets wakes find 17',\n",
              " 'pregnant mother terminal cancer leaves behind 18 sentimental gifts unborn daughter receive every birthday reaches womanhood',\n",
              " 'spain relinquishes last colonies battle-fatigued outpost engages long brutal sometimes bizarre clash filipino insurgents',\n",
              " 'seeking independence young woman moves los angeles settles cozy apartment complex disturbing sense community',\n",
              " 'student filmmakers uncover occult rituals tied abandoned warehouse gradually realize horror closer think',\n",
              " \"bumbling paris policeman doggedly determined capture master thief repeatedly eludes even 're last two men earth\",\n",
              " 'graduate students krish ananya hope win parents approval marry two families clash cultural differences',\n",
              " 'winner 2014 academy award best documentary feature film takes look world backup vocalists legends support',\n",
              " 'wife convicted murder horrified family man races prove innocence dogged investigator sets uncover truth',\n",
              " 'world biggest k-pop festival marked 21st year 2015 groups exo 4minute shinee electrifying seoul world cup stadium',\n",
              " 'working artificial intelligence investigate failure deadly mars landing mission controller makes astonishing discovery',\n",
              " '1979 single bohemian mom dorothea hoping help teen son find place man asks two young women share lives',\n",
              " 'jeff straight-and-narrow life changes abruptly buddies take birthday bash night crucial med school interview',\n",
              " 'social experiment group daughters sends mothers disguised 21-year-olds world experience life member gen',\n",
              " 'one history greatest last stands battalion 21 sikh soldiers fights defend outpost attack 10,000 afghans',\n",
              " 'players coaches montreal soccer team chase dreams stardom personal lives erupt love fear passion violence',\n",
              " 'frozen tundra futuristic arizona humans forced underground soldier hunts bioengineered leader rebellion',\n",
              " 'revived experimental procedure hit man gets live extra 24 hours uses avenge dead wife child redeem',\n",
              " 'four brothers learn inherited ancestral land must fight claim greedy feudal lord threatens take',\n",
              " 'twenty-six years 1980 massacre gwangju south korea three relatives victims come together avenge infamous orchestrator',\n",
              " 'musician dies suspicious circumstances hard-drinking detective music fan investigate rock stars often die age 27',\n",
              " 'explore circumstances surrounding tragic deaths 27 jimi hendrix jim morrison brian jones janis joplin kurt cobain amy winehouse',\n",
              " 'drunken antics result property damage alcoholic journalist enters rehab soon meets fellow resident changes outlook',\n",
              " 'fiancé acts strangely upon receiving mysterious invitation florist sets find truth behind tiny scrap paper',\n",
              " 'terminally ill secret agent accepts risky mission exchange experimental drug might save survive side effects',\n",
              " 'reporter interviews three convicts death row documentary stories emerge true motivations soliciting',\n",
              " 'teenage ray begins transitioning female male single mom grandmother must cope change tracking father',\n",
              " 'three indonesian women break records becoming first nation medal archery seoul olympics summer 1988',\n",
              " 'attending one india premier colleges three miserable engineering students best friends struggle beat school draconian system',\n",
              " 'muslim women activist group india protests oral divorces starting movement reclaim religious constitutional rights',\n",
              " 'lives three dissatisfied brothers running family bridal shop turn topsy-turvy one care ex-girlfriend baby',\n",
              " 'help friends man breaks prison hopes restoring lively nightclub',\n",
              " 'two crooks planning bank heist wind abducting pizza delivery driver force commit robbery strict time limit',\n",
              " 'hoping help dissident parents two brothers sneak poland land refugees denmark prevented returning home',\n",
              " 'fiery executive spiritless relationship falls victim dominant mafia boss imprisons gives one year fall love',\n",
              " 'trapped society familial obligations young manga artist goes unconventional journey sexual freedom personal liberation',\n",
              " 'crash-landing earth two royal teen aliens run struggle blend humans evade intergalactic bounty hunters',\n",
              " 'prison bus crashes forest rainy night group criminals finds battling wild animals mysterious killer',\n",
              " 'launching successful underground restaurant apartment ambitious chef wife open all-consuming upscale eatery',\n",
              " 'paw-esome tales abound singing furry friends lampo milady pilou meatball band together',\n",
              " \"1960s madrid music producer guillermo rojas launches rock 'n roll label help aspiring singer robert clever producer maribel\",\n",
              " 'small town letters santa accidentally go smoke two elves venture north pole retrieve every missing wish',\n",
              " 'hoping reunite dying friend two longtime pals re-create desert road trip spain mali bringing along estranged daughter',\n",
              " \"young mechanic comes extremely straight best friends get used idea 're determined help find right guy\",\n",
              " 'election-night murder campaign manager polling site gubernatorial candidate challenges corrupt incumbent victory',\n",
              " 'yanto asks friends help save girlfriend kidnapped mobster silly slapstick campy crimefighting ensues',\n",
              " 'couple finds unexpected drama 40 years living brooklyn walk-up attempt sell apartment buy new one',\n",
              " 'italian prime minister meets lover political rival official trip budapest christmas week things go topsy-turvy',\n",
              " 'young novelist life turned upside chance encounter outside new york hotel leads intense affair diplomat wife',\n",
              " 'falling pretty art teacher short-term memory marine veterinarian win every single day',\n",
              " 'otherwise healthy twentysomething comically early midlife crisis gets slapped cancer diagnosis 50-50 chance survival',\n",
              " 'five friends embark mission climb highest peak java overcoming obstacles way discovering true meaning friendship',\n",
              " 'keep band together selly tries earn money making appearance birthday party mobster daughter gets kidnapped',\n",
              " 'loyal sister struggles stay afloat driving heroin-addicted brother detox center looking 2-year-old daughter',\n",
              " 'armed gunmen seize iranian embassy 1980 tense six-day standoff ensues elite british soldiers prepare dangerous raid',\n",
              " 'faking death tech billionaire recruits team international operatives bold bloody mission take brutal dictator',\n",
              " 'volatile young couple together six years approach college graduation unexpected career opportunities threaten future',\n",
              " 'six friends decide undertake grueling mountain trek find difficulties store merely physical',\n",
              " 'recruited sheriff volunteers infiltrate county prisons expose corruption crime within system docuseries',\n",
              " 'hapless guy agrees help stunning psychotic girlfriend rob loathsome sugar daddy scheme ill-conceived violent',\n",
              " 'multiple women report husbands missing appears looking man police officer traces cryptic connection',\n",
              " 'loyalties tested cruelties revealed four business partners spend tense evening debating pay crime committed',\n",
              " 'witness excitement drama behind scenes seven days leading major live events worlds sports fashion space food',\n",
              " 'given seven days genie find girl fall nerdy young man embarks madcap messy search would-be wife',\n",
              " 'spiced liberally black comedy bollywood drama follows lethal love life woman marries numerous men find flawed',\n",
              " 'series examines nature cuteness adorability helps animal species survive thrive variety environments',\n",
              " 'fangs claws venomous stings wield deadly weapons creature crowned fiercest',\n",
              " 'powerful cats indestructible arachnids flesh-melting pit vipers beginning series latin america deadliest creatures',\n",
              " 'get close personal avalanches fiery volcanoes natural cataclysms learn choose live destructive paths',\n",
              " 'shy natsu awakens part group chosen ensure survival humanity together survive changed earth',\n",
              " 'witness wonders human gestation cutting-edge cgi learn nine months inside womb affect aspects one life',\n",
              " 'four friends shake lives meet new woman apartment complex encourages embrace wild sides',\n",
              " 'heroic health workers fight contain ebola outbreak patient arrives lagos symptoms deadly virus based true story',\n",
              " 'gymnast lacks confidence needs reach top help new coach chance win spot national team',\n",
              " 'documentary captures joy heartbreak families separated u.s.-mexico border sharing short bittersweet reunion 2018',\n",
              " 'recruited secret society babysitters high schooler battles boogeyman monsters nab boy watching halloween',\n",
              " 'stressed-out moms amy carla kiki back looming christmas holiday gets even daunting mothers show visit',\n",
              " 'meeting awkward circumstances glamorous businesswoman tradition-bound policeman begin relationship changes lives',\n",
              " 'curious child idealistic interfaith parents observes increasingly intolerant world family faces financial strain',\n",
              " 'wife death overworked engineer struggles care son autism regresses fantasy world escape real-life bullying',\n",
              " '28-year-old layabout begins re-examine life dysfunctional family assembles pay respects dying grandmother pass',\n",
              " 'wartime drama details pivotal day 1944 allied task force tried win world war ii seizing control key bridges holland',\n",
              " 'carefree lifestyle line wealthy charmer poses ranch hand get hardworking farmer sell family land christmas',\n",
              " 'grieving teen must work debt ranch cares wounded horse teaches healing expected',\n",
              " 'forced wed childhood friend man obsessed football attempts get rid wife order keep woman truly loves',\n",
              " 'determined win heart childhood crush orphanage ej becomes boxer superpowers soon confronts formidable villain',\n",
              " 'cop working undercover trail possible diamond thief gets caught tricky spot finds new clues new feelings suspect',\n",
              " 'christmas comes early aspiring young journalist sent abroad get scoop dashing prince poised king',\n",
              " 'christmas brings ultimate gift aldovia royal baby first queen amber must save family kingdom unwrapping monarchy mystery',\n",
              " 'year helping richard secure crown amber returns aldovia plan wedding simple tastes clash royal protocol',\n",
              " 'parisian teen marinette transforms superhero ladybug find lonely secret crush adrien runs away home christmas',\n",
              " 'teen sam meets boy dreams dance returning toil stepmother diner lost cell phone bring together',\n",
              " 'despite vain stepmother mean stepsisters aspiring singer works elf christmas tree lot finds holiday miracle',\n",
              " 'dark satire director stanley kubrick young vicious sociopath dystopian england undergoes experimental rehabilitation therapy',\n",
              " 'center engrossing melodrama golden globe-nominated turn debra winger plays sheltered slow-witted woman living widowed aunt frances working dry cleaners',\n",
              " 'live-action adventure gang heads hawaii timmy learns source fairy magic dangerous hands',\n",
              " 'gentle law-abiding grace confesses killing new husband skeptical young lawyer sets uncover truth film tyler perry',\n",
              " 'filmmaker hunts missing puzzle pieces family history visit complex controversial figure grandmother',\n",
              " 'ruthless corporate headhunter battles rival promotion dealing family crisis threatens derail career',\n",
              " \"m'dear sisters struggle keep singing act together church christmas pageant grandpa teaches kids valuable lesson\",\n",
              " 'timid man gets unexpected superpowers trying save family land sacred tree ruthless tycoon',\n",
              " 'gifted engineer flees austere roots pursue wealth success among copenhagen elite pride propelling threatens ruin',\n",
              " 'brief life full triumph failure national lampoon co-founder doug kenney built comedy empire molding pop culture 1970s',\n",
              " 'following fatal car crash man spirit remains stuck home shared wife doors past future begin open',\n",
              " 'girlfriend walks leaves wreck graphic designer seemed sets discover went wrong',\n",
              " 'familiar-looking stranger crashes without memory cory helps remember magic christmas save holiday everyone',\n",
              " 'cory chrissy freddie hunt king-sized candy bars halloween treats worth trek spooky side town',\n",
              " 'cory spending summer camp friendship best friend freddie jealousy flares freddie brings cousin rosie along ride',\n",
              " 'seemingly idyllic life begins crumble lonely woman restrictive marriage starts affair gentle bookstore owner',\n",
              " 'aardman animations icons wallace gromit morph join fans collaborators retrospective celebrating studio 40th anniversary',\n",
              " 'documentary dissects case filmmaker whose death along deaths wife daughter sparked alt-right conspiracy theories',\n",
              " 'spoof scary movies follows young couple settling new home evil spirit horrifyingly hilarious antics await',\n",
              " 'ghost serial killer aunt seemingly resurfaces jordan must return silver falls hopes finally putting end torment',\n",
              " 'long past heyday still-virile boxer tries reconnect daughter confronts onset terminal degenerative neural disorder',\n",
              " 'hilary plan hire good-looking guy act boyfriend backfires brings home holidays try fool family',\n",
              " 'neighbor blocks view city commercial billboard hong kong family resorts drastic imaginative measures take',\n",
              " 'yijuan mentally ill sister kaiqi struggle happy face misfortune criminal intrigue marital strife exorcism ghost',\n",
              " 'gifted athlete professional nba hooper coney island stephon marbury navigates pressures pitfalls peaks basketball journey',\n",
              " 'obsessed unsolved murder case crime novelist stuck unhappy marriage fantasizes killing wife soon turns dead',\n",
              " 'self-serving mythical creature bid invincibility backfires finds mercy woman see otherworldly beings',\n",
              " 'cop singapore investigates disappearance chinese migrant construction worker spent sleepless nights playing mysterious video game',\n",
              " 'documentary takes deep dive benefits dangers lingering questions around kratom leaf alternative opioid painkillers',\n",
              " 'juan manuel fangio formula one king winning five world championships early 1950s protective gear safety features used',\n",
              " 'five kids resilient families navigate treatments traumas pediatric cancer documentary filmed course six years',\n",
              " 'willful young woman hired design garden versailles louis xiv soon ensnared political romantic complications',\n",
              " 'comedy icon carol burnett returns tv panel clever kids help adults celebrity guests solve problems brutal honesty',\n",
              " 'shy college student knack drawing develops crush musically gifted classmate embarks journey self-discovery',\n",
              " 'love tough sweet lovestruck teenager whose relationship next-door neighbor transforms grow adulthood',\n",
              " 'killing latasha harlins became flashpoint 1992 la uprising documentary evocatively explores 15-year-old life dreams',\n",
              " 'self-made millionaire ian thinks found happiness marries caring joanna love put test meets stewardess karyn',\n",
              " 'raised america government agent choi kang-ta returns korea skills assassin thirst revenge father killers',\n",
              " 'fit anger leads serious injury sidelined soccer star returns hometown reluctantly agrees train local youth',\n",
              " 'young man struggles overbearing mother looking romance way kick-start show business career',\n",
              " 'overwhelmed mother illness young boy begins understand human complexity fantastic tales consoling tree monster',\n",
              " 'abel morales tries avoid corruption easy path pursues american dream amid increasingly violent business war 1981 new york city',\n",
              " 'documentary excoriates noted anti-death-penalty activist team whose questionable methods got convicted killer freed 1999',\n",
              " 'entrepreneurs worldwide explore alternatives current capitalist structures advocating profitable businesses also tackle social inequality',\n",
              " \"wedding nears bride-to-be visited angel reveals could 'd followed feelings childhood best friend\",\n",
              " 'run-in richard grieco dimwits doug steve gain entry swanky nightclub comedy based saturday night live sketch',\n",
              " '1888 amsterdam headstrong violin maker finds immersed peril tragedy challenging businessmen threaten community',\n",
              " 'guard catches writer-television host shoplifting instead turning asks friend begins rule life',\n",
              " 'docuseries investigates 1991 killing politician detlev rohwedder unsolved mystery heart germany tumultuous reunification',\n",
              " 'confessing unusual secret repressed wife prompted friends decides explore sexuality high-priced call girl',\n",
              " 'nina thinks husband james cheating sets prove calling pretending another woman',\n",
              " 'discovers world oceans brimming plastic waste documentary filmmaker investigates pollution environmental impacts',\n",
              " 'invitation relative young jules daly travels niece nephew castle europe jules falls dashing prince',\n",
              " 'gloria groove alexia twister make drag dreams come true help six artists find confidence stage makeover show',\n",
              " 'residents isolated town look revive home identity group foreigners unexpectedly arrive bringing culture shock',\n",
              " 'inspired variety shows 1970s russell peters christmas sweet silly sentimental funny christmas special',\n",
              " 'film school graduate interested making movie girlfriend uncle claims see long-dead daughter',\n",
              " 'following storybook wedding popoy basha find married life starting business together challenging ever imagined',\n",
              " 'amid shifting times two women kept decades-long love secret coming later life comes set challenges',\n",
              " 'amid impasse marriage father tehran beset bitter feud involving family pious caretaker hired aging dad',\n",
              " 'extraordinary baudelaire orphans face trials tribulations evil count olaf fateful quest unlock long-held family secrets',\n",
              " 'every aspect life unraveling jewish physics professor seeks three rabbis spiritual guidance',\n",
              " 'shaun flock race help adorable alien find way home ship crash-lands near mossy bottom farm sparks ufo frenzy',\n",
              " \"former class bully reaches deaf girl 'd tormented grade school feels unworthy redemption tries make things right\",\n",
              " 'stream-of-consciousness drama centers day life gay college professor reeling longtime lover recent death',\n",
              " 'argentine doctor faces legal ethical challenges travels countryside pick infant waiting adopt',\n",
              " 'ace news producer amy called back louisiana hometown memories used might come flooding back',\n",
              " 'reckless teens kill amish child prosecutor attempts bring youths justice despite condemnation faces community',\n",
              " \"bo thinks holiday gift-giving n't good enough heads north study santa claus find missing\",\n",
              " 'family reckons aftermath younger son incarceration greater misfortune follows',\n",
              " 'taipei doctor san francisco engineer swap homes daring pact embarking journeys filled trials secrets unexpected encounters',\n",
              " 'based memoirs author amos oz poetic drama shares family tale suffering survival early years independent israel',\n",
              " 'mexico city restaurant star gabriela cámara opens sister eatery cala san francisco similar menu unusually welcoming kitchen culture',\n",
              " 'philandering club promoter sets woo rich glamorous woman clue much mayhem unleash life',\n",
              " 'carry dad wish discover roots dai tian-qing embarks journey around taiwan finds love redemption way',\n",
              " 'learns karma permit speak thousand words dies fast-talking agent jack must make every syllable count',\n",
              " 'amid turmoil china civil war families kuomintang pilots face pain leaving homes find strength shared bonds',\n",
              " 'santa crash-lands junkyard christmas eve hank trash truck animal friends hand rescuing holiday everyone',\n",
              " 'newly engaged couple romantic vacation jamaica turns mischievous adventure tests union wild unexpected ways',\n",
              " 'facing drought hungry tiger noble cow extraordinary encounter fable based children book kannada folk song',\n",
              " 'future uruguayan president josé mujica fellow tupamaro political prisoners fight survive 12 years solitary confinement torture',\n",
              " 'unfulfilled country music star hides hometown meets budding interior designer finds way heart',\n",
              " 'bill murray rounds all-star cast evening music mischief barroom camaraderie irreverent twist holiday variety shows',\n",
              " 'height cold war 1960 andré merlaux joins french secret service contends enemies foreign bureaucratic',\n",
              " \"landing job working longtime crush optimistic woman realizes man dreams n't exactly envisioned\",\n",
              " 'bad boy landon cast opposite campus bookworm jamie high school play romance blooms tragedy threatens tear apart',\n",
              " 'receiving anonymous tip bomb police commissioner must negotiate terrorist demands release four militants',\n",
              " 'los angeles police officers embark innovative program mentoring promising students harsh gang-infested watts neighborhood',\n",
              " 'peculiar girl transforms cat catch crush attention realizes line human animal starts blur',\n",
              " \"beatrix ca n't wait inducted witch unfortunate incident threatens take pending title away n't act fast\",\n",
              " 'years father disappears meg younger brother charles wallace cross galaxies quest save heart darkness',\n",
              " 'two astronauts attempt brave life earth orbit record-setting mission see humans endurance survive flight mars',\n",
              " 'singapore homeless ex-convict hoping reunite family forms bond chinese sex worker serving bodyguard',\n",
              " 'wake jesus christ crucifixion apostles dedicate spreading message risking freedom lives',\n",
              " 'everything aiko knew lie joining team divers reach place burst began stop good save family',\n",
              " 'losing mother teenage girl bonds phone artificial intelligence app relationship soon takes dark violent turn',\n",
              " 'young motocross racer miles hill helps top-secret robotic combat dog evade ruthless creator military hot pursuit',\n",
              " 'series coincidences brings two star-crossed lovers together fate pulls apart encounter istanbul',\n",
              " 'shaji pappan gang goofy outlaws find low funds plan win hefty prize tug-of-war competition',\n",
              " 'cop full self-doubt loses gun five days due leave force becomes unexpected hero tries retrieve',\n",
              " 'conscientious politician helps elderly singer overcome obstacles placed path powerful bureaucracy',\n",
              " 'intrepid police inspector forced desk job must take matters hands ruthless criminals released technicality',\n",
              " 'aging father seeks help doctor journalist look son left 16 years ago learns surprising truths',\n",
              " \"high-tension thriller anonymous caller cell phone threatens harm man family n't carry every order\",\n",
              " 'man falls balcony investigator questions victim family determined uncover darker truth behind alleged accident',\n",
              " 'decision india supreme court establish caste-based reservations jobs education causes conflict teacher mentor',\n",
              " 'learns terminal cancer cynical gambler chronic smoker ditches fiancée snubs doctors checks nursing home die',\n",
              " 'raised kindly thief orphaned jimmy goes run goons falls love jyoti whose father indirectly caused parents deaths',\n",
              " 'municipal clerk literary ambitions stalks loan recovery officer decided base story central character',\n",
              " 'losing first child accident couple moves palatial home young daughter comes spell eerie spirit',\n",
              " 'big-hearted girl helps fuzzly friends live family hotel exploring feelings fixing mishaps embracing special quirks',\n",
              " 'losing seventh job row tv producer sci-fi buff travels back time 1980 employment prospects improve',\n",
              " 'accused cheating reality tv show dance troupe seeks redeem winning world hip-hop dance championship',\n",
              " 'thrown elite dance studio founded vishnu spirits rebound sees young street dancers prepping annual contest',\n",
              " 'following mysterious death parents young man finds enmeshed dark world drugs crime',\n",
              " 'true crime documentary family falls prey manipulative charms neighbor abducts adolescent daughter twice',\n",
              " 'inspired real events drama follows trucker jailed driving five ill-fated travelers across quetta officer taking case',\n",
              " 'due family pressure corporate man reluctantly marries woman village new home abruptly assumes different persona',\n",
              " 'led trio korean celebs multinational panel men engage usually lighthearted debates issues surround korea beyond',\n",
              " 'two small abominable snowmen flee mountain escape scientist trying capture end spending christmas human family',\n",
              " 'hip irresponsible londoner invents imaginary son starts attending single-parent meetings find available women',\n",
              " 'tim learns men family travel time change lives decides go back win woman dreams',\n",
              " 'step inside minds innovative designers variety disciplines learn design impacts every aspect life',\n",
              " 'cast quirky critters mother nature narrate funny science series peeks lives earth incredible animals',\n",
              " 'meeting untimely demise separate incidents cha min go se-yeon discover come back life new bodies recognize',\n",
              " 'disenfranchised 16-year-old girl connects older man internet brief one-sided affair descends obsession anorexia',\n",
              " 'three lifelong friends travel acapulco ostensibly one find lost love real reason behind trip holds surprises',\n",
              " 'contract killer skilled staging lethal accidents fears may victim strategy accomplice dies mysterious mishap',\n",
              " 'rejecting demands wealthy family young woman poses ordinary college student crosses paths stoic pop star school',\n",
              " 'young boy upset parents divorce becomes infatuated grandmother neighbor entrancing dancer watches window',\n",
              " 'black high school student sets sights national hockey league rising racial tensions community may jeopardize goals',\n",
              " 'american girl british lad fall love amid social political upheaval 1960s musical featuring songs beatles',\n",
              " 'elite squad navy seals tasked rescuing kidnapped cia agent lethal terrorist cell',\n",
              " 'two turkish agents sent new york city mission capture notorious terrorist known dejjal arabic antichrist',\n",
              " 'sick parents constant squabbling young man travels back time onset romance plans set marital bliss',\n",
              " 'devastated murder wife child formerly fast-talking lawyer takes vow silence trains mission revenge',\n",
              " 'future sister-in-law kidnapped human traffickers military veteran joins forces brothers world-weary cop rescue',\n",
              " 'future regeneration technology lets humans live indefinitely cop troubled young woman investigate strange wave youth suicides',\n",
              " 'near spanish town northern africa child takes painful journey father reconnects daughter coast guard guilt stricken',\n",
              " 'frenetic comic adam devine talks teen awkwardness celebrity encounters pitch perfect audition special hometown omaha',\n",
              " 'education fun funny comedian adam conover bursts misconceptions deconstructs topics leaves positive takeaways',\n",
              " 'heroes ice cream ladies adam sandler comedy special hits new songs jokes unexpected groundbreaking way',\n",
              " 'child abducted murdered john reve walsh fought raise national awareness problem missing children',\n",
              " 'chasing extreme challenges athletic daredevils test limits various environments giant waves snowy slopes around world',\n",
              " 'casino du liban lebanese actor comedian adel karam delivers earthy punchlines kissing norms colonoscopies porn star named rocco',\n",
              " 'fast-footed piglet named bunty becomes object desire rival criminals want swift swine profitable animal-racing schemes',\n",
              " 'trailblazing comic aditi mittal mixes topical stand-up frank talk single wearing thongs awkwardness indian movie ratings',\n",
              " 'lifelong friends roz lil fall love teenage sons must carry affairs relative secrecy',\n",
              " 'young couple sailing adventure becomes fight survive yacht faces catastrophic hurricane story based true events',\n",
              " 'family harmonious existence interrupted young son begins showing symptoms anxiety seem linked disturbing events home',\n",
              " 'order keep job biomedical engineering firm prizes youth middle-aged woman must submit drastic experimental procedure',\n",
              " 'years home-schooling awkward teen decides wants public high school experience overbearing mother struggles let go',\n",
              " 'dubai residents struggle figure fleet alien spaceships hovering city contact outside world cut',\n",
              " 'baffling symptoms controversial diagnoses costly treatments seven people chronic illnesses search answers relief',\n",
              " 'brazilian comedian afonso padilha dives humble beginnings digs hilarious stories childhood personal set',\n",
              " 'five-part nature series chronicles fascinating stories survival african continent home diverse animal life planet',\n",
              " 'docuseries spotlights afro-brazilian thinkers sharing individual journeys discussing representation entrepreneurship community',\n",
              " 'wholesome college freshman tessa young thinks knows wants life crosses paths complicated bad boy hardin scott',\n",
              " 'struggling come terms wife death writer newspaper adopts gruff new persona effort push away trying help',\n",
              " 'displaced hurricane maria three puerto rican women navigate families uncertain futures federal housing aid new york expires',\n",
              " 'documentary explores careers porn top stars examines adjustment normal society leaving adult entertainment',\n",
              " 'third installment documentary series examines lives adult film genre biggest stars industry careers ended',\n",
              " 'large immigration raid small town leaves emotional fallout hard questions churchgoers means love thy neighbor',\n",
              " 'tessa fell hard fast hardin betrayal tears apart must decide whether move trust second chance',\n",
              " 'air traffic controller mistake results tragic accident man lost wife daughter seeks answers man responsible',\n",
              " 'prep school loner films two classmates overdosing cocaine footage plays role emotional fallout within school community',\n",
              " 'american tourist friends partying chile major earthquake devastates area forces scramble survival',\n",
              " 'detective psychologist investigating string murders form crime-solving team novelist whose work inspired killings',\n",
              " 'dramatized depiction 11-day disappearance novelist agatha christie solving real murder amid crisis writing marriage',\n",
              " 'despite social backlash challenges come intergenerational romance couples choose stick together thick thin',\n",
              " 'amid thriving nightlife 1960s kuala lumpur three chinese friends showgirl housekeeper chanteuse find love heartbreak',\n",
              " 'high school group unruly teens wreak havoc face bullies navigate turbulent lives beyond school grounds',\n",
              " 'history military tanks unfolds documentary series traces role history geopolitics world war 21st century',\n",
              " 'former footballer tries make player agent world african soccer secret past threatens destroy everything',\n",
              " 'mix brilliance erudition skill enables modern sherlock holmes solve impossible cases tries heal personal wounds',\n",
              " 'frustrated thankless office job retsuko red panda copes daily struggles belting death metal karaoke work',\n",
              " 'retsuko desperately makes plans christmas eve new obsession seeking validation social media spirals control',\n",
              " 'boy grows become gangster pursuit mobster killed innocent father revenge reparation may come great costs',\n",
              " 'argentine comedian agustín radagast aristarán adds doses magic music acting high-energy stand-up routine',\n",
              " 'film crew shooting remote forested location begins losing members one one mysterious entity see hear',\n",
              " 'stood groom altar young woman finds help healing another man ex-fiancé returns hoping win back',\n",
              " 'chinese artist activist ai weiwei uses social media art inspire protests suffers government persecution actions',\n",
              " 'find love seven strangers leave japan embark journey continent africa together challenges adventure romance await',\n",
              " 'seven men women board pink bus search true love journey asia strangers goal return japan couple',\n",
              " 'celebrity chef ainsley harriott embarks journey around world explore relationship local street foods cultural identity',\n",
              " 'sensitive ainu teen searches spiritual connection recently deceased dad navigating indigenous identity changing world',\n",
              " 'ana influencer crashes car talking phone shipped grumpy grandfather farm forced digital detox',\n",
              " 'vacation parents away concrete urban existence young girl learns appreciate joys connecting nature',\n",
              " 'happily married business executive forced deal episode past long thought put behind',\n",
              " 'protégé goes rogue poses grave threat government serves veteran officer indian army tries stop costs',\n",
              " 'outspoken imaginative girl conservative family pursues dream man fending prospect arranged marriage',\n",
              " 'traveling across country run-down rv drag queen ruby red discovers unlikely sidekick aj tough-talking 10-year-old stowaway',\n",
              " 'young man obsession making others happy drives help girl loves marry someone else try win heart',\n",
              " 'upon returning home studies abroad young grad akif finds involved four women continuation series spain uoolss',\n",
              " 'teenager discovers ajin flees authorities experiment ajin plan fight back must choose side',\n",
              " 'small granddaughter sexually assaulted powerful man justice served poor frail old woman plots violent revenge',\n",
              " 'public spat movie star disgraced director retaliates kidnapping actor daughter filming search real time',\n",
              " 'tatsumi sets journey help poor village rescued band assassins joins fight corrupt government',\n",
              " 'battles wit fights justice emperor akbar trusty advisor birbal display unique bond adventures mughal-era india',\n",
              " 'little girl must enter orphanage parents arrested life takes dramatic turn escapes meets model',\n",
              " 'looking fresh start park ranger gets new assignment discovers network poachers survival depends lethal instincts',\n",
              " 'village lebanon-syria border head arms-smuggling clan contends family conflicts power struggles complicated love',\n",
              " 'growing enduring criticism father young man finds world shaken upon learning switched birth millionaire son',\n",
              " 'cope feelings inferiority woman impoverished family tells tall tales wealth influence upgrade social status',\n",
              " 'mexican comic alan saldaña fun everything pressure sitting exit row maxing credit card stand-up special',\n",
              " 'vacationing resort ornery outspoken man held captive criminal organization',\n",
              " 'tormented bullies aspiring drag star working alaskan cannery becomes skilled fighter tapped competition boxing coach',\n",
              " 'police investigate disappearance young man heads goa carry act vengeance fueled years pent-up anger toward society',\n",
              " 'magical horse transports fantasy world ruled evil general brave girl sets save land',\n",
              " 'colombian comedian alejandro riaño discusses perks dating she-wolf styles dancing quirks bogotá men soccer game announcers',\n",
              " 'retrospective look life career grammy-award winning spanish musician alejandro sanz',\n",
              " 'mourning father death dysfunctional trio siblings must face selling beloved childhood beach house dealing',\n",
              " 'comic alex fernández performs familiar autobiographical stories goes little deeper time tender tale one six siblings',\n",
              " 'high school senior alex truelove plan lose virginity lovable girlfriend claire goes awry meets equally lovable elliot',\n",
              " 'alexa battling cancer best friend katie side also starting high school ready whatever comes next',\n",
              " 'living alexandria world war ii egyptian teen enamored american films dreams making hollywood',\n",
              " 'peak career yehia joins hunger strike becomes smitten reckons creative crisis finds new muse',\n",
              " 'shot robbery colombia losing sensation legs uruguayan soccer star alexis viera finds new sense purpose',\n",
              " 'drugs addiction endanger love lives two childhood sweethearts struggling survive perils precarious world',\n",
              " 'garden gnome vendor brother-in-law attend trade fair sofia accidentally stumble shenanigans involving mafia boss',\n",
              " 'ali wong stand special delves sexual adventures hoarding rocky road pregnancy feminism terrible',\n",
              " 'two years hit baby cobra ali wong back another baby bump torrent hilarious truths marriage motherhood',\n",
              " 'telling white lie spins control son iraqi-born cleric melbourne becomes torn family duty heart',\n",
              " '19th-century canada psychiatrist weighs whether murderess pardoned due insanity based margaret atwood award-winning novel',\n",
              " 'witnesses public figures respond controversial claims pablo escobar made medellín cartel sole survivor john jairo velásquez',\n",
              " 'simple village man thrown web political intrigue takes powerful ruthless gang bandits',\n",
              " 'widowed singer single mother starts diner waitress arizona befriending coworkers romancing ruggedly handsome rancher',\n",
              " \"aimless gamer two friends find parallel tokyo 're forced compete series sadistic games survive\",\n",
              " 'small town trans teen vibrant personality shakes high school conservative ways trying secure first kiss',\n",
              " 'fact-based account delves humankind efforts gather signals possible intelligent beings beyond solar system',\n",
              " 'alien reporters ixbee pixbee squee travel lovely odd planet called earth attempt make sense humans hobbies',\n",
              " 'u.s. navy seal team tackles top-secret mission research center scientists mysteriously disappeared another life form awaits',\n",
              " 'applying laws life earth rest galaxy series blends science fact fiction imagine alien life planets',\n",
              " 'young elf mistakes tiny alien christmas gift knowing new plaything plans destroy earth gravity steal presents',\n",
              " 'tiny alien lawmen fly rod bedroom recruit helping stop intergalactic criminal disguised familiar human',\n",
              " 'take inside look swing dancing continued prosperity lively joyous personalities make art form unique',\n",
              " 'inseparable couple struggles stay together betrayal threatens tear lives apart',\n",
              " 'fearless provocation fueled stand-up comic nina geld career move la new love take new levels honesty',\n",
              " 'hip-hop icon mc joe speed retires showbiz finds new rhythm balancing business romance everyday family chaos',\n",
              " 'culture clashes brewing rivalries test teen football player south los angeles recruited beverly hills high school team',\n",
              " 'falling guest unsuspecting hotel staff becomes embroiled hostage scheme discovers true love unlikely place',\n",
              " 'serving life prison young man looks back people circumstances system set path toward crime',\n",
              " 'canine con artist becomes angel sneaks back earth crosses paths orphan girl speak animals',\n",
              " 'penniless country boy goes search runaway sister bogotá falls aspiring singer gets tangled organized crime',\n",
              " 'mysterious figure blackmails adulterous couple romantic getaway secret affair turns fight survival',\n",
              " 'emmy winner outstanding children animated program madagascar booty-shaker king julien takes jungle craziest adventures',\n",
              " 'julien dethroned loyal friends unlikely allies propel lovable lemur colorful journey take back kingdom',\n",
              " 'instead summoning spirit dearly departed mother charming teen accidentally awakens vengeful witch wants destroy town',\n",
              " 'starting family america gay filmmaker documents loving traditional chinese family process acceptance',\n",
              " 'horror novelist traumatic past returns childhood hometown revisits night terrors loses sight reality',\n",
              " 'two strangers meet dating app experience instant chemistry relationship unravels jarring differences catch',\n",
              " 'weekend excursion secluded ranch unwelcome visitor begins picking randy admirers teenage temptress mandy lane',\n",
              " 'two teens facing personal struggles form powerful bond embark cathartic journey chronicling wonders indiana',\n",
              " 'battle-scarred special ops military vet joins cia-funded assignment take russian terrorist trigger-happy comrades',\n",
              " 'thirteen-year-old josé miguel immune 1994 world cup fever realizes soccer way win heart crush',\n",
              " 'brazilian man tries myriad ways get breakup girlfriend surprised learn difficult anticipated',\n",
              " 'optimistic talented teen clings huge secret homeless living bus tragedy strikes learn accept helping hand',\n",
              " 'bound family rule forbids marrying stubborn sister gets hitched bachelor enlists help love guru woo',\n",
              " 'woman sexually assaulted new boss brother-in-law tries move nothing happened night weighs heavily mind body',\n",
              " 'series birthdays happy-go-lucky commitment-averse fashion designer strives bring bit calm chaotic love life',\n",
              " 'sebastián radio show host modest fame trying find way world deals ex-wife still loves two kids',\n",
              " 'close crew striving new yorkers experiences joy heartache romantic professional lives',\n",
              " 'equipped limited resources isolated group individuals subjected harsh conditions wilderness must survive tap',\n",
              " 'learning son death battlefield grieving berlin couple embark quietly dangerous act resistance adolf hitler',\n",
              " 'eight years breakup college sweethearts christine raf reconnect different points lives feelings past resurface',\n",
              " 'girl kidnapped prestigious prep school homicide detective takes case teaming young security agent',\n",
              " 'animated outdoor adventure wolf couple humphrey kate face crisis one three cubs disappears without explanation',\n",
              " 'wolf pup named runt sneaks explore mysterious cave meets befriends wolf driven pack blind',\n",
              " 'letters alphabet come life alphaland read write spell way exciting world phonic fun',\n",
              " 'seemingly simple deceptively complex game go serves backdrop battle artificial intelligence man',\n",
              " 'documentary follows white power leader antifa activist leading charlottesville riots first year trump presidency',\n",
              " '250 years ice prisoner returns life new body one chance win freedom solving mind-bending murder',\n",
              " 'planet latimer takeshi kovacs must protect tattooist investigating death yakuza boss alongside no-nonsense ctac',\n",
              " 'never married always weddings copy editor finally dives dating pool wonders love story involves staying single forever',\n",
              " 'young 17th-century witch time travels future save man loves first must adjust present-day cartagena defeat dark rival',\n",
              " 'unexpectedly dumped respective lovers man woman chance meeting resort embark unique relationship',\n",
              " 'twice convicted acquitted murder amanda knox people closest case speak illuminating documentary',\n",
              " 'documentary recounts fascinating little-known role music played struggle eradicate apartheid south africa',\n",
              " 'young laura carlos experience intensity fragility first love life realities gradually tarnish idealized notions romance',\n",
              " 'brotherly bond three childhood friends one sikh one muslim one catholic tested often comic absurdities adulthood',\n",
              " \"abandoned park father amar akbar anthony grow independently knowledge one another 're reunited adults coincidence give blood hospital\",\n",
              " 'fulfill husband dream build home widow sends five children earn money cairo poverty tests every turn',\n",
              " 'recruited elite prep school 14-year-old basketball phenom confronted corruption greed amateur sports',\n",
              " 'meet eccentric homeowners whose seemingly ordinary spaces full surprises backyard roller coaster indoor aquarium',\n",
              " 'eight decades disappearance amelia earhart incredible accomplishments still celebrated thanks large part sister muriel',\n",
              " 'engaging documentary series shares surprising backstories familiar institutions like pentagon west point playboy mansion',\n",
              " 'supermodel tyra banks created executive-produced reality series chronicles transformation young women potential supermodels',\n",
              " 'documentary profiles william powell wrote anarchist cookbook early 1970s spent later life regretting actions',\n",
              " 'grad student mitch rapp suffers tragic loss terrorist attack single-minded thirst vengeance catches interest cia',\n",
              " 'struggling endure tightly wound wife unfulfilling job surly teen man becomes obsessed one daughter friends',\n",
              " 'interviews experts sides debate film questions routine practice non-religious infant circumcision u.s',\n",
              " 'anthology series unfolds different story arc season dramas focusing aspects american life criminal justice system',\n",
              " 'anthology series dramatizes historic criminal cases u.s. including o.j simpson trial andrew cunanan 1997 murder spree',\n",
              " 'botched attempt arrest white supremacist idaho results gun battle standoff three deaths galvanize public opinion 1992',\n",
              " 'exploration american circus spectacle evolved one-ring show cultural event eventually dying breed',\n",
              " '1931 young navy wife tore apart hawaii racial lines claiming raped gang nonwhite islanders',\n",
              " 'documentary hopes soar chinese company reopens shuttered factory ohio culture clash threatens shatter american dream',\n",
              " 'barack michelle obama talk directors steven bognar julia reichert documentary importance storytelling',\n",
              " 'judge kidnapping streamed live social media vengeful loner puts trial supposedly sending innocent man death',\n",
              " 'ex-con getting life back track older brother released prison drags underworld one final heist',\n",
              " 'neo-nazi gets sent prison murder comes changed man prevent younger brother following footsteps',\n",
              " 'teenage girl leaves dull life oklahoma join raucous band travelling magazine sellers alcohol- drug- sex-filled road trip',\n",
              " 'twisted emmy-winning drama plays upon power supernatural fears everyday horrors exploring humankind unsettling capacity evil',\n",
              " 'baseball legend ted williams fights become greatest hitter time battles family teammates press even fans',\n",
              " 'using raw firsthand footage documentary examines disappearance shanann watts children terrible events followed',\n",
              " 'elite soldier corporate lawyer political activist uncover deadly conspiracy linking terrorists powerful american corporation',\n",
              " 'four tight-knit high school seniors vow turn love lives around homecoming arrival new student muddles plans',\n",
              " 'chiseled good looks belie insanity businessman takes pathological pride yuppie pursuits indulges sudden homicidal urges',\n",
              " 'time passes tension mounts florida police station estranged interracial couple awaits news missing teenage son',\n",
              " 'high school rocked act vandalism top suspect pleads innocence finds ally filmmaker satirical true crime mystery',\n",
              " 'navy seal haunted wartime memories tries rebuild life home even one last mission threatens unravel everything',\n",
              " 'death romance marriage injustices modern-day parenting amit tandon shares wisdom wisecracks battle-scarred family guy',\n",
              " 'despite philippine government crackdown narcotics high schooler joseph expands drug running cop uncle profits corruption',\n",
              " 'amid marital crisis fikret befriends songstress solmaz wacky encounter must fill father soon-to-wed daughter',\n",
              " 'age buddha philosophy nonviolence warmonger king plots destruction enemy kingdom rescue woman loves',\n",
              " 'rare home videos interviews amy winehouse inner circle offer intimate look journey charismatic teen troubled star',\n",
              " 'amy schumer spills new marriage personal growth making baby mom misguided advice special raunchy sincere',\n",
              " 'comic sensation amy schumer riffs sex dating absurdities fame bold uncensored stand-up set denver bellco theater',\n",
              " 'extensive film clips interviews tell story american filmmaker ellis r. dungan spent 15 years india helped define tamil cinema',\n",
              " 'fievel young russian mouse immigrates america must make way strange sometimes perilous new world',\n",
              " 'fievel family head west turns wild adventure deep cowboy country intrepid mouse faces nasty feline',\n",
              " 'monster goes mouse-napping spree new york fievel friends help reporter get bottom mystery',\n",
              " 'fievel friends go hunting buried treasure beneath ruins old subway tunnel stumble onto something surprising',\n",
              " 'teen girl drawn cousin hedonistic lifestyle spend summer together cannes learns values',\n",
              " 'undergoing heart surgery london yehia reflects life heart chamber becomes courtroom tried mistakes',\n",
              " \"unhappily married woman discovers man past role local theater production 'll anything reconnect\",\n",
              " 'based 2002 el ayyat train accident drama begins 90 minutes explosion following lives riders third-class cars',\n",
              " 'haunted nightmare involving abusive ex-boyfriend actress begins question reality whether incident took place',\n",
              " 'raised three mothers self-assured teen turmoil meets father figure never also stands drive man son apart',\n",
              " 'assignment war zone journalist trying put life back together granted interview someone claiming god',\n",
              " 'war criminal hiding begins suspect maid confidant contact outside world may hiding something',\n",
              " 'accountant aspiring magician invites boss spend christmas family unaware one colombia most-wanted criminals',\n",
              " 'eager settle abdullah searches right woman marry one truly longs may feel way',\n",
              " 'meeting chance two young musicians differing views love life record album drastically alters lives',\n",
              " 'woman scours hyderabad missing husband becomes entangled conspiracy suggests mystery meets eye',\n",
              " 'sexually harassed drunken politician performing public event village dancer plots revenge clear name',\n",
              " 'kat eva happy romance hits rough patch eva decides wants child visiting friend roger could help complete family',\n",
              " 'nigerian couple living u.s. face agonizing fallout defy deportation orders hopes giving unborn child citizenship',\n",
              " 'ancient humans really behind important technological advances civilized history extraterrestrial help',\n",
              " 'icelandic single mom struggling poverty guinea-bissauan asylum seeker facing deportation find lives intertwined unexpected ways',\n",
              " 'aiming fame struggling singer finds long-lost millionaire twin falls brother secretary plot brews steal fortune',\n",
              " 'broke concrete plans future two young men discover stunning heiress lives nearby try charm marriage',\n",
              " 'visually impaired pianist world careens series shocking twists unintentionally lands murder scene former film star',\n",
              " 'blind librarian dispirited cricketer desolate psychiatrist seek retribution release lives overlap eerie influences',\n",
              " 'blind librarian dispirited cricketer desolate psychiatrist seek retribution release lives overlap eerie influences',\n",
              " 'prepares close restaurant michelin-starred chef andré chiang embarks personal emotional journey reflection',\n",
              " 'inscrutable incomparable famed french footballer nicolas anelka controversial legacy explored in-depth documentary',\n",
              " 'popular professor attacked new york street story series intertwined events led life-altering assault unfolds',\n",
              " 'growing amidst gang wars hometown vincent forms entrepreneurial squad ends wrong side law',\n",
              " 'world known copper dimension group high-school girls fights dark forces inner demons',\n",
              " 'high school way station afterlife teenager gets caught battle rights purgatorial world',\n",
              " 'violent assault leaves vulnerable streetwise chicago cop receives help haunted loner struggling traumas',\n",
              " 'secret service agent mike banning caught crossfire framed deadly attack president forced run life',\n",
              " 'trip church family christmas eve gives young angela extraordinary idea heartwarming tale based story frank mccourt',\n",
              " 'father working far away australia determined angela makes plan heartfelt wish reunite family time holidays',\n",
              " 'harvard symbologist races uncover clues help stop attack vatican secret society looking retaliate old persecutions',\n",
              " 'gentle businessman forced get anger management counseling therapist moves turns anger issues',\n",
              " 'birds red chuck feathered friends lots adventures guarding eggs nest pesky pigs keep trying steal',\n",
              " 'photographer invites close-knit group female pals goa home announce engagement stirs riot emotion',\n",
              " 'growing enduring criticism father young man finds world shaken upon learning switched birth millionaire son',\n",
              " 'singular career personal demons biopic chronicles short yet prolific life marathi dentist-turned-superstar',\n",
              " 'short musical film directed paul thomas anderson thom yorke radiohead stars mind-bending visual piece best played loud',\n",
              " \"enchanted animal crackers turn owen whatever shape eats save family circus 'll keep evil uncle hands\",\n",
              " 'unlucky debt-ridden teen resorts math skills forced deadly tournament rock-paper-scissors run diabolical host',\n",
              " 'teen eerie visions become increasingly frequent terrifying longtime friend gets girlfriend abusive dad strangely killed',\n",
              " 'intimate documentary brazilian pop queen anitta opens fame family fierce work ethic revealing woman behind hits',\n",
              " 'mild-mannered krishna comes mumbai search gang-leader brother quickly finds way head',\n",
              " 'spine-chilling stories malevolent spirits unfold villages jungles haunted buildings across india',\n",
              " 'cases supernatural police officers human together cops aditi vikrant must solve mysteries realm paranormal',\n",
              " 'actress comedian youtube sensation riffs everything nail salons gypsies mexican moms super-sleuthing liam neeson',\n",
              " 'distressing incident delhi man vows believe see new ideals soon take life extreme directions',\n",
              " 'young medical intern sets fight justice negligence surgeon looked ends tragedy',\n",
              " 'vacationing picturesque nantucket crafty teenage mystery writer contends two thieves tries solve ghostly conundrum',\n",
              " 'plucky orphan whose passions run deep finds unlikely home spinster soft-spoken bachelor brother based anne green gables',\n",
              " 'teen haunted spirit old friend summons members childhood club help fulfill girl final wish',\n",
              " 'future technology rendered privacy obsolete detective investigates serial assassin deleted visual records',\n",
              " 'overtaken death beloved grieving woman decides take spontaneous trip visit friend get life back track',\n",
              " 'massive alien artifact lands earth niko breckinridge leads interstellar mission track source make first contact',\n",
              " 'sound director suddenly starts getting visions someone else future gets mired lives two women happen share name',\n",
              " 'angel falls earth investigate humans fewer good deeds falls hard-charging crime reporter news team',\n",
              " 'problems big small pop scott lang aka ant-man gets drafted dr. hank pym hope van dyne aka wasp urgent rescue mission',\n",
              " 'learning grandson famous knight young man hilariously fights rival gang win beautiful woman tribe',\n",
              " 'space villains abducted superheroes bheem trusty team save others',\n",
              " \"forging comedic boundaries anthony jeselnik revels getting away saying things others ca n't stand-up special shot new york\",\n",
              " 'subject dark comedian skewers taboos riffs national tragedies pulling back curtain provocative style',\n",
              " 'forger uses fake identity trying retrieve stolen diamonds buried penitentiary unaware mob assassin trail phony alias',\n",
              " 'tough-as-nails treasure hunter protects humanitarian doctor tries cure supernatural disease caused mysterious witch',\n",
              " 'heart determination antoine griezmann overcame small stature become one world top soccer players world cup champion',\n",
              " 'seeking refuge hindu temple tragic death girl loved muslim youth caught police mistake enemy',\n",
              " 'hailing mountains iga kanzo hattori moves elementary school student kenichi mitsuba family hone skills ninja',\n",
              " 'recovered cockpit footage telling interviews reveal true stories us fighter pilots one largest combat strikes history',\n",
              " 'gritty dramatization life carlos tevez shows rise soccer stardom amid harrowing conditions argentina fuerte apache',\n",
              " 'young journalist forced life crime save father family series based novel miguel sáez carral',\n",
              " 'raised condescending eye activist father underachieving loafer lured local kingpin web corruption kidnapping',\n",
              " 'visionary carmaker introduces fuel-efficient high-performance hypercar market filled big-name competitors like ferrari porsche',\n",
              " \"sci-fi thriller suggests apollo 17 despite official statements contrary n't nasa last manned mission moon\",\n",
              " '1905 drifter dangerous mission rescue kidnapped sister tangles sinister religious cult isolated island',\n",
              " 'world top scientists disappear orphaned april secretly forges ahead family experiment gets tangled vast conspiracy',\n",
              " 'amid turmoil 1960s la two cops prominent political family drawn sex- drug-fueled web young charles manson',\n",
              " 'futuristic france tries keep people despair rebellion crippling poverty engaging violent tv competition show',\n",
              " 'newly orphaned aram leaves beirut live grandfather los angeles overwhelmed culture shock falls prey armenian gang',\n",
              " 'colombian stand-up comedians antonio sanint julián arango impersonate argentine visitor cabbie pair dirty old men opera',\n",
              " 'twenty years debut join beloved members arashi new journey showcase lives talents gifts world',\n",
              " 'happy-go-lucky chicken archibald may remember chores never forgets fun life adventure',\n",
              " 'stumbles upon evil otto von walrus scheme melt arctic ambitious delivery fox swifty assembles ragtag crew protect planet',\n",
              " 'madly love brilliant scientist studying immunizing protein produced penguins timid med student offers body research',\n",
              " 'authorities arrest young son taxi driver must convince courts rabid media criminal seek',\n",
              " 'determined dating algorithm group single contestants must identify perfect matches shot love cash prize',\n",
              " 'aiming become part amsterdam elite ambitious college student joins exclusive society unaware hiding horrifying secret',\n",
              " 'world filled provocative often misleading news passionate team investigative tv reporters strives bring truths light',\n",
              " 'english-language special icelandic comedian ari eldjárn pokes fun nordic rivalries hollywood take thor whims toddlers',\n",
              " 'wry yet thoughtful comedian ari shaffir brings edgy humor two fast-paced stand-up specials children adulthood',\n",
              " 'ariana grande takes stage london sweetener world tour shares behind-the-scenes look life rehearsal road',\n",
              " 'group friends reunites vacation amid nature laugh shared history bond difficult truths',\n",
              " 'animated retelling classic indian tale prince arjun part sanskrit epic mahabharata begins prince youth',\n",
              " 'trapped lab stuck time loop disoriented couple fends masked raiders harboring new energy source could save humanity',\n",
              " 'emmy-winning story wealthy family lost everything one son choice keep together',\n",
              " 'based dc comics green arrow affluent playboy becomes vengeful superhero saving city villains armed bow arrows',\n",
              " 'first stand-up special arsenio hall discusses getting older changing times culture social issues even bothersome baby toes',\n",
              " 'mythical land called arth inhabitants ancient city arthdal surrounding regions vie power build new society',\n",
              " 'russell brand stars remake philanderer must decide whether give inheritance millions sake romance',\n",
              " 'santa claus super-secret toy-making facility mr. claus entrusts son arthur carry ultra-important christmas mission',\n",
              " 'grim realities caste discrimination come light entitled upright city cop ventures india heartland investigate murder',\n",
              " 'epidemiologist turns nationwide bird flu investigation chance sample local delicacies en route three friends along ride',\n",
              " 'beautiful tomb raider crew hunt treasure catacombs paris find hellish underworld',\n",
              " 'structured world sour obsessive-compulsive author crumbles drawn lives stressed-out single mom gay neighbor',\n",
              " 'entangling lives movie star chauffeur prostitute pimp bold drama reveals ugly truths beneath mumbai glitzy veneer',\n",
              " 'dispute breaks five siblings mother property one devoted son go lengths protect land',\n",
              " 'thirty years later ash williams demon hunter par excellence back battle new deadite plague may lost hand touch',\n",
              " 'hidden away mother floral goddess naïve jinmi drawn xufeng heavenly emperor son yet forces conspire',\n",
              " 'allergies diet sleep three friendly doctors share expert advice bust medical myths test latest treatments',\n",
              " 'five curious little creatures track answers kids biggest questions like night happens need brush teeth',\n",
              " 'elaborate bollywood epic dramatizes one man transformation vengeful cunning warrior legendary leader teacher buddhism',\n",
              " 'comedy troupe four friends autism spectrum prepares final show members go separate ways',\n",
              " 'brakes slam wedding roy accepts challenge new foe race runaway bride iconic nürburgring track germany',\n",
              " 'group friends making web series hometown realize boring thought neighbors start behaving strangely',\n",
              " 'unique individual perspectives converge unified voice sketch comedy group astronomy club delivers smart absurd brand humor',\n",
              " 'win heart true love high-society girl hapless commoner plots change identity avoid embarrassing friends',\n",
              " 'tech-savvy thief elaborate robberies evading police second nature private detective hired investigate latest heist',\n",
              " 'caught corrupt mayor prosecutor intent exposing political depravity police detective must decide whose side',\n",
              " 'revealing documentary explores high-stakes world amateur athletic union basketball professionalized youth sports america',\n",
              " 'mysterious lights imbue extraordinary powers teenager goes run authorities friend harbors crush',\n",
              " 'encountering long separation two childhood friends orphanage must overcome great odds fulfill old promise find love',\n",
              " \"young fabric geek lands job upscale japanese lingerie company quickly discovers 'll need help survive\",\n",
              " 'documentary focuses gymnasts survived usa gymnastics doctor larry nassar abuse reporters exposed usag toxic culture',\n",
              " 'arranged marry rich man young ada crushed true love goes missing sea migration attempt miracle reunites',\n",
              " 'world economy dire straits corporate protagonist dagny taggart searches solution amid rubble long-abandoned factory',\n",
              " 'broken atm dishes fortune couple works bank vies see recover cash loser must find new job',\n",
              " 'captain atomic superhero sock puppet activate powers help joey new partner biggest fan',\n",
              " 'hometown ruins young eren yeager becomes determined fight back giant titans threaten destroy human race',\n",
              " 'intrepid newspaper editor harold evans wages ongoing battle expose truth dangerous drug obtain compensation victims',\n",
              " 'four high school seniors steal important college entrance exam go vacation study accidentally lose exam partying',\n",
              " 'teen autism spectrum decides get girlfriend bid independence puts whole family path self-discovery',\n",
              " 'wrenching documentary two teens sexually assaulted boys considered friends humiliated online harassed communities',\n",
              " 'comedy trio aunty donna showcase uniquely absurd offbeat style array sketches songs eclectic characters',\n",
              " '42-year-old viorel distraught engineer takes drastic measures end emotional suffering enduring devastating divorce',\n",
              " 'newly released kgb files expose evidence proving architects engineers conspired nazis build camp designed genocide',\n",
              " 'three teams gold hunters battle manner challenges pursuing dreams australian outback',\n",
              " 'world shagadelic spy continues fight diabolical dr. evil teamed new foe 1970s villain goldmember',\n",
              " 'swingin fashion photographer day groovy british secret agent night superspy austin powers must foil sinister schemes dr. evil',\n",
              " \"diabolical genius dr. evil travels back time steal superspy austin powers mojo austin must return swingin '60s\",\n",
              " 'production crew thinks making documentary humble mumbai rickshaw driver unmasks horrifying truth film subject',\n",
              " 'dystopian future insurance adjuster tech company investigates robot killed violating protocol discovers global conspiracy',\n",
              " 'losing memories past wealthy lawyer travels rural village woman loved lives son',\n",
              " 'elite assassin wrestling doubts work scrambles protect estranged family hit goes dangerously wrong',\n",
              " 'siblings katara sokka wake young aang long hibernation learn avatar whose air-bending powers defeat evil fire nation',\n",
              " 'devoted nun cares elder sisters must choose upholding vows pursuing forbidden feelings fascinating pastor',\n",
              " 'betrayed loan shark brother hardened convict escapes prison furlough exact revenge people made killer',\n",
              " 'superheroes amass stop intergalactic sociopath thanos acquiring full set infinity stones wiping half life universe',\n",
              " 'follow meteoric rise tim bergling aka avicii swedish teenager creative force behind wake make hits',\n",
              " 'family tense reunion turns terrifying get trapped home unknown force sinister commands begin appearing tv',\n",
              " 'accident leaves recollection man becomes prime suspect search serial killer targeting young women',\n",
              " 'sleepless 24 hours contestants comedy game show stumble challenges eccentric everyday chance million prize',\n",
              " 'commander emma green leaves behind husband daughter lead international crew astronauts perilous three-year mission mars',\n",
              " 'high-achieving 11-year-old student embarks journey self-discovery school nearby island grapples tensions home',\n",
              " 'disparate characters including aspiring time traveler phony chef drug-addicted waitress several others share surprising connection',\n",
              " 'delhi friends northeast india prepare pungent delicacy wedding party sparking conflict comedy unaccustomed neighbors',\n",
              " 'carefree bachelor days behind young entrepreneur ambitions adulthood come painful personal professional decisions',\n",
              " 'delving disappearance 43 college students mexico documentary seeks give justice voice victims families',\n",
              " 'sent away evade arranged marriage 14-year-old begins harrowing journey sex work poverty slums accra',\n",
              " 'biopic traces tumultuous life career top cricket player mohammad azharuddin led india national team 1990s',\n",
              " 'stand-up comedian tv star aziz ansari parks recreation delivers sharp-witted take immigrants relationships food industry',\n",
              " 'parks recreation star aziz ansari takes stage share unfiltered views adulthood babies marriage love modern era',\n",
              " 'comedy special directed spike jonze aziz ansari shares deep personal insights hilarious takes wokeness family social climate',\n",
              " 'genius investigator keith flick rejoins royal police force serial killer emerges mysterious youth koku may ally target',\n",
              " 'orphaned loose ends young mukesh falls seductive orbit married sarika leads ever deeper world sex betrayal',\n",
              " 'young woman eager avoid arranged marriage moves mumbai learns hard truths show business life love',\n",
              " '1975 government-declared emergency thief bhawani crew plan daring robbery reclaim royal lover seized treasures',\n",
              " 'martial artist faces biggest test travel bangkok rescue woman loves clutches romantic rival',\n",
              " 'avenge father death young man leads army battle cruel tyrant hindi conclusion historic saga',\n",
              " 'avenge father death young man leads army battle cruel tyrant malayalam conclusion historic saga',\n",
              " 'avenge father death young man leads army battle cruel tyrant tamil conclusion historic saga',\n",
              " 'villagers kingdom mahismati rescue baby destined embark heroic quest english version s.s. rajamouli epic',\n",
              " 'villagers kingdom mahismati rescue baby destined embark heroic quest hindi version s.s. rajamouli epic',\n",
              " 'villagers kingdom mahismati rescue baby destined embark heroic quest malayalam version s.s. rajamouli epic',\n",
              " 'villagers kingdom mahismati rescue baby destined embark heroic quest tamil version s.s. rajamouli epic',\n",
              " 'wide-eyed graduate learns ugly side ambition joins dubious business practices idol ruthless mumbai stock tycoon',\n",
              " 'following turkey bloody coup 1980 widowed reporter returns aegean hometown bringing son last wish estranged father',\n",
              " 'facing pressure marry immediately unemployed man must find way pay wedding means necessary',\n",
              " 'american couple vacationing morocco falls victim random act violence series events unfolds across four countries',\n",
              " 'nature nurture docuseries explores groundbreaking science reveals infants discover life first year',\n",
              " 'fed families classmates two teen girls wealthy part rome drawn city underworld start leading double lives',\n",
              " 'step cutthroat world kids ballroom dancing ambitious instructors proud parents pint-sized performers waltz win',\n",
              " 'two sisters travel canada punjab visit maternal family discover opportunity mend broken bond grandmother',\n",
              " 'surprise news relationship blues four coworkers different stages motherhood unite support struggles men',\n",
              " 'soviet freight train hijacking leads haunted cop poor typist uncover political conspiracy amid vice glamour 1929 berlin',\n",
              " 'intimate interviews documentary explores stigma facing independent women seek housing modern mumbai',\n",
              " 'car breaks en route são paulo father son accept ride four beautiful telemarketers headed holiday',\n",
              " 'american science geek ready spend summer sea accidentally ends australian soccer academy forced kick locals',\n",
              " 'pay epic blunder three yakuza brothers forced alter bodies form girl group break underground j-pop idol scene',\n",
              " 'young man learned nothing father single mom freak accident sends back 1989 year born',\n",
              " 'eager flaunt success front old bullies teenage crushes two best friends spend wild night middle school reunion',\n",
              " 'teenager transported back parents high school days chance alter events led unhappy marriage',\n",
              " 'new beginnings old baggage four singles one chance reignite romance ex leave past behind good',\n",
              " 'weekend hike urbanites alex jenn takes dangerous turn become lost deep remote territory menacing bear',\n",
              " 'sequel 1991 film determined fire investigator recruits imprisoned arsonist help untangle web fire murder corruption',\n",
              " 'two would-be robbers accidentally kill made man find run south philly italian mob',\n",
              " 'haunted visions dead psychologist peter returns home confront long-ago trauma trip exorcise embolden ghosts',\n",
              " 'sprawling crime drama follows true story rizzuto family associates presided organized crime montreal decades',\n",
              " 'investigative docuseries explores greed fraud corruption built ultimately brought india infamous tycoons',\n",
              " 'fast-paced actioner two miami narcotics cops hot trail master crook snatched 100 million worth heroin',\n",
              " 'hyperkinetic sequel pair miami narcotics cops investigate cuban drug kingpin connection florida influx ecstasy',\n",
              " 'mild-mannered middle-aged irish farmer devoted mother embarks violent quest revenge murdered home invasion',\n",
              " 'history teacher posh abbey grove alfie wickers something truly special school england single worst educator',\n",
              " 'top student gets pulled cheating racket increasingly higher risks even higher rewards may lose much gains',\n",
              " 'geriatric antics irving zisman continue next installment jackass franchise features unused footage first film',\n",
              " 'reinstated eradicate worst crimes city detective requests release three convicts enlist help catching felons',\n",
              " 'ordered take villainous business leader controls city prosecutor gathers team men may clean',\n",
              " \"player uses internet facilitate womanizing ways tormented spurns persistent woman wo n't take answer\",\n",
              " 'four young asian-american rappers strive achieve success terms musical genre often treats outsiders',\n",
              " 'troubled past scam artist runs petty racket adoptive mom finds redemption mentoring group difficult students',\n",
              " 'man killed wife lover pregnant children come thumb brutal dictatorial father',\n",
              " 'young woman suspected practicing black magic witchcraft demonized forced live apart family',\n",
              " 'woman accused killing lover renowned lawyer hired try untangle truth convoluted becomes',\n",
              " 'detective license kill roams old west wrangle confederate war criminals meets pioneer woman throws journey track',\n",
              " 'couples go romantic getaway test relationships knowing families calling shots cringing every move',\n",
              " 'martial arts champion baki hanma trains hard surpass legendary father five violent death row inmates descend upon tokyo take',\n",
              " 'dan kouzo crew heroic brawlers battle challengers powerful evil forces work protect humans bakugan',\n",
              " 'dan kouzo pals bond mysterious creatures known bakugan fighting sinister forces control world',\n",
              " 'watch ganesh destroy demons disarm invaders defeat dacoits series based mythological hindu elephant god childhood',\n",
              " 'veteran journalist starting news site corruption chile stumbles big story fellow investigative reporter dies suspiciously',\n",
              " 'balto half wolf half dog endures taunts disapproving humans guides precious cargo medicine alaskan winter',\n",
              " 'half-dog half-wolf balto voiced maurice lamarche wife proudly put pups adoption humans nobody takes daughter aleu looks much like wolf runs away search place world',\n",
              " 'pilot challenges balto son kodi sled team see deliver mail faster dogs race rescue plane vanishes',\n",
              " 'determined stop ex-girlfriend marrying young man crashes wrong wedding meets bride looking run away',\n",
              " 'minibus driver riza steady presence close-knit neighborhood brings home dreamy beauty throws everything chaos',\n",
              " 'searching soul mate ghost negotiates god three days earth find love meets woman need help',\n",
              " 'despite leaving college heartsick teen tries build new friendship kindred spirit even though dating ex-boyfriend',\n",
              " 'young married couple tries save disintegrating relationship turning fights songs help oddball neighbor',\n",
              " 'recast modern-day men tom sawyer huck finn draft misfit cronies help find buried treasure two sought since boyhood',\n",
              " 'heirless maharaj brajbhan leaves throne cousin vikram brajbhan wife badi rani finally conceives vikram plots destroy',\n",
              " 'small fierce group resistance fighters engages brutal battle protect village army burmese invaders',\n",
              " 'sent deadly international mission rival religious factions two men madcap antics along way take hilariously course',\n",
              " 'three young men leading carefree bachelors lives city face trials true love meet three beautiful women',\n",
              " 'living roof group unabashed friends wrestle everyday issues financial woes shared quarters romantic misfires',\n",
              " 'offered deal snitch fellow prisoners inmate faces tough dilemma act interest help may need',\n",
              " 'loving couple become rivals belle opens fusion bistro next ex-boyfriend kram traditional restaurant bangkok chic ari district',\n",
              " 'teenage parkour enthusiast bawdy restaurateur eclectic group characters find romance bangkok glittering silom district',\n",
              " 'kind computer repairman falls street-smart graffiti artist whose multiple personality disorder worsens witnesses double murder',\n",
              " 'bangkok chinatown spirited digital marketing expert falls blind fortune-teller love predestined end disaster',\n",
              " 'encounter engineer working night shift city train 30-year-old woman struggles odds pursue true love',\n",
              " 'explore history philosophies behind one world beloved successful soccer franchises fc barcelona',\n",
              " 'futile attempts better lives honest work three broke friends opt dubious means making money kidnapping ransom',\n",
              " 'laid-back civil servant wealthy video blogger struggle make modern couple amid strict saudi social conventions',\n",
              " 'torn mighty empire raised tribal people roman officer conflicted allegiances lead epic historical clash',\n",
              " 'blend cultural nuance mesmerizing techniques adds flavor globe-hopping celebration cooking tradition community',\n",
              " \"barbie sisters set swiss adventure majestic alps 're excited spend summer fun-filled riding academy\",\n",
              " 'visiting ken exploring coral reef barbie sisters make amazing discovery meet mysterious new friend',\n",
              " 'get know barbie bffs including next-door neighbor ken animated vlog adventures filmed inside family new dreamhouse',\n",
              " 'roberts family heads costa rica investigate mermaid legend barbie takes summer job water park run devious boss',\n",
              " 'surf champ merliah discovers actually mermaid girl body help dolphin merliah must rescue mom queen oceana',\n",
              " 'princess predictable life finds transformed magical butterfly kiss super sparkle crime-fighting superhero',\n",
              " 'royal princess courtney trades places famous rock star erika two worlds collide learn appreciate new friends experiences',\n",
              " 'join blond icon barbie fabulous friends behind-the-scenes adventures revealed animated web series',\n",
              " 'music magic barbie learns like modern princess trades places royal lookalike',\n",
              " 'hoverboard-riding princess cosmos barbie must band together team talented new friends save stars winking',\n",
              " 'devilish fairies capture ken fly away barbie raquelle travel glittering fairy world gloss angeles save',\n",
              " 'blair willows excited gets go princess charm school meets princesses delancy hadley searches magic crown',\n",
              " 'high-tech spy agency transforms barbie best friends secret agents using gymnastics skills bring cunning cat burglar',\n",
              " 'barbie stars princess would rather sing dance royal famous pop star visits kingdom decide switch places',\n",
              " 'pulled favorite video game barbie becomes fun roller-skating heroine battling sinister emoji trying take',\n",
              " 'iconic songstress barbra streisand culminates 13-city tour miami dazzling ballads broadway standards stories behind scenes',\n",
              " 'pursuing degree spain architecture student struggling grief meets fellow expatriate trying flee difficult family life',\n",
              " 'years disastrous job balochistan former indian spy must confront past returns lead unsanctioned hostage-rescue mission',\n",
              " 'falls love author novel adores bohemian bitti enlists help local printer find new object affection',\n",
              " 'girl raised government assassin wants normal teen runs away pretends high school exchange student',\n",
              " 'years rejecting barfii hearing speech impaired young man appropriate suitor shruti finds falling',\n",
              " 'four friends humble technical school compete elite students prestigious university robot-building contest',\n",
              " 'young barack obama forges identity dealing race divergent cultures ordinary life new york city college student',\n",
              " \"naïve young man rich city girl fall love stepfather however n't approve match stop nothing split pair\",\n",
              " 'two slackers made-up sport baseketball becomes national craze hope cash basketball/baseball hybrid popularity',\n",
              " 'detective investigating rock star brutal murder becomes drawn prime suspect mysterious novelist whose recent book mirrors crime',\n",
              " 'follow chinle high basketball team arizona navajo nation quest win state championship bring pride isolated community',\n",
              " 'curious talkative bat finds spooky fun streets fogville town quiet seems plucky girl brothers',\n",
              " 'father dies norman bates mother open hotel norman precarious mental state drives dark violent path',\n",
              " 'ambitious young athlete endeavors revive floundering running career falling prey negative influences',\n",
              " 'comedy writer david letterman unearths hidden world hilariously bizarre musicals turns toe-tapping obsession',\n",
              " 'joker makes life hell gordon family monstrous attempt prove batman one bad day drive good man madness',\n",
              " 'amalie dad goes bankrupt young dancer affluent life collapses finds new beat follow meeting hip-hop dancer mikael',\n",
              " 'polished fbi agent must team cynical cop dispatched battle creek michigan set office local precinct',\n",
              " 'team mercenaries working cia accepts off-the-books mission chernobyl deadly human-controlled droids prepare ambush',\n",
              " 'four-man team heads latvia poland unearth rare world war ii artifacts shed new light bloody battles eastern front',\n",
              " 'course fishing season tough men women pursue lucrative albacore tuna competitive waters oregon coast',\n",
              " 'dysfunctional middle-class family transformed attentions talented new chef vanishes along valuable jewels',\n",
              " 'young girl grows increasingly concerned rhino poaching village begins directly impact impoverished family',\n",
              " 'alone finland retired mexican boxer lives desolation weight agonizing past gets shot redemption ring',\n",
              " 'young man challenges traditional customs standing father woman loves promised wealthy expatriate',\n",
              " 'cooly confident aging hit man returns exile paris old city mumbai revisit past perform one last job',\n",
              " 'trace brave journey actor andy whitfield received devastating cancer diagnosis starring series spartacus blood sand',\n",
              " 'escape stress fame teen pop star jordan goes incognito small town forms special bond high school art student emily',\n",
              " 'boy band beat fame tore apart ten years later five friends ex-love reunite find closer ever',\n",
              " 'reconnecting girlhood crushes two sisters find lives turned upside surprising revelations romantic intrigue',\n",
              " 'bear buddies bucky bjorn play games go far-out adventures learn wondrous new things together',\n",
              " 'whoever came term bird brain never met feathered thinkers use claws beaks solve puzzles make tools',\n",
              " 'disaster-prone mr. bean sent los angeles guard famous painting unfit physical task everything goes hilariously wrong',\n",
              " 'well-known wildlife photographer living alone bohemian forest finds playing mama bear pair abandoned cubs',\n",
              " 'diverse crew experts dive deep origin stories mythological monsters building replicas creatures using 3d cgi technology',\n",
              " 'world beasts kinds coexist gentle wolf awakens predatory urges school deals murder within midst',\n",
              " 'civil war tears family apart young west african boy forced join unit mercenary fighters transform child soldier',\n",
              " 'songs made famous beatles five friendly bugs learn big lessons world around safety backyard',\n",
              " 'winning local talent show beat bugs journey compete bug factor televised singing contest held faraway rocket ship park',\n",
              " 'enduring business family upheavals ruthless investment director heart transplant finds new way look life love',\n",
              " 'chicago south side hip-hop prodigy august monroe navigates crippling anxiety new creative frontiers help unlikely mentor',\n",
              " 'back days disco mexico stars night documentary casts new light former queens mexican burlesque scene',\n",
              " 'homicide detective veteran turned beast military experiment gone awry become allies meet chance',\n",
              " 'finding desperate situation undercover agent emman asks former best friend erika join dangerous mission',\n",
              " 'beauty pageant contestants thailand fight crown contend drama intrigue behind scenes',\n",
              " 'realizing boob tube gone beavis butt-head set expedition takes las vegas nation capital',\n",
              " 'ladies man robin meets jamika falls head heels greets four surprises son girlfriend bebe three kids',\n",
              " 'losing world cup bet two hapless buddies must use wits pay debt big jakarta bookie action-packed comedy',\n",
              " 'two housemates get married financial convenience discover nothing simple comes demanding in-laws facing growing bond',\n",
              " 'trouble high jinks ensue man woman stumble bag full money town',\n",
              " 'join former first lady michelle obama intimate documentary looking life hopes connection others tours becoming',\n",
              " 'series looks stories behind athletes countries achieved world cup champion status',\n",
              " 'passionate romance roguish barrister tom lefroy serves inspiration works budding novelist jane austen',\n",
              " 'skeeter life turned upside fantastical stories makes entertain niece nephew inexplicably turn reality',\n",
              " \"barry worker bee stuck dead-end job making honey sues humans learns 've stealing bees nectar along\",\n",
              " 'single mother london camden town hears music meets handsome stranger past sure ready open heart',\n",
              " 'four female friends fast-paced city lagos nigeria endure public private pressures walk aisle age 30',\n",
              " 'forced continually relive day dies car crash privileged high schooler must unravel cosmic mystery suddenly looping life',\n",
              " 'still mourning death son mark jessie welcome foster child cody lives soon discover strange ability',\n",
              " 'leonardo dicaprio crisscrosses globe investigate consequences man-made globe warming measures taken reverse',\n",
              " 'ahead summer break couple heads seaside resort intimate interactions villagers make anything peaceful holiday',\n",
              " 'documentary japanese whaling industry garnered international attention amateur filmmaker decides tell rest story',\n",
              " 'dire setbacks 1940 winston churchill commissions new kind fighting force commandos trained use stealth audacious tactics',\n",
              " 'follow singer youtube sensation todrick hall launches original musical based growing gay texas finding showbiz success',\n",
              " 'meet growing worldwide community theorists defend belief earth flat living society vehemently rejects',\n",
              " \"confident cool pressure top news presenter punchalee meets match conniving dao 'll stop nothing fulfill ambitions\",\n",
              " 'ankara homicide detective dark personal life disdain rules political correctness solves murders fights police corruption',\n",
              " 'heart broken man seduced party young ambitious woman concocts scheme get revenge',\n",
              " 'retirement staring face all-time-great jump jockey pursues 20th consecutive title unrelenting quest glory',\n",
              " 'whoopi goldberg narrates elmo creator kevin clash remarkable journey working-class baltimore neighborhood jim henson sesame street',\n",
              " 'ambitious single tv journalist mary jane attempts balance career overbearing family increasingly messy love life',\n",
              " 'scorned wife city shares cab troubled villager fiery accident forces live lives',\n",
              " '200th anniversary battle waterloo thousands enthusiasts reenact epic clash one napoleon',\n",
              " 'aftermath 1967 arab-israeli war four young lebanese navigate existence along rapidly transforming political lines',\n",
              " 'two brothers become partners modest nightclub turn hottest spot town exhilarating run success comes price',\n",
              " 'documentary tries reconstruct series interviews family misguided attempt heal woman pain exorcism',\n",
              " 'life cheerleader bella dawson turns upside twist fate becomes quarterback middle school football team',\n",
              " 'artist muddles midlife crisis trying balance dimming career yearning better father',\n",
              " 'engaged fashion editor begins torrid affair female roofer threatens turn lives upside',\n",
              " 'magical little kingdom friends ben elf fairy princess holly fun adventures learn teamwork sharing problem-solving',\n",
              " \"ben transform ten types aliens 'll try 'em adventuring across country cousin gwen grandpa max\",\n",
              " 'backed full band ready wit actor ben platt opens personal songbook onstage —numbers debut lp sing instead',\n",
              " 'rookie lawyer emasculating past baseball break legal world manages law firm ragtag company softball team',\n",
              " 'documentary follows group ambitious advocates whose mission save lives haiti turns global fight health care justice',\n",
              " 'escaped psychopathic child killer faces one former victims since become hard-nosed detective',\n",
              " 'determined dog comes rescue helps heal broken family young boy sister stumble serious danger',\n",
              " 'benji back charming story told pooch point view tracking early days pup current life showbiz',\n",
              " 'press tour benji goes behind scenes santa workshop santa devastating secret benji save christmas',\n",
              " 'medically discharged soldier attempts improbable return motorcycle racing win enough prize money save father farm',\n",
              " 'dj ickarus top game dazzling fans touring world gets locked loony bin taking many drugs',\n",
              " 'losing streak puts debt 50,000 euros sponsors unlikely turkish-german boxer berlin finds need miracle',\n",
              " 'starts passionate one-night stand quickly turns sinister clare learns locked inside andi apartment way',\n",
              " 'cinematic sequel hit tv series lolle moved sven marry friend hart sven disrupts plans',\n",
              " 'set grey city cities love installment star-studded 10-story collection redemptive love crushing loss everyday romances',\n",
              " 'loner guts recruited griffith band mercenaries ensuing success full-fledged army could lead horrible fate',\n",
              " 'three years guts believed mission pursue griffith dream together order become griffith equal truly called friend guts realizes leave band hawk',\n",
              " 'year left band hawk guts rejoins epic battle vanquish god hand save griffith hellish fate',\n",
              " 'ever stand-up party animal comic bert kreischer riffs parenting family life gun pet owner dad discovering pot',\n",
              " 'shirtless comic bert kreischer relays personal secrets stories cool always responsible dad stand-up special',\n",
              " 'run-in grizzly bear partying russian mafia shirtless comic returns laugh-out-loud tales stand-up special',\n",
              " 'decadent pasta day-old fries skillful cooks transform tired leftovers tantalizing new dishes wildly creative culinary competition',\n",
              " 'two young stars different backgrounds agendas enter fake marriage advance careers fake starts turning real',\n",
              " 'just-married couple moves new home finding war kids next door seem determined make lives miserable',\n",
              " 'jerry seinfeld leslie jones kevin hart hannah gadsby laugh along funniest bits netflix 2020 stand-up comedy specials',\n",
              " 'unseen footage last table read documentary takes inside look final season acclaimed comedy series schitt creek',\n",
              " \"cast crew 1981 broadway musical merrily roll along recall joy heartbreak production surefire hit n't\",\n",
              " 'teenage friends plan epic trip comic-con meet idol get caught one hilariously awkward predicament another',\n",
              " 'hired displace tribal villagers make way new highway officials unearth old curse army british soldier-zombies',\n",
              " 'documentary follows rising tide bethany hamilton lost arm teen making waves pro surfing personal life',\n",
              " 'emmy-nominated prequel breaking bad follows small-time attorney jimmy mcgill transforms morally challenged lawyer saul goodman',\n",
              " 'family brink splitting become owners cutting-edge robot sought corporation homicide investigators terrorists',\n",
              " 'documentary dives complex world herbalife international nutritional products company accused pyramid scheme',\n",
              " 'documentary actress television producer betty white traces decades-long career woman breaking new ground entertainment',\n",
              " 'mysterious disease kills every resident 22 years old survivors town must fend government quarantines',\n",
              " 'former actress takes trip japan meets young man provides escape reality makes consider different way life',\n",
              " 'armed awkward questions zero self-awareness zach galifianakis hits road find famous interview subjects no-budget talk show',\n",
              " 'grieving dead wife daughter trucker plunges romance mother needs help dead however far gone',\n",
              " 'young woman faces pressure marry brother-in-law sister dies giving birth secretly love someone else',\n",
              " \"man suffering amnesia ca n't seem choose women playing tricks\",\n",
              " 'middle schooler valt aoi beyblade valtryek faces friends classmates rivals become world number one blader',\n",
              " 'scouted famous spanish club valt aoi heads spain sights world league teammates face european league first',\n",
              " 'training legendary valt aoi dante trusty ace dragon lead next generation bladers battle japan beyblade birthplace',\n",
              " 'yearning earn title world blading champion novice competitor must harness untamed potential training tournaments',\n",
              " 'anime adventure series kids forces good evil blade battling enchanted spinning tops',\n",
              " 'local musician band forced perform honor right-wing coup daughter schemes make music subversive instead',\n",
              " \"2011 cricket world cup begins three indians demonstrate passion sacrifices 've made country popular sport\",\n",
              " 'wake extraterrestrial invasion suspended l.a. cop teams survivors stop onslaught rescue human captives',\n",
              " 'secrets stranger things universe revealed cast guests discuss latest episodes host jim rash caution spoilers ahead',\n",
              " 'highlights 2020 tourney program offers inside look global showcase women cricket icc women t20 world cup',\n",
              " 'youthful drug dealer mumbai must change ways sister raised assaulted boss imprisoned defending',\n",
              " 'kind-hearted insurance agent mysterious power temporarily shoulder problems pain others comic results life',\n",
              " 'facing disapproving parents knotty love life inner critic aspiring comic ditches cushy unsatisfying life pursue stand-up',\n",
              " 'impulsive free-spirited woman defied convention much life suddenly finds flirting classic romance',\n",
              " 'theater group lands trouble new actress takes life two members framed murder one appear',\n",
              " 'first two-part biopic depicts early years lay foundation beloved marathi writer comedian p.l deshpande iconic career',\n",
              " 'second installment p.l deshpande biopic explores marathi humorist political journey philanthropic endeavors personal life',\n",
              " 'married two women unaware man finds double life threatened old friend knows not-so-little secret arrives',\n",
              " 'determined bring traditional bhangra world stage dancer preps international competition rival dreams',\n",
              " 'heart-wrenching coming-of-age story young boy embarks arduous trek debt-ridden father sell beloved family donkey',\n",
              " 'best friend killed uncovering political corruption idealistic young man decides become masked fighter justice',\n",
              " 'diwali celebrate chhota bheem friends put stage show ramayana re-enacting epic story behind festival lights',\n",
              " 'tired single smart-aleck meme creator chance prove girl loves suddenly appointed ceo workplace',\n",
              " 'siddharth dismisses warnings palace might haunted ghostly occurrences force reconsider beliefs',\n",
              " 'couple moves apartment wife increasingly disturbing behavior unravels chilling secrets new home past',\n",
              " '23-year-old girl married man twice age forced contend predatory nature male-dominated society',\n",
              " 'teen witch bibi horse-loving tina face trouble posh girl flirts tina boyfriend crook sets greedy eyes promising foal',\n",
              " 'robbers hit falkenstein castle teen witch bibi pal tina hunt crooks devise plan save neighbors failing ranch',\n",
              " 'summer camp young bibi friends pitted boys treasure hunt witch loses powers',\n",
              " 'teen witch bibi pal tina return screen reconcile runaway girl narrow-minded family save falkenstein castle chaos',\n",
              " 'busy mother father realize need help two young children hire series maids often humorous results',\n",
              " 'three teens free spirit offers grant wish choose become favorite superheroes launching series adventures',\n",
              " 'alcohol-fueled high jinks bachelor party go haywire buddies ill-fated groom abduct fiancée new lover',\n",
              " 'dumped girlfriend refuses accept responsibility overgrown adolescent sonny koufax adopts 5-year-old prove grownup',\n",
              " 'writer presenter monty helps england budding horticulturists plant grow gardens dreams',\n",
              " 'junior high students jason kaylee take action greedy hollywood producer turns jason essay hit film without giving credit',\n",
              " 'tenderfoot two gamblers seeking fortunes boom town instead find defending gunslinging preacher gang',\n",
              " 'reporter writes whales trapped arctic circle u.s. u.s.s.r. team rescue tale inspired true events',\n",
              " 'teenage friends find lives upended wonders horrors puberty edgy comedy real-life pals nick kroll andrew goldberg',\n",
              " 'single middle-aged woman lived whole life small virginia mining town uncovers family secret alters profoundly',\n",
              " 'documentary architect bjarke ingels offers vision world trade center aims restore manhattan skyline former glory',\n",
              " 'big time rush heads london first world tour boys bags switched get mixed mission save world',\n",
              " 'go backstage french rap duo bigflo oli intimate music documentary join superstar siblings embark major tour',\n",
              " 'video game concept stolen dishonest executive teenage chronic liar sets prove telling truth',\n",
              " 'british documentarian nick broomfield investigates murders rappers tupac shakur biggie smalls digging surprises process',\n",
              " 'documentary charts rise fall hot yoga founder bikram choudhury global empire born disturbing revelations come light',\n",
              " 'bill burr escapes zombie apocalypse explores rom-coms ruin great sex explains many childhood hugs may downfall man',\n",
              " 'musings comedian bill burr let loose special filmed historic fillmore auditorium san francisco',\n",
              " 'bill burr unloads outrage culture male feminism cultural appropriation robot sex blistering stand-up special shot london',\n",
              " 'no-nonsense comic bill burr takes stage nashville riffs fast food overpopulation dictators gorilla sign language',\n",
              " 'funnyman bill burr takes stage uncork profanity-laced incisive routine pokes fun plastic surgery reality tv gold diggers',\n",
              " 'bill hicks remembers wild night 1989 offers views puffing cigarettes smoking weed drinking sex commercials music',\n",
              " 'documentary comedian bill hicks offers insight irreverent takes well everything brother steve hicks star witness',\n",
              " 'one iconic performances late comedian bill hicks demonstrates made singular talent force reckoned',\n",
              " 'final recorded special iconoclastic comedian channels goat boy tackles provocative topics like british porn pot priesthood',\n",
              " 'filmed 1989 turning point comedian bill hicks career rare onstage performance captures spouting variety topics',\n",
              " 'emmy-winning host bill nye brings experts famous guests lab talk show exploring scientific issues touch lives',\n",
              " 'dynamic bow-tied host behind young adult science show faces climate-change skeptics demonstrates importance scientific evidence',\n",
              " \"indian village abuzz news major movie star coming town even town barber went school day actor visit approaches humble barber begins worry wo n't recognized\",\n",
              " 'boy trades boxing school ballet lessons may take newfound talent way top win disapproving father',\n",
              " 'documentary recounts life story evangelist preacher billy graham featuring interviews family members former presidents',\n",
              " 'comedian billy eichner sprints new york celebrities stun pedestrians unapologetic unfiltered unique pop culture questions',\n",
              " 'torn demanding corporate career passion music turbulent family life man struggles keep inner demons check',\n",
              " 'medical student enters top german university secret mission uncover conspiracy linking family tragedy visionary biology professor',\n",
              " 'inspired classic contemporary literature four renowned marathi directors create four individual stories anthology short films',\n",
              " 'istanbul mobster falls indian yoga instructor whose abduction takes wild rescue mission mumbai',\n",
              " 'five years ominous unseen presence drives society suicide survivor two children make desperate bid reach safety',\n",
              " 'bird watchers sides u.s.-mexico border share enthusiasm protecting preserving world beautiful species',\n",
              " 'sheltered farm girl inadvertently shoots endangered philippine eagle setting police investigation exposes violence corruption',\n",
              " 'attempt settle nature vs. nurture debate scientist couple raises three children live lives defy genetic dispositions',\n",
              " 'cracking demands children philandering thankless husband overworked suburban mother assumes persona ferocious dog',\n",
              " 'unconventional efficient interpol special agent goes rogue assembles team thieves catch shadowy hacker called ghost',\n",
              " 'elena michaels tries stray pack werewolves turned monster efforts thwarted string grisly murders',\n",
              " 'investigating disappearance teen girl tight-knit galician town civil guard officer uncovers secrets linked loss',\n",
              " '20 years abroad photographer returns birth country egypt gets stranded without identification unfamiliar culture',\n",
              " 'small-town wedding videographer falls love decides needs make money turns shooting sexy videos mixed results',\n",
              " 'small-town man takes dangerous gangster avenge father police officer ended life framed deadly crime',\n",
              " 'great famine ravages beloved country battle-hardened irishman deserts british empire exacts revenge tyrants responsible',\n",
              " 'low-income families move thriving black community chicago find odds politicians maintain status',\n",
              " 'victorian london 12-year-old business magnate ciel phantomhive thwarts dangers queen watched demon butler sebastian',\n",
              " 'drama portrays women kids living islamic state group yazidi slave undercover reporter recruited mom child snipers',\n",
              " 'adopted human rights attorney rwandan genocide legal investigator kate ashby confronts past takes war crimes cases',\n",
              " 'docudrama based same-titled book tracks aftermath 1993 bombing bombay eyes journalist covering story',\n",
              " 'u.s. forces attempt capture two underlings somali warlord helicopters shot americans suffer heavy casualties',\n",
              " 'blaming crooked media mogul death journalist sister surgeon enlists help beautiful psychologist get revenge',\n",
              " 'black-owned-and-operated hotspot ink harlem tattoo king ceaser looks expand empire working rambunctious crew',\n",
              " 'school principal retired superhero jefferson pierce leaps back action legendary black lightning gang threatens family',\n",
              " 'film chronicles health social problems african albinos face details fight waged behalf advocacy groups spain',\n",
              " 'sci-fi anthology series explores twisted high-tech near-future humanity greatest innovations darkest instincts collide',\n",
              " '1984 young programmer begins question reality adapts dark fantasy novel video game mind-bending tale multiple endings',\n",
              " 'cop fiancée jewelry designer father found dead together two bereaved ones face perilous aftermath theft gone wrong',\n",
              " \"t'challa superpowered new leader hidden highly advanced african nation wakanda strives protect home enemies old new\",\n",
              " 'number russian women brutally murdered los angeles police call moscow detective help track serial killer',\n",
              " 'hard-driving submarine captain hired steal gold sunken nazi sub honor among thieves underwater heist',\n",
              " 'discovering secret military prison attack terrorists ragtag group inmates best neutralize enemy',\n",
              " 'lazarus finds rae beaten near death acts father figure help redeem saving anyone lazarus must face demons',\n",
              " 'old tragedy lingering animosity erupt man returns patagonia convince estranged brother sell family isolated property',\n",
              " 'police chief eccentric new prosecutor investigate string grisly crimes eerie phenomena isolated town edge forest',\n",
              " 'dark early days zombie apocalypse complete strangers band together find strength need survive get back loved ones',\n",
              " 'fascinating documentary examines life performing killer whale tilikum caused deaths several people captivity',\n",
              " 'record-shattering korean girl band blackpink tell story detail hard-fought journey dreams trials behind meteoric rise',\n",
              " 'menaced psychopath got local cops scared waitress lillian turns mysterious old logger help turn tables stalker',\n",
              " 'inside vast self-replicating city bent eliminating life mysterious loner killy emerges guide remnant humanity desperate survive',\n",
              " 'influential unsung country songwriter reflects career love life drove write personal music',\n",
              " 'featuring boys johnny west gang zany transfer students recruited mysterious mission ordained shadowy principal',\n",
              " 'teenager ichigo kurosaki acquires superpowers wounded soul reaper rukia kuchiki two join forces round lost souls',\n",
              " 'mind fogged scimitar-weilding stranger mayuri destroys laboratory unleashing cloud reishi lays waste seiretei',\n",
              " 'group vicious sinners plots escape eternal prison hell discover substitute soul reaper ichigo key freedom sinners launch attack process kidnap ichigo younger sister',\n",
              " 'devastating injury derails career scrappy world champion boxer vinny pazienza determines make against-all-odds comeback',\n",
              " 'wrongfully convicted fraud honest man finds life prison comes measure freedom unavailable outside',\n",
              " \"passionate pianist soulful puzzle maker treasures silence n't best neighbors things get interesting start date\",\n",
              " 'cop loses vision detecting skills stay sharp luckily rookie officer recognizes extraordinary powers deduction',\n",
              " 'follow la wildly wealthy asian asian american fun seekers go fabulous parties glamour drama reality series',\n",
              " 'happy koala blinky bill spunky pals travel outback following clues help find long-lost father finally bring home',\n",
              " 'caught family pressures small-time crime-fighting pair bumbling cops tries bust massive drug deal go history',\n",
              " 'dumped video made amuse ailing dad heartsick jérémy hatches elaborate scheme win back superhero-loving girlfriend lola',\n",
              " 'condemned centuries-old vow protect kingdom treasures embittered spirit returns seek justice man wronged',\n",
              " 'crossing paths party cape town teen sets prove whether private-school swimming star sister abducted birth',\n",
              " 'ex-convict estranged father finds chance prove daughter seeks help shaking dangerous group drug dealers',\n",
              " 'ambitious kunal takes job diamond business life thrown turmoil drawn seedy underworld new career',\n",
              " 'commoner living ancient greece heron discovers true heritage son zeus purpose save world demonic army',\n",
              " 'ambitious tv reporter uses risky ethically questionable methods report gang wars police corruption amazon port belém brazil',\n",
              " 'family patriarch elías begins unravel death wife casts suspicious light tragic accident',\n",
              " 'black sheep son respected family threatens expose dark secrets past sibling loyalties put test',\n",
              " 'doomed passengers aboard spectral bus head toward gruesome unknown destination deliciously macabre horror anthology series',\n",
              " 'cocaine smuggler george rises poverty become one biggest drug dealers america eventual downfall',\n",
              " 'ten master artists turn heat glassblowing sculpture challenges chance win 60,000 prizes title champion',\n",
              " 'determined throw curse satan illegitimate son rin enters true cross academy become exorcist like mentor',\n",
              " 'determined fall love 15-year-old adele focused boys blue-haired girl meets street really piques interest',\n",
              " 'high life leads high anxiety fashionable new york city homemaker crisis finds forced live modest lifestyle',\n",
              " 'two former high school sweethearts unexpectedly reunite old hometown rediscover magical bond face shared regret',\n",
              " 'new nfl star thad buys old teammates beloved frat house renames thadland throws raunchiest debauched party school history',\n",
              " 'sequel award-winning nature series blue planet dives beneath earth oceans reveal dazzling vistas amazing creatures',\n",
              " 'bad news past unhinges vagabond dwight evans sending mission bloody retribution takes childhood hometown',\n",
              " 'jewel thief returns hiding place stint jail find diamond buried newly constructed police station',\n",
              " ...]"
            ]
          },
          "metadata": {},
          "execution_count": 44
        }
      ]
    },
    {
      "cell_type": "code",
      "source": [
        "from sklearn.feature_extraction.text import TfidfVectorizer\n",
        "tfidfmodel = TfidfVectorizer(max_features=5000)\n",
        "X_tfidf = tfidfmodel.fit_transform(X_clean)\n",
        "X_tfidf.shape"
      ],
      "metadata": {
        "colab": {
          "base_uri": "https://localhost:8080/"
        },
        "id": "Xk-AV27Vublc",
        "outputId": "8bac6c2e-01b7-476a-af41-35f3c856aa3d"
      },
      "execution_count": null,
      "outputs": [
        {
          "output_type": "execute_result",
          "data": {
            "text/plain": [
              "(7770, 5000)"
            ]
          },
          "metadata": {},
          "execution_count": 45
        }
      ]
    },
    {
      "cell_type": "code",
      "source": [
        "# convert X into array form for clustering\n",
        "X = X_tfidf.toarray()"
      ],
      "metadata": {
        "id": "dJOFDkSdu2Ho"
      },
      "execution_count": null,
      "outputs": []
    },
    {
      "cell_type": "code",
      "source": [
        "from sklearn.cluster import KMeans\n",
        "from sklearn.metrics import silhouette_score"
      ],
      "metadata": {
        "id": "BSO5dDi9vEJ_"
      },
      "execution_count": null,
      "outputs": []
    },
    {
      "cell_type": "code",
      "source": [
        "kmeans = KMeans( init=\"k-means++\", n_clusters=8, max_iter=300,   random_state=21)"
      ],
      "metadata": {
        "id": "xJTm3vKgvHCy"
      },
      "execution_count": null,
      "outputs": []
    },
    {
      "cell_type": "code",
      "source": [
        "from yellowbrick.cluster import KElbowVisualizer"
      ],
      "metadata": {
        "id": "DYz_wytZvJt_"
      },
      "execution_count": null,
      "outputs": []
    },
    {
      "cell_type": "code",
      "source": [
        "visualizer = KElbowVisualizer(kmeans, k=(2,20), metric= 'distortion', timings= False, locate_elbow= False)\n",
        "visualizer.fit(X)"
      ],
      "metadata": {
        "colab": {
          "base_uri": "https://localhost:8080/",
          "height": 528
        },
        "id": "JUeFlavavYjT",
        "outputId": "ca0fa83c-e2a3-44bb-d3f2-fd04ca5a1493"
      },
      "execution_count": null,
      "outputs": [
        {
          "output_type": "error",
          "ename": "KeyboardInterrupt",
          "evalue": "ignored",
          "traceback": [
            "\u001b[0;31m---------------------------------------------------------------------------\u001b[0m",
            "\u001b[0;31mKeyboardInterrupt\u001b[0m                         Traceback (most recent call last)",
            "\u001b[0;32m<__array_function__ internals>\u001b[0m in \u001b[0;36mwhere\u001b[0;34m(*args, **kwargs)\u001b[0m\n",
            "\u001b[0;31mKeyboardInterrupt\u001b[0m: "
          ]
        },
        {
          "output_type": "stream",
          "name": "stderr",
          "text": [
            "Exception ignored in: 'sklearn.cluster._k_means_common._relocate_empty_clusters_dense'\n",
            "Traceback (most recent call last):\n",
            "  File \"<__array_function__ internals>\", line 2, in where\n",
            "KeyboardInterrupt\n"
          ]
        },
        {
          "output_type": "error",
          "ename": "KeyboardInterrupt",
          "evalue": "ignored",
          "traceback": [
            "\u001b[0;31m---------------------------------------------------------------------------\u001b[0m",
            "\u001b[0;31mKeyboardInterrupt\u001b[0m                         Traceback (most recent call last)",
            "\u001b[0;32m<ipython-input-53-d6b66c03c231>\u001b[0m in \u001b[0;36m<module>\u001b[0;34m()\u001b[0m\n\u001b[1;32m      1\u001b[0m \u001b[0mvisualizer\u001b[0m \u001b[0;34m=\u001b[0m \u001b[0mKElbowVisualizer\u001b[0m\u001b[0;34m(\u001b[0m\u001b[0mkmeans\u001b[0m\u001b[0;34m,\u001b[0m \u001b[0mk\u001b[0m\u001b[0;34m=\u001b[0m\u001b[0;34m(\u001b[0m\u001b[0;36m2\u001b[0m\u001b[0;34m,\u001b[0m\u001b[0;36m20\u001b[0m\u001b[0;34m)\u001b[0m\u001b[0;34m,\u001b[0m \u001b[0mmetric\u001b[0m\u001b[0;34m=\u001b[0m \u001b[0;34m'distortion'\u001b[0m\u001b[0;34m,\u001b[0m \u001b[0mtimings\u001b[0m\u001b[0;34m=\u001b[0m \u001b[0;32mFalse\u001b[0m\u001b[0;34m,\u001b[0m \u001b[0mlocate_elbow\u001b[0m\u001b[0;34m=\u001b[0m \u001b[0;32mFalse\u001b[0m\u001b[0;34m)\u001b[0m\u001b[0;34m\u001b[0m\u001b[0;34m\u001b[0m\u001b[0m\n\u001b[0;32m----> 2\u001b[0;31m \u001b[0mvisualizer\u001b[0m\u001b[0;34m.\u001b[0m\u001b[0mfit\u001b[0m\u001b[0;34m(\u001b[0m\u001b[0mX\u001b[0m\u001b[0;34m)\u001b[0m\u001b[0;34m\u001b[0m\u001b[0;34m\u001b[0m\u001b[0m\n\u001b[0m",
            "\u001b[0;32m/usr/local/lib/python3.7/dist-packages/yellowbrick/cluster/elbow.py\u001b[0m in \u001b[0;36mfit\u001b[0;34m(self, X, y, **kwargs)\u001b[0m\n\u001b[1;32m    310\u001b[0m             \u001b[0;31m# Set the k value and fit the model\u001b[0m\u001b[0;34m\u001b[0m\u001b[0;34m\u001b[0m\u001b[0;34m\u001b[0m\u001b[0m\n\u001b[1;32m    311\u001b[0m             \u001b[0mself\u001b[0m\u001b[0;34m.\u001b[0m\u001b[0mestimator\u001b[0m\u001b[0;34m.\u001b[0m\u001b[0mset_params\u001b[0m\u001b[0;34m(\u001b[0m\u001b[0mn_clusters\u001b[0m\u001b[0;34m=\u001b[0m\u001b[0mk\u001b[0m\u001b[0;34m)\u001b[0m\u001b[0;34m\u001b[0m\u001b[0;34m\u001b[0m\u001b[0m\n\u001b[0;32m--> 312\u001b[0;31m             \u001b[0mself\u001b[0m\u001b[0;34m.\u001b[0m\u001b[0mestimator\u001b[0m\u001b[0;34m.\u001b[0m\u001b[0mfit\u001b[0m\u001b[0;34m(\u001b[0m\u001b[0mX\u001b[0m\u001b[0;34m,\u001b[0m \u001b[0;34m**\u001b[0m\u001b[0mkwargs\u001b[0m\u001b[0;34m)\u001b[0m\u001b[0;34m\u001b[0m\u001b[0;34m\u001b[0m\u001b[0m\n\u001b[0m\u001b[1;32m    313\u001b[0m \u001b[0;34m\u001b[0m\u001b[0m\n\u001b[1;32m    314\u001b[0m             \u001b[0;31m# Append the time and score to our plottable metrics\u001b[0m\u001b[0;34m\u001b[0m\u001b[0;34m\u001b[0m\u001b[0;34m\u001b[0m\u001b[0m\n",
            "\u001b[0;32m/usr/local/lib/python3.7/dist-packages/sklearn/cluster/_kmeans.py\u001b[0m in \u001b[0;36mfit\u001b[0;34m(self, X, y, sample_weight)\u001b[0m\n\u001b[1;32m   1181\u001b[0m             \u001b[0;31m# Initialize centers\u001b[0m\u001b[0;34m\u001b[0m\u001b[0;34m\u001b[0m\u001b[0;34m\u001b[0m\u001b[0m\n\u001b[1;32m   1182\u001b[0m             centers_init = self._init_centroids(\n\u001b[0;32m-> 1183\u001b[0;31m                 \u001b[0mX\u001b[0m\u001b[0;34m,\u001b[0m \u001b[0mx_squared_norms\u001b[0m\u001b[0;34m=\u001b[0m\u001b[0mx_squared_norms\u001b[0m\u001b[0;34m,\u001b[0m \u001b[0minit\u001b[0m\u001b[0;34m=\u001b[0m\u001b[0minit\u001b[0m\u001b[0;34m,\u001b[0m \u001b[0mrandom_state\u001b[0m\u001b[0;34m=\u001b[0m\u001b[0mrandom_state\u001b[0m\u001b[0;34m\u001b[0m\u001b[0;34m\u001b[0m\u001b[0m\n\u001b[0m\u001b[1;32m   1184\u001b[0m             )\n\u001b[1;32m   1185\u001b[0m             \u001b[0;32mif\u001b[0m \u001b[0mself\u001b[0m\u001b[0;34m.\u001b[0m\u001b[0mverbose\u001b[0m\u001b[0;34m:\u001b[0m\u001b[0;34m\u001b[0m\u001b[0;34m\u001b[0m\u001b[0m\n",
            "\u001b[0;32m/usr/local/lib/python3.7/dist-packages/sklearn/cluster/_kmeans.py\u001b[0m in \u001b[0;36m_init_centroids\u001b[0;34m(self, X, x_squared_norms, init, random_state, init_size)\u001b[0m\n\u001b[1;32m   1095\u001b[0m                 \u001b[0mn_clusters\u001b[0m\u001b[0;34m,\u001b[0m\u001b[0;34m\u001b[0m\u001b[0;34m\u001b[0m\u001b[0m\n\u001b[1;32m   1096\u001b[0m                 \u001b[0mrandom_state\u001b[0m\u001b[0;34m=\u001b[0m\u001b[0mrandom_state\u001b[0m\u001b[0;34m,\u001b[0m\u001b[0;34m\u001b[0m\u001b[0;34m\u001b[0m\u001b[0m\n\u001b[0;32m-> 1097\u001b[0;31m                 \u001b[0mx_squared_norms\u001b[0m\u001b[0;34m=\u001b[0m\u001b[0mx_squared_norms\u001b[0m\u001b[0;34m,\u001b[0m\u001b[0;34m\u001b[0m\u001b[0;34m\u001b[0m\u001b[0m\n\u001b[0m\u001b[1;32m   1098\u001b[0m             )\n\u001b[1;32m   1099\u001b[0m         \u001b[0;32melif\u001b[0m \u001b[0misinstance\u001b[0m\u001b[0;34m(\u001b[0m\u001b[0minit\u001b[0m\u001b[0;34m,\u001b[0m \u001b[0mstr\u001b[0m\u001b[0;34m)\u001b[0m \u001b[0;32mand\u001b[0m \u001b[0minit\u001b[0m \u001b[0;34m==\u001b[0m \u001b[0;34m\"random\"\u001b[0m\u001b[0;34m:\u001b[0m\u001b[0;34m\u001b[0m\u001b[0;34m\u001b[0m\u001b[0m\n",
            "\u001b[0;32m/usr/local/lib/python3.7/dist-packages/sklearn/cluster/_kmeans.py\u001b[0m in \u001b[0;36m_kmeans_plusplus\u001b[0;34m(X, n_clusters, x_squared_norms, random_state, n_local_trials)\u001b[0m\n\u001b[1;32m    217\u001b[0m         \u001b[0;31m# Compute distances to center candidates\u001b[0m\u001b[0;34m\u001b[0m\u001b[0;34m\u001b[0m\u001b[0;34m\u001b[0m\u001b[0m\n\u001b[1;32m    218\u001b[0m         distance_to_candidates = _euclidean_distances(\n\u001b[0;32m--> 219\u001b[0;31m             \u001b[0mX\u001b[0m\u001b[0;34m[\u001b[0m\u001b[0mcandidate_ids\u001b[0m\u001b[0;34m]\u001b[0m\u001b[0;34m,\u001b[0m \u001b[0mX\u001b[0m\u001b[0;34m,\u001b[0m \u001b[0mY_norm_squared\u001b[0m\u001b[0;34m=\u001b[0m\u001b[0mx_squared_norms\u001b[0m\u001b[0;34m,\u001b[0m \u001b[0msquared\u001b[0m\u001b[0;34m=\u001b[0m\u001b[0;32mTrue\u001b[0m\u001b[0;34m\u001b[0m\u001b[0;34m\u001b[0m\u001b[0m\n\u001b[0m\u001b[1;32m    220\u001b[0m         )\n\u001b[1;32m    221\u001b[0m \u001b[0;34m\u001b[0m\u001b[0m\n",
            "\u001b[0;32m/usr/local/lib/python3.7/dist-packages/sklearn/metrics/pairwise.py\u001b[0m in \u001b[0;36m_euclidean_distances\u001b[0;34m(X, Y, X_norm_squared, Y_norm_squared, squared)\u001b[0m\n\u001b[1;32m    366\u001b[0m     \u001b[0;32melse\u001b[0m\u001b[0;34m:\u001b[0m\u001b[0;34m\u001b[0m\u001b[0;34m\u001b[0m\u001b[0m\n\u001b[1;32m    367\u001b[0m         \u001b[0;31m# if dtype is already float64, no need to chunk and upcast\u001b[0m\u001b[0;34m\u001b[0m\u001b[0;34m\u001b[0m\u001b[0;34m\u001b[0m\u001b[0m\n\u001b[0;32m--> 368\u001b[0;31m         \u001b[0mdistances\u001b[0m \u001b[0;34m=\u001b[0m \u001b[0;34m-\u001b[0m\u001b[0;36m2\u001b[0m \u001b[0;34m*\u001b[0m \u001b[0msafe_sparse_dot\u001b[0m\u001b[0;34m(\u001b[0m\u001b[0mX\u001b[0m\u001b[0;34m,\u001b[0m \u001b[0mY\u001b[0m\u001b[0;34m.\u001b[0m\u001b[0mT\u001b[0m\u001b[0;34m,\u001b[0m \u001b[0mdense_output\u001b[0m\u001b[0;34m=\u001b[0m\u001b[0;32mTrue\u001b[0m\u001b[0;34m)\u001b[0m\u001b[0;34m\u001b[0m\u001b[0;34m\u001b[0m\u001b[0m\n\u001b[0m\u001b[1;32m    369\u001b[0m         \u001b[0mdistances\u001b[0m \u001b[0;34m+=\u001b[0m \u001b[0mXX\u001b[0m\u001b[0;34m\u001b[0m\u001b[0;34m\u001b[0m\u001b[0m\n\u001b[1;32m    370\u001b[0m         \u001b[0mdistances\u001b[0m \u001b[0;34m+=\u001b[0m \u001b[0mYY\u001b[0m\u001b[0;34m\u001b[0m\u001b[0;34m\u001b[0m\u001b[0m\n",
            "\u001b[0;32m/usr/local/lib/python3.7/dist-packages/sklearn/utils/extmath.py\u001b[0m in \u001b[0;36msafe_sparse_dot\u001b[0;34m(a, b, dense_output)\u001b[0m\n\u001b[1;32m    151\u001b[0m             \u001b[0mret\u001b[0m \u001b[0;34m=\u001b[0m \u001b[0mnp\u001b[0m\u001b[0;34m.\u001b[0m\u001b[0mdot\u001b[0m\u001b[0;34m(\u001b[0m\u001b[0ma\u001b[0m\u001b[0;34m,\u001b[0m \u001b[0mb\u001b[0m\u001b[0;34m)\u001b[0m\u001b[0;34m\u001b[0m\u001b[0;34m\u001b[0m\u001b[0m\n\u001b[1;32m    152\u001b[0m     \u001b[0;32melse\u001b[0m\u001b[0;34m:\u001b[0m\u001b[0;34m\u001b[0m\u001b[0;34m\u001b[0m\u001b[0m\n\u001b[0;32m--> 153\u001b[0;31m         \u001b[0mret\u001b[0m \u001b[0;34m=\u001b[0m \u001b[0ma\u001b[0m \u001b[0;34m@\u001b[0m \u001b[0mb\u001b[0m\u001b[0;34m\u001b[0m\u001b[0;34m\u001b[0m\u001b[0m\n\u001b[0m\u001b[1;32m    154\u001b[0m \u001b[0;34m\u001b[0m\u001b[0m\n\u001b[1;32m    155\u001b[0m     if (\n",
            "\u001b[0;31mKeyboardInterrupt\u001b[0m: "
          ]
        }
      ]
    },
    {
      "cell_type": "code",
      "source": [
        "sse=[]\n",
        "for i in range(1,20):\n",
        "    model = KMeans(n_clusters=i)\n",
        "    model.fit(X)\n",
        "    error = model.inertia_\n",
        "    sse.append(error)\n",
        "    print('cluster: %d \\t SSE: %0.2f'%(i,error))"
      ],
      "metadata": {
        "colab": {
          "base_uri": "https://localhost:8080/"
        },
        "id": "LHvR635GvaNw",
        "outputId": "3a48ac1f-c6f7-4ca3-dbcd-d73ce58c283a"
      },
      "execution_count": null,
      "outputs": [
        {
          "output_type": "stream",
          "name": "stdout",
          "text": [
            "cluster: 1 \t SSE: 7717.56\n",
            "cluster: 2 \t SSE: 7698.78\n",
            "cluster: 3 \t SSE: 7682.32\n",
            "cluster: 4 \t SSE: 7670.68\n",
            "cluster: 5 \t SSE: 7657.25\n",
            "cluster: 6 \t SSE: 7644.05\n",
            "cluster: 7 \t SSE: 7629.27\n",
            "cluster: 8 \t SSE: 7624.08\n",
            "cluster: 9 \t SSE: 7609.52\n",
            "cluster: 10 \t SSE: 7597.72\n",
            "cluster: 11 \t SSE: 7588.71\n",
            "cluster: 12 \t SSE: 7578.60\n",
            "cluster: 13 \t SSE: 7573.08\n",
            "cluster: 14 \t SSE: 7570.46\n",
            "cluster: 15 \t SSE: 7554.63\n",
            "cluster: 16 \t SSE: 7550.21\n",
            "cluster: 17 \t SSE: 7540.79\n",
            "cluster: 18 \t SSE: 7529.53\n",
            "cluster: 19 \t SSE: 7527.86\n"
          ]
        }
      ]
    },
    {
      "cell_type": "code",
      "source": [
        "plt.plot(sse,'bs--')\n",
        "plt.xticks(list(range(0,19)),list(range(1,20)))\n",
        "plt.grid(),plt.xlabel('Number of cluster')\n",
        "plt.show()"
      ],
      "metadata": {
        "colab": {
          "base_uri": "https://localhost:8080/",
          "height": 362
        },
        "id": "R4n4dR4uwtx2",
        "outputId": "ac58c13b-7a44-4328-e281-ee4f4986a221"
      },
      "execution_count": null,
      "outputs": [
        {
          "output_type": "display_data",
          "data": {
            "image/png": "[encoded data removed]",
            "text/plain": [
              "<Figure size 576x396 with 1 Axes>"
            ]
          },
          "metadata": {}
        }
      ]
    },
    {
      "cell_type": "code",
      "source": [
        "sill = [] # sillhoute score\n",
        "for i in range(2,20):\n",
        "    model = KMeans(n_clusters=i)\n",
        "    model.fit(X)\n",
        "    y1 = model.predict(X)\n",
        "    score = silhouette_score(X,y1)\n",
        "    sill.append(score)\n",
        "    print('cluster: %d \\t Sillhoute: %0.2f'%(i,score))"
      ],
      "metadata": {
        "colab": {
          "base_uri": "https://localhost:8080/"
        },
        "id": "6wiJ3BJw1Afp",
        "outputId": "0a8999e1-4a0d-45cf-df4c-d37012a082d2"
      },
      "execution_count": null,
      "outputs": [
        {
          "output_type": "stream",
          "name": "stdout",
          "text": [
            "cluster: 2 \t Sillhoute: 0.00\n",
            "cluster: 3 \t Sillhoute: 0.00\n",
            "cluster: 4 \t Sillhoute: 0.00\n",
            "cluster: 5 \t Sillhoute: 0.00\n",
            "cluster: 6 \t Sillhoute: 0.00\n",
            "cluster: 7 \t Sillhoute: 0.00\n",
            "cluster: 8 \t Sillhoute: 0.00\n",
            "cluster: 9 \t Sillhoute: 0.00\n",
            "cluster: 10 \t Sillhoute: 0.00\n",
            "cluster: 11 \t Sillhoute: 0.00\n",
            "cluster: 12 \t Sillhoute: 0.00\n",
            "cluster: 13 \t Sillhoute: 0.01\n",
            "cluster: 14 \t Sillhoute: 0.01\n",
            "cluster: 15 \t Sillhoute: 0.01\n",
            "cluster: 16 \t Sillhoute: 0.01\n",
            "cluster: 17 \t Sillhoute: 0.01\n",
            "cluster: 18 \t Sillhoute: 0.01\n",
            "cluster: 19 \t Sillhoute: 0.01\n"
          ]
        }
      ]
    },
    {
      "cell_type": "code",
      "source": [
        "plt.plot(sill,'bs--')\n",
        "plt.xticks(list(range(0,19)),list(range(2,21)))\n",
        "plt.grid(),plt.xlabel('Number of cluster')\n",
        "plt.show()"
      ],
      "metadata": {
        "id": "D3URxgqF1GIF",
        "colab": {
          "base_uri": "https://localhost:8080/",
          "height": 361
        },
        "outputId": "b5c4653f-47ec-49bd-d95d-ca6a8086e254"
      },
      "execution_count": null,
      "outputs": [
        {
          "output_type": "display_data",
          "data": {
            "image/png": "[encoded data removed]",
            "text/plain": [
              "<Figure size 576x396 with 1 Axes>"
            ]
          },
          "metadata": {}
        }
      ]
    },
    {
      "cell_type": "code",
      "source": [
        "np.array(sill).argmax() + 2"
      ],
      "metadata": {
        "colab": {
          "base_uri": "https://localhost:8080/"
        },
        "id": "DVR3TGDv6VRb",
        "outputId": "0cd83afb-616c-4d78-8221-0788dad01603"
      },
      "execution_count": null,
      "outputs": [
        {
          "output_type": "execute_result",
          "data": {
            "text/plain": [
              "19"
            ]
          },
          "metadata": {},
          "execution_count": 58
        }
      ]
    },
    {
      "cell_type": "code",
      "source": [
        "model_final = KMeans(n_clusters=19)\n",
        "model_final.fit(X)"
      ],
      "metadata": {
        "colab": {
          "base_uri": "https://localhost:8080/"
        },
        "id": "-p0llswI6jcT",
        "outputId": "4aa78a5d-1993-4111-b21d-f641abfa932b"
      },
      "execution_count": null,
      "outputs": [
        {
          "output_type": "execute_result",
          "data": {
            "text/plain": [
              "KMeans(n_clusters=19)"
            ]
          },
          "metadata": {},
          "execution_count": 59
        }
      ]
    },
    {
      "cell_type": "code",
      "source": [
        "y_pred = model_final.predict(X)\n",
        "centres = model_final.cluster_centers_\n",
        "centres"
      ],
      "metadata": {
        "colab": {
          "base_uri": "https://localhost:8080/"
        },
        "id": "giJL7L-G6snw",
        "outputId": "c4bf719e-9c0e-46f6-bbe6-2f99041a1eda"
      },
      "execution_count": null,
      "outputs": [
        {
          "output_type": "execute_result",
          "data": {
            "text/plain": [
              "array([[ 1.45108421e-03,  1.08739956e-03,  8.30091513e-04, ...,\n",
              "         8.34266556e-04,  9.83788842e-05,  5.89411695e-04],\n",
              "       [ 3.39532696e-03,  1.52159068e-02, -1.19262239e-18, ...,\n",
              "        -9.75781955e-19,  2.88943972e-03,  1.08420217e-19],\n",
              "       [-3.90312782e-18,  2.07338997e-03, -7.58941521e-19, ...,\n",
              "        -1.08420217e-18,  1.53155344e-03,  1.29364210e-03],\n",
              "       ...,\n",
              "       [-3.46944695e-18, -4.33680869e-19, -1.30104261e-18, ...,\n",
              "        -8.67361738e-19, -8.67361738e-19,  0.00000000e+00],\n",
              "       [-2.60208521e-18, -1.73472348e-18, -7.58941521e-19, ...,\n",
              "         3.56939950e-03,  2.19765730e-03, -2.71050543e-19],\n",
              "       [ 1.82671182e-03,  9.06102255e-04, -5.42101086e-19, ...,\n",
              "        -1.08420217e-18, -1.02999206e-18,  1.05317638e-03]])"
            ]
          },
          "metadata": {},
          "execution_count": 60
        }
      ]
    },
    {
      "cell_type": "code",
      "source": [
        "df.head(2)"
      ],
      "metadata": {
        "colab": {
          "base_uri": "https://localhost:8080/",
          "height": 208
        },
        "id": "dXv8XfOf7OaT",
        "outputId": "208dcbf8-a225-4476-cc42-daecac9667b9"
      },
      "execution_count": null,
      "outputs": [
        {
          "output_type": "execute_result",
          "data": {
            "text/html": [
              "\n",
              "  <div id=\"df-2a5e0b2c-e15f-4f84-8d5f-d55a4945b4db\">\n",
              "    <div class=\"colab-df-container\">\n",
              "      <div>\n",
              "<style scoped>\n",
              "    .dataframe tbody tr th:only-of-type {\n",
              "        vertical-align: middle;\n",
              "    }\n",
              "\n",
              "    .dataframe tbody tr th {\n",
              "        vertical-align: top;\n",
              "    }\n",
              "\n",
              "    .dataframe thead th {\n",
              "        text-align: right;\n",
              "    }\n",
              "</style>\n",
              "<table border=\"1\" class=\"dataframe\">\n",
              "  <thead>\n",
              "    <tr style=\"text-align: right;\">\n",
              "      <th></th>\n",
              "      <th>show_id</th>\n",
              "      <th>type</th>\n",
              "      <th>title</th>\n",
              "      <th>director</th>\n",
              "      <th>cast</th>\n",
              "      <th>country</th>\n",
              "      <th>date_added</th>\n",
              "      <th>release_year</th>\n",
              "      <th>rating</th>\n",
              "      <th>duration</th>\n",
              "      <th>listed_in</th>\n",
              "      <th>description</th>\n",
              "      <th>year_added</th>\n",
              "      <th>month_added</th>\n",
              "      <th>target_ages</th>\n",
              "    </tr>\n",
              "  </thead>\n",
              "  <tbody>\n",
              "    <tr>\n",
              "      <th>0</th>\n",
              "      <td>s1</td>\n",
              "      <td>TV Show</td>\n",
              "      <td>3%</td>\n",
              "      <td>Not Mentioned</td>\n",
              "      <td>João Miguel, Bianca Comparato, Michel Gomes, R...</td>\n",
              "      <td>Brazil</td>\n",
              "      <td>2020-08-14</td>\n",
              "      <td>2020</td>\n",
              "      <td>TV-MA</td>\n",
              "      <td>4 Seasons</td>\n",
              "      <td>International TV Shows, TV Dramas, TV Sci-Fi &amp;...</td>\n",
              "      <td>In a future where the elite inhabit an island ...</td>\n",
              "      <td>2020</td>\n",
              "      <td>August</td>\n",
              "      <td>Adults</td>\n",
              "    </tr>\n",
              "    <tr>\n",
              "      <th>1</th>\n",
              "      <td>s2</td>\n",
              "      <td>Movie</td>\n",
              "      <td>7:19</td>\n",
              "      <td>Jorge Michel Grau</td>\n",
              "      <td>Demián Bichir, Héctor Bonilla, Oscar Serrano, ...</td>\n",
              "      <td>Mexico</td>\n",
              "      <td>2016-12-23</td>\n",
              "      <td>2016</td>\n",
              "      <td>TV-MA</td>\n",
              "      <td>93 min</td>\n",
              "      <td>Dramas, International Movies</td>\n",
              "      <td>After a devastating earthquake hits Mexico Cit...</td>\n",
              "      <td>2016</td>\n",
              "      <td>December</td>\n",
              "      <td>Adults</td>\n",
              "    </tr>\n",
              "  </tbody>\n",
              "</table>\n",
              "</div>\n",
              "      <button class=\"colab-df-convert\" onclick=\"convertToInteractive('df-2a5e0b2c-e15f-4f84-8d5f-d55a4945b4db')\"\n",
              "              title=\"Convert this dataframe to an interactive table.\"\n",
              "              style=\"display:none;\">\n",
              "        \n",
              "  <svg xmlns=\"http://www.w3.org/2000/svg\" height=\"24px\"viewBox=\"0 0 24 24\"\n",
              "       width=\"24px\">\n",
              "    <path d=\"M0 0h24v24H0V0z\" fill=\"none\"/>\n",
              "    <path d=\"M18.56 5.44l.94 2.06.94-2.06 2.06-.94-2.06-.94-.94-2.06-.94 2.06-2.06.94zm-11 1L8.5 8.5l.94-2.06 2.06-.94-2.06-.94L8.5 2.5l-.94 2.06-2.06.94zm10 10l.94 2.06.94-2.06 2.06-.94-2.06-.94-.94-2.06-.94 2.06-2.06.94z\"/><path d=\"M17.41 7.96l-1.37-1.37c-.4-.4-.92-.59-1.43-.59-.52 0-1.04.2-1.43.59L10.3 9.45l-7.72 7.72c-.78.78-.78 2.05 0 2.83L4 21.41c.39.39.9.59 1.41.59.51 0 1.02-.2 1.41-.59l7.78-7.78 2.81-2.81c.8-.78.8-2.07 0-2.86zM5.41 20L4 18.59l7.72-7.72 1.47 1.35L5.41 20z\"/>\n",
              "  </svg>\n",
              "      </button>\n",
              "      \n",
              "  <style>\n",
              "    .colab-df-container {\n",
              "      display:flex;\n",
              "      flex-wrap:wrap;\n",
              "      gap: 12px;\n",
              "    }\n",
              "\n",
              "    .colab-df-convert {\n",
              "      background-color: #E8F0FE;\n",
              "      border: none;\n",
              "      border-radius: 50%;\n",
              "      cursor: pointer;\n",
              "      display: none;\n",
              "      fill: #1967D2;\n",
              "      height: 32px;\n",
              "      padding: 0 0 0 0;\n",
              "      width: 32px;\n",
              "    }\n",
              "\n",
              "    .colab-df-convert:hover {\n",
              "      background-color: #E2EBFA;\n",
              "      box-shadow: 0px 1px 2px rgba(60, 64, 67, 0.3), 0px 1px 3px 1px rgba(60, 64, 67, 0.15);\n",
              "      fill: #174EA6;\n",
              "    }\n",
              "\n",
              "    [theme=dark] .colab-df-convert {\n",
              "      background-color: #3B4455;\n",
              "      fill: #D2E3FC;\n",
              "    }\n",
              "\n",
              "    [theme=dark] .colab-df-convert:hover {\n",
              "      background-color: #434B5C;\n",
              "      box-shadow: 0px 1px 3px 1px rgba(0, 0, 0, 0.15);\n",
              "      filter: drop-shadow(0px 1px 2px rgba(0, 0, 0, 0.3));\n",
              "      fill: #FFFFFF;\n",
              "    }\n",
              "  </style>\n",
              "\n",
              "      <script>\n",
              "        const buttonEl =\n",
              "          document.querySelector('#df-2a5e0b2c-e15f-4f84-8d5f-d55a4945b4db button.colab-df-convert');\n",
              "        buttonEl.style.display =\n",
              "          google.colab.kernel.accessAllowed ? 'block' : 'none';\n",
              "\n",
              "        async function convertToInteractive(key) {\n",
              "          const element = document.querySelector('#df-2a5e0b2c-e15f-4f84-8d5f-d55a4945b4db');\n",
              "          const dataTable =\n",
              "            await google.colab.kernel.invokeFunction('convertToInteractive',\n",
              "                                                     [key], {});\n",
              "          if (!dataTable) return;\n",
              "\n",
              "          const docLinkHtml = 'Like what you see? Visit the ' +\n",
              "            '<a target=\"_blank\" href=https://colab.research.google.com/notebooks/data_table.ipynb>data table notebook</a>'\n",
              "            + ' to learn more about interactive tables.';\n",
              "          element.innerHTML = '';\n",
              "          dataTable['output_type'] = 'display_data';\n",
              "          await google.colab.output.renderOutput(dataTable, element);\n",
              "          const docLink = document.createElement('div');\n",
              "          docLink.innerHTML = docLinkHtml;\n",
              "          element.appendChild(docLink);\n",
              "        }\n",
              "      </script>\n",
              "    </div>\n",
              "  </div>\n",
              "  "
            ],
            "text/plain": [
              "  show_id     type title  ... year_added month_added target_ages\n",
              "0      s1  TV Show    3%  ...       2020      August      Adults\n",
              "1      s2    Movie  7:19  ...       2016    December      Adults\n",
              "\n",
              "[2 rows x 15 columns]"
            ]
          },
          "metadata": {},
          "execution_count": 61
        }
      ]
    },
    {
      "cell_type": "code",
      "source": [
        ""
      ],
      "metadata": {
        "id": "JibFz3dV7Y38"
      },
      "execution_count": null,
      "outputs": []
    }
  ]
}